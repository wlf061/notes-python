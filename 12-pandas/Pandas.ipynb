{
 "cells": [
  {
   "cell_type": "markdown",
   "metadata": {},
   "source": [
    "# pandas"
   ]
  },
  {
   "cell_type": "markdown",
   "metadata": {},
   "source": [
    "## 引入约定"
   ]
  },
  {
   "cell_type": "code",
   "execution_count": 6,
   "metadata": {
    "collapsed": true
   },
   "outputs": [],
   "source": [
    "import pandas as pd\n",
    "import numpy as np"
   ]
  },
  {
   "cell_type": "code",
   "execution_count": 7,
   "metadata": {
    "collapsed": true
   },
   "outputs": [],
   "source": [
    "from pandas import DataFrame,Series  # 数据框、一维数组"
   ]
  },
  {
   "cell_type": "markdown",
   "metadata": {},
   "source": [
    "## Series   一维数组"
   ]
  },
  {
   "cell_type": "code",
   "execution_count": 8,
   "metadata": {
    "collapsed": false
   },
   "outputs": [],
   "source": [
    "arr=np.arange(20)   #建立一个数组"
   ]
  },
  {
   "cell_type": "code",
   "execution_count": 9,
   "metadata": {
    "collapsed": true
   },
   "outputs": [],
   "source": [
    "series=Series(arr)  #一个一维数组对象"
   ]
  },
  {
   "cell_type": "code",
   "execution_count": 10,
   "metadata": {
    "collapsed": false
   },
   "outputs": [
    {
     "data": {
      "text/plain": [
       "0      0\n",
       "1      1\n",
       "2      2\n",
       "3      3\n",
       "4      4\n",
       "5      5\n",
       "6      6\n",
       "7      7\n",
       "8      8\n",
       "9      9\n",
       "10    10\n",
       "11    11\n",
       "12    12\n",
       "13    13\n",
       "14    14\n",
       "15    15\n",
       "16    16\n",
       "17    17\n",
       "18    18\n",
       "19    19\n",
       "dtype: int32"
      ]
     },
     "execution_count": 10,
     "metadata": {},
     "output_type": "execute_result"
    }
   ],
   "source": [
    "series"
   ]
  },
  {
   "cell_type": "markdown",
   "metadata": {},
   "source": [
    "### 查看索引列"
   ]
  },
  {
   "cell_type": "code",
   "execution_count": 11,
   "metadata": {
    "collapsed": false
   },
   "outputs": [
    {
     "data": {
      "text/plain": [
       "RangeIndex(start=0, stop=20, step=1)"
      ]
     },
     "execution_count": 11,
     "metadata": {},
     "output_type": "execute_result"
    }
   ],
   "source": [
    "series.index"
   ]
  },
  {
   "cell_type": "markdown",
   "metadata": {},
   "source": [
    "### 数据index绑定"
   ]
  },
  {
   "cell_type": "code",
   "execution_count": 18,
   "metadata": {
    "collapsed": true
   },
   "outputs": [],
   "source": [
    "series1=Series([70,89,67],index=['张三','李四','王屋']) #index实现索引的绑定"
   ]
  },
  {
   "cell_type": "code",
   "execution_count": 19,
   "metadata": {
    "collapsed": false
   },
   "outputs": [
    {
     "data": {
      "text/plain": [
       "张三    70\n",
       "李四    89\n",
       "王屋    67\n",
       "dtype: int64"
      ]
     },
     "execution_count": 19,
     "metadata": {},
     "output_type": "execute_result"
    }
   ],
   "source": [
    "series1"
   ]
  },
  {
   "cell_type": "code",
   "execution_count": 20,
   "metadata": {
    "collapsed": false
   },
   "outputs": [
    {
     "data": {
      "text/plain": [
       "array([70, 89, 67], dtype=int64)"
      ]
     },
     "execution_count": 20,
     "metadata": {},
     "output_type": "execute_result"
    }
   ],
   "source": [
    "series1.values #查看数据列"
   ]
  },
  {
   "cell_type": "code",
   "execution_count": 21,
   "metadata": {
    "collapsed": false
   },
   "outputs": [
    {
     "data": {
      "text/plain": [
       "dtype('int64')"
      ]
     },
     "execution_count": 21,
     "metadata": {},
     "output_type": "execute_result"
    }
   ],
   "source": [
    "series1.dtype #查看数据类型"
   ]
  },
  {
   "cell_type": "markdown",
   "metadata": {},
   "source": [
    "## 缺失值的检测"
   ]
  },
  {
   "cell_type": "markdown",
   "metadata": {},
   "source": [
    "* isnull"
   ]
  },
  {
   "cell_type": "code",
   "execution_count": 23,
   "metadata": {
    "collapsed": true
   },
   "outputs": [],
   "source": [
    "Series2=Series([1,2,3,4,np.NaN,5,6,8,9])"
   ]
  },
  {
   "cell_type": "code",
   "execution_count": 24,
   "metadata": {
    "collapsed": false
   },
   "outputs": [
    {
     "data": {
      "text/plain": [
       "0    1.0\n",
       "1    2.0\n",
       "2    3.0\n",
       "3    4.0\n",
       "4    NaN\n",
       "5    5.0\n",
       "6    6.0\n",
       "7    8.0\n",
       "8    9.0\n",
       "dtype: float64"
      ]
     },
     "execution_count": 24,
     "metadata": {},
     "output_type": "execute_result"
    }
   ],
   "source": [
    "Series2"
   ]
  },
  {
   "cell_type": "code",
   "execution_count": 28,
   "metadata": {
    "collapsed": false
   },
   "outputs": [
    {
     "data": {
      "text/plain": [
       "0    False\n",
       "1    False\n",
       "2    False\n",
       "3    False\n",
       "4     True\n",
       "5    False\n",
       "6    False\n",
       "7    False\n",
       "8    False\n",
       "dtype: bool"
      ]
     },
     "execution_count": 28,
     "metadata": {},
     "output_type": "execute_result"
    }
   ],
   "source": [
    "Series2.isnull()   # 为空的元素，返回True"
   ]
  },
  {
   "cell_type": "markdown",
   "metadata": {},
   "source": [
    "* notnull"
   ]
  },
  {
   "cell_type": "code",
   "execution_count": 27,
   "metadata": {
    "collapsed": false
   },
   "outputs": [
    {
     "data": {
      "text/plain": [
       "0     True\n",
       "1     True\n",
       "2     True\n",
       "3     True\n",
       "4    False\n",
       "5     True\n",
       "6     True\n",
       "7     True\n",
       "8     True\n",
       "dtype: bool"
      ]
     },
     "execution_count": 27,
     "metadata": {},
     "output_type": "execute_result"
    }
   ],
   "source": [
    "Series2.notnull() # 不为空的元素，返回True"
   ]
  },
  {
   "cell_type": "code",
   "execution_count": 41,
   "metadata": {
    "collapsed": false
   },
   "outputs": [],
   "source": [
    "s1=Series([1,2,3,4,5],index=['a','b','c','d','e'])"
   ]
  },
  {
   "cell_type": "code",
   "execution_count": 42,
   "metadata": {
    "collapsed": true
   },
   "outputs": [],
   "source": [
    "s2=Series([1,2,3,4,5],index=['b','a','e','c','d'])"
   ]
  },
  {
   "cell_type": "code",
   "execution_count": 43,
   "metadata": {
    "collapsed": false
   },
   "outputs": [
    {
     "data": {
      "text/plain": [
       "b    1\n",
       "a    2\n",
       "e    3\n",
       "c    4\n",
       "d    5\n",
       "dtype: int64"
      ]
     },
     "execution_count": 43,
     "metadata": {},
     "output_type": "execute_result"
    }
   ],
   "source": [
    "s2"
   ]
  },
  {
   "cell_type": "code",
   "execution_count": 44,
   "metadata": {
    "collapsed": false
   },
   "outputs": [
    {
     "data": {
      "text/plain": [
       "a     2\n",
       "b     2\n",
       "c    12\n",
       "d    20\n",
       "e    15\n",
       "dtype: int64"
      ]
     },
     "execution_count": 44,
     "metadata": {},
     "output_type": "execute_result"
    }
   ],
   "source": [
    "s1*s2"
   ]
  },
  {
   "cell_type": "code",
   "execution_count": 45,
   "metadata": {
    "collapsed": false
   },
   "outputs": [
    {
     "data": {
      "text/plain": [
       "a     2\n",
       "b     2\n",
       "c    12\n",
       "d    20\n",
       "e    15\n",
       "dtype: int64"
      ]
     },
     "execution_count": 45,
     "metadata": {},
     "output_type": "execute_result"
    }
   ],
   "source": [
    "s2*s1"
   ]
  },
  {
   "cell_type": "code",
   "execution_count": 46,
   "metadata": {
    "collapsed": false
   },
   "outputs": [
    {
     "data": {
      "text/plain": [
       "a    1\n",
       "b    2\n",
       "c    3\n",
       "d    4\n",
       "e    5\n",
       "dtype: int64"
      ]
     },
     "execution_count": 46,
     "metadata": {},
     "output_type": "execute_result"
    }
   ],
   "source": [
    "s1"
   ]
  },
  {
   "cell_type": "code",
   "execution_count": 47,
   "metadata": {
    "collapsed": false
   },
   "outputs": [
    {
     "data": {
      "text/plain": [
       "b    1\n",
       "a    2\n",
       "e    3\n",
       "c    4\n",
       "d    5\n",
       "dtype: int64"
      ]
     },
     "execution_count": 47,
     "metadata": {},
     "output_type": "execute_result"
    }
   ],
   "source": [
    "s2"
   ]
  },
  {
   "cell_type": "code",
   "execution_count": 52,
   "metadata": {
    "collapsed": false
   },
   "outputs": [],
   "source": [
    "df=DataFrame([[1,2,3],[3,4,5]])"
   ]
  },
  {
   "cell_type": "code",
   "execution_count": 53,
   "metadata": {
    "collapsed": false
   },
   "outputs": [
    {
     "data": {
      "text/html": [
       "<div>\n",
       "<table border=\"1\" class=\"dataframe\">\n",
       "  <thead>\n",
       "    <tr style=\"text-align: right;\">\n",
       "      <th></th>\n",
       "      <th>0</th>\n",
       "      <th>1</th>\n",
       "      <th>2</th>\n",
       "    </tr>\n",
       "  </thead>\n",
       "  <tbody>\n",
       "    <tr>\n",
       "      <th>0</th>\n",
       "      <td>1</td>\n",
       "      <td>2</td>\n",
       "      <td>3</td>\n",
       "    </tr>\n",
       "    <tr>\n",
       "      <th>1</th>\n",
       "      <td>3</td>\n",
       "      <td>4</td>\n",
       "      <td>5</td>\n",
       "    </tr>\n",
       "  </tbody>\n",
       "</table>\n",
       "</div>"
      ],
      "text/plain": [
       "   0  1  2\n",
       "0  1  2  3\n",
       "1  3  4  5"
      ]
     },
     "execution_count": 53,
     "metadata": {},
     "output_type": "execute_result"
    }
   ],
   "source": [
    "df"
   ]
  },
  {
   "cell_type": "code",
   "execution_count": 66,
   "metadata": {
    "collapsed": false
   },
   "outputs": [],
   "source": [
    "df=DataFrame([[1,2,3],[3,4,5]],index=[['a','b']])"
   ]
  },
  {
   "cell_type": "code",
   "execution_count": 67,
   "metadata": {
    "collapsed": false
   },
   "outputs": [
    {
     "data": {
      "text/html": [
       "<div>\n",
       "<table border=\"1\" class=\"dataframe\">\n",
       "  <thead>\n",
       "    <tr style=\"text-align: right;\">\n",
       "      <th></th>\n",
       "      <th>0</th>\n",
       "      <th>1</th>\n",
       "      <th>2</th>\n",
       "    </tr>\n",
       "  </thead>\n",
       "  <tbody>\n",
       "    <tr>\n",
       "      <th>a</th>\n",
       "      <td>1</td>\n",
       "      <td>2</td>\n",
       "      <td>3</td>\n",
       "    </tr>\n",
       "    <tr>\n",
       "      <th>b</th>\n",
       "      <td>3</td>\n",
       "      <td>4</td>\n",
       "      <td>5</td>\n",
       "    </tr>\n",
       "  </tbody>\n",
       "</table>\n",
       "</div>"
      ],
      "text/plain": [
       "   0  1  2\n",
       "a  1  2  3\n",
       "b  3  4  5"
      ]
     },
     "execution_count": 67,
     "metadata": {},
     "output_type": "execute_result"
    }
   ],
   "source": [
    "df"
   ]
  },
  {
   "cell_type": "code",
   "execution_count": 69,
   "metadata": {
    "collapsed": false
   },
   "outputs": [
    {
     "data": {
      "text/plain": [
       "2"
      ]
     },
     "execution_count": 69,
     "metadata": {},
     "output_type": "execute_result"
    }
   ],
   "source": [
    "df[1]['a']   #取出第2列，第'a'行的数据，从列开始取值"
   ]
  },
  {
   "cell_type": "code",
   "execution_count": 88,
   "metadata": {
    "collapsed": false
   },
   "outputs": [
    {
     "data": {
      "text/html": [
       "<div>\n",
       "<table border=\"1\" class=\"dataframe\">\n",
       "  <thead>\n",
       "    <tr style=\"text-align: right;\">\n",
       "      <th></th>\n",
       "      <th>0</th>\n",
       "      <th>1</th>\n",
       "      <th>2</th>\n",
       "    </tr>\n",
       "  </thead>\n",
       "  <tbody>\n",
       "    <tr>\n",
       "      <th>b</th>\n",
       "      <td>3</td>\n",
       "      <td>4</td>\n",
       "      <td>5</td>\n",
       "    </tr>\n",
       "  </tbody>\n",
       "</table>\n",
       "</div>"
      ],
      "text/plain": [
       "   0  1  2\n",
       "b  3  4  5"
      ]
     },
     "execution_count": 88,
     "metadata": {},
     "output_type": "execute_result"
    }
   ],
   "source": [
    "df[1:]     # 如果使用切片，那么从行开始取值"
   ]
  },
  {
   "cell_type": "markdown",
   "metadata": {},
   "source": [
    "## 索引"
   ]
  },
  {
   "cell_type": "code",
   "execution_count": 139,
   "metadata": {
    "collapsed": true
   },
   "outputs": [],
   "source": [
    "s1=DataFrame({'python':Series([10,20,30]),'JAVA':Series([20,30,40]),'C++':Series([50,50,20])})"
   ]
  },
  {
   "cell_type": "code",
   "execution_count": 140,
   "metadata": {
    "collapsed": false
   },
   "outputs": [
    {
     "data": {
      "text/html": [
       "<div>\n",
       "<table border=\"1\" class=\"dataframe\">\n",
       "  <thead>\n",
       "    <tr style=\"text-align: right;\">\n",
       "      <th></th>\n",
       "      <th>C++</th>\n",
       "      <th>JAVA</th>\n",
       "      <th>python</th>\n",
       "    </tr>\n",
       "  </thead>\n",
       "  <tbody>\n",
       "    <tr>\n",
       "      <th>1</th>\n",
       "      <td>50</td>\n",
       "      <td>30</td>\n",
       "      <td>20</td>\n",
       "    </tr>\n",
       "    <tr>\n",
       "      <th>2</th>\n",
       "      <td>20</td>\n",
       "      <td>40</td>\n",
       "      <td>30</td>\n",
       "    </tr>\n",
       "  </tbody>\n",
       "</table>\n",
       "</div>"
      ],
      "text/plain": [
       "   C++  JAVA  python\n",
       "1   50    30      20\n",
       "2   20    40      30"
      ]
     },
     "execution_count": 140,
     "metadata": {},
     "output_type": "execute_result"
    }
   ],
   "source": [
    "s1[1:]    # 缩减写法"
   ]
  },
  {
   "cell_type": "code",
   "execution_count": 141,
   "metadata": {
    "collapsed": false
   },
   "outputs": [
    {
     "data": {
      "text/html": [
       "<div>\n",
       "<table border=\"1\" class=\"dataframe\">\n",
       "  <thead>\n",
       "    <tr style=\"text-align: right;\">\n",
       "      <th></th>\n",
       "      <th>C++</th>\n",
       "      <th>JAVA</th>\n",
       "      <th>python</th>\n",
       "    </tr>\n",
       "  </thead>\n",
       "  <tbody>\n",
       "    <tr>\n",
       "      <th>1</th>\n",
       "      <td>50</td>\n",
       "      <td>30</td>\n",
       "      <td>20</td>\n",
       "    </tr>\n",
       "    <tr>\n",
       "      <th>2</th>\n",
       "      <td>20</td>\n",
       "      <td>40</td>\n",
       "      <td>30</td>\n",
       "    </tr>\n",
       "  </tbody>\n",
       "</table>\n",
       "</div>"
      ],
      "text/plain": [
       "   C++  JAVA  python\n",
       "1   50    30      20\n",
       "2   20    40      30"
      ]
     },
     "execution_count": 141,
     "metadata": {},
     "output_type": "execute_result"
    }
   ],
   "source": [
    "s1.ix[1:] #完整使用ix的写法"
   ]
  },
  {
   "cell_type": "code",
   "execution_count": 142,
   "metadata": {
    "collapsed": false
   },
   "outputs": [
    {
     "data": {
      "text/plain": [
       "50"
      ]
     },
     "execution_count": 142,
     "metadata": {},
     "output_type": "execute_result"
    }
   ],
   "source": [
    "s1['C++'][1]    # 此时括号内的所有的内容，都代表的是索引名"
   ]
  },
  {
   "cell_type": "code",
   "execution_count": 143,
   "metadata": {
    "collapsed": false
   },
   "outputs": [
    {
     "data": {
      "text/plain": [
       "C++       50\n",
       "JAVA      20\n",
       "python    10\n",
       "Name: 0, dtype: int64"
      ]
     },
     "execution_count": 143,
     "metadata": {},
     "output_type": "execute_result"
    }
   ],
   "source": [
    "s1.ix[0]"
   ]
  },
  {
   "cell_type": "code",
   "execution_count": 144,
   "metadata": {
    "collapsed": false
   },
   "outputs": [],
   "source": [
    "s1.index=[2,3,4]"
   ]
  },
  {
   "cell_type": "code",
   "execution_count": 131,
   "metadata": {
    "collapsed": false
   },
   "outputs": [],
   "source": [
    "s1.columns=['Java', 'c', 'Vb']"
   ]
  },
  {
   "cell_type": "code",
   "execution_count": 156,
   "metadata": {
    "collapsed": false
   },
   "outputs": [],
   "source": [
    "n1=np.random.random((20,6))"
   ]
  },
  {
   "cell_type": "code",
   "execution_count": 157,
   "metadata": {
    "collapsed": false
   },
   "outputs": [
    {
     "data": {
      "text/plain": [
       "array([[ 0.99190107,  0.83899796,  0.77560361,  0.89208866,  0.10279437,\n",
       "         0.63677103],\n",
       "       [ 0.38946758,  0.24701241,  0.45771465,  0.14212242,  0.34648821,\n",
       "         0.27123221],\n",
       "       [ 0.07431452,  0.18723348,  0.0369723 ,  0.93616627,  0.72908362,\n",
       "         0.59206907],\n",
       "       [ 0.79390374,  0.71684542,  0.96050877,  0.97655782,  0.92938416,\n",
       "         0.36940984],\n",
       "       [ 0.13306575,  0.53454341,  0.56422975,  0.20828138,  0.234824  ,\n",
       "         0.51994997],\n",
       "       [ 0.3974471 ,  0.1153042 ,  0.62160545,  0.74743163,  0.78913959,\n",
       "         0.27984444],\n",
       "       [ 0.91773259,  0.73981198,  0.46308993,  0.9060514 ,  0.47368118,\n",
       "         0.75988065],\n",
       "       [ 0.23948813,  0.45337269,  0.08216876,  0.19112875,  0.27155616,\n",
       "         0.20820083],\n",
       "       [ 0.99480795,  0.41995272,  0.87277478,  0.78213346,  0.55853741,\n",
       "         0.32385912],\n",
       "       [ 0.38955016,  0.53699963,  0.94141653,  0.08143306,  0.90953705,\n",
       "         0.27816224],\n",
       "       [ 0.67279955,  0.3494044 ,  0.57620841,  0.92253732,  0.4317804 ,\n",
       "         0.79031195],\n",
       "       [ 0.05277482,  0.65817173,  0.33469411,  0.15384897,  0.45439839,\n",
       "         0.88991295],\n",
       "       [ 0.37863224,  0.32684272,  0.87614634,  0.13681068,  0.47492178,\n",
       "         0.88578309],\n",
       "       [ 0.1320312 ,  0.15179701,  0.00451204,  0.55289387,  0.00643423,\n",
       "         0.04115994],\n",
       "       [ 0.43898922,  0.48510277,  0.69318234,  0.46558743,  0.10603275,\n",
       "         0.25132022],\n",
       "       [ 0.68339417,  0.15860369,  0.16826826,  0.93536103,  0.4876899 ,\n",
       "         0.65678234],\n",
       "       [ 0.10113181,  0.79764135,  0.58032216,  0.44215008,  0.73862162,\n",
       "         0.9755108 ],\n",
       "       [ 0.18643756,  0.66543467,  0.26965587,  0.85237428,  0.86781072,\n",
       "         0.17572564],\n",
       "       [ 0.75548088,  0.58533308,  0.87649421,  0.05180442,  0.74405802,\n",
       "         0.87997703],\n",
       "       [ 0.75866828,  0.25024404,  0.7214714 ,  0.47168856,  0.82370921,\n",
       "         0.57005914]])"
      ]
     },
     "execution_count": 157,
     "metadata": {},
     "output_type": "execute_result"
    }
   ],
   "source": [
    "n1"
   ]
  },
  {
   "cell_type": "code",
   "execution_count": 158,
   "metadata": {
    "collapsed": false
   },
   "outputs": [],
   "source": [
    "s2=DataFrame(n1)"
   ]
  },
  {
   "cell_type": "code",
   "execution_count": 159,
   "metadata": {
    "collapsed": false
   },
   "outputs": [
    {
     "data": {
      "text/html": [
       "<div>\n",
       "<table border=\"1\" class=\"dataframe\">\n",
       "  <thead>\n",
       "    <tr style=\"text-align: right;\">\n",
       "      <th></th>\n",
       "      <th>0</th>\n",
       "      <th>1</th>\n",
       "      <th>2</th>\n",
       "      <th>3</th>\n",
       "      <th>4</th>\n",
       "      <th>5</th>\n",
       "    </tr>\n",
       "  </thead>\n",
       "  <tbody>\n",
       "    <tr>\n",
       "      <th>0</th>\n",
       "      <td>0.991901</td>\n",
       "      <td>0.838998</td>\n",
       "      <td>0.775604</td>\n",
       "      <td>0.892089</td>\n",
       "      <td>0.102794</td>\n",
       "      <td>0.636771</td>\n",
       "    </tr>\n",
       "    <tr>\n",
       "      <th>1</th>\n",
       "      <td>0.389468</td>\n",
       "      <td>0.247012</td>\n",
       "      <td>0.457715</td>\n",
       "      <td>0.142122</td>\n",
       "      <td>0.346488</td>\n",
       "      <td>0.271232</td>\n",
       "    </tr>\n",
       "    <tr>\n",
       "      <th>2</th>\n",
       "      <td>0.074315</td>\n",
       "      <td>0.187233</td>\n",
       "      <td>0.036972</td>\n",
       "      <td>0.936166</td>\n",
       "      <td>0.729084</td>\n",
       "      <td>0.592069</td>\n",
       "    </tr>\n",
       "    <tr>\n",
       "      <th>3</th>\n",
       "      <td>0.793904</td>\n",
       "      <td>0.716845</td>\n",
       "      <td>0.960509</td>\n",
       "      <td>0.976558</td>\n",
       "      <td>0.929384</td>\n",
       "      <td>0.369410</td>\n",
       "    </tr>\n",
       "    <tr>\n",
       "      <th>4</th>\n",
       "      <td>0.133066</td>\n",
       "      <td>0.534543</td>\n",
       "      <td>0.564230</td>\n",
       "      <td>0.208281</td>\n",
       "      <td>0.234824</td>\n",
       "      <td>0.519950</td>\n",
       "    </tr>\n",
       "    <tr>\n",
       "      <th>5</th>\n",
       "      <td>0.397447</td>\n",
       "      <td>0.115304</td>\n",
       "      <td>0.621605</td>\n",
       "      <td>0.747432</td>\n",
       "      <td>0.789140</td>\n",
       "      <td>0.279844</td>\n",
       "    </tr>\n",
       "    <tr>\n",
       "      <th>6</th>\n",
       "      <td>0.917733</td>\n",
       "      <td>0.739812</td>\n",
       "      <td>0.463090</td>\n",
       "      <td>0.906051</td>\n",
       "      <td>0.473681</td>\n",
       "      <td>0.759881</td>\n",
       "    </tr>\n",
       "    <tr>\n",
       "      <th>7</th>\n",
       "      <td>0.239488</td>\n",
       "      <td>0.453373</td>\n",
       "      <td>0.082169</td>\n",
       "      <td>0.191129</td>\n",
       "      <td>0.271556</td>\n",
       "      <td>0.208201</td>\n",
       "    </tr>\n",
       "    <tr>\n",
       "      <th>8</th>\n",
       "      <td>0.994808</td>\n",
       "      <td>0.419953</td>\n",
       "      <td>0.872775</td>\n",
       "      <td>0.782133</td>\n",
       "      <td>0.558537</td>\n",
       "      <td>0.323859</td>\n",
       "    </tr>\n",
       "    <tr>\n",
       "      <th>9</th>\n",
       "      <td>0.389550</td>\n",
       "      <td>0.537000</td>\n",
       "      <td>0.941417</td>\n",
       "      <td>0.081433</td>\n",
       "      <td>0.909537</td>\n",
       "      <td>0.278162</td>\n",
       "    </tr>\n",
       "    <tr>\n",
       "      <th>10</th>\n",
       "      <td>0.672800</td>\n",
       "      <td>0.349404</td>\n",
       "      <td>0.576208</td>\n",
       "      <td>0.922537</td>\n",
       "      <td>0.431780</td>\n",
       "      <td>0.790312</td>\n",
       "    </tr>\n",
       "    <tr>\n",
       "      <th>11</th>\n",
       "      <td>0.052775</td>\n",
       "      <td>0.658172</td>\n",
       "      <td>0.334694</td>\n",
       "      <td>0.153849</td>\n",
       "      <td>0.454398</td>\n",
       "      <td>0.889913</td>\n",
       "    </tr>\n",
       "    <tr>\n",
       "      <th>12</th>\n",
       "      <td>0.378632</td>\n",
       "      <td>0.326843</td>\n",
       "      <td>0.876146</td>\n",
       "      <td>0.136811</td>\n",
       "      <td>0.474922</td>\n",
       "      <td>0.885783</td>\n",
       "    </tr>\n",
       "    <tr>\n",
       "      <th>13</th>\n",
       "      <td>0.132031</td>\n",
       "      <td>0.151797</td>\n",
       "      <td>0.004512</td>\n",
       "      <td>0.552894</td>\n",
       "      <td>0.006434</td>\n",
       "      <td>0.041160</td>\n",
       "    </tr>\n",
       "    <tr>\n",
       "      <th>14</th>\n",
       "      <td>0.438989</td>\n",
       "      <td>0.485103</td>\n",
       "      <td>0.693182</td>\n",
       "      <td>0.465587</td>\n",
       "      <td>0.106033</td>\n",
       "      <td>0.251320</td>\n",
       "    </tr>\n",
       "    <tr>\n",
       "      <th>15</th>\n",
       "      <td>0.683394</td>\n",
       "      <td>0.158604</td>\n",
       "      <td>0.168268</td>\n",
       "      <td>0.935361</td>\n",
       "      <td>0.487690</td>\n",
       "      <td>0.656782</td>\n",
       "    </tr>\n",
       "    <tr>\n",
       "      <th>16</th>\n",
       "      <td>0.101132</td>\n",
       "      <td>0.797641</td>\n",
       "      <td>0.580322</td>\n",
       "      <td>0.442150</td>\n",
       "      <td>0.738622</td>\n",
       "      <td>0.975511</td>\n",
       "    </tr>\n",
       "    <tr>\n",
       "      <th>17</th>\n",
       "      <td>0.186438</td>\n",
       "      <td>0.665435</td>\n",
       "      <td>0.269656</td>\n",
       "      <td>0.852374</td>\n",
       "      <td>0.867811</td>\n",
       "      <td>0.175726</td>\n",
       "    </tr>\n",
       "    <tr>\n",
       "      <th>18</th>\n",
       "      <td>0.755481</td>\n",
       "      <td>0.585333</td>\n",
       "      <td>0.876494</td>\n",
       "      <td>0.051804</td>\n",
       "      <td>0.744058</td>\n",
       "      <td>0.879977</td>\n",
       "    </tr>\n",
       "    <tr>\n",
       "      <th>19</th>\n",
       "      <td>0.758668</td>\n",
       "      <td>0.250244</td>\n",
       "      <td>0.721471</td>\n",
       "      <td>0.471689</td>\n",
       "      <td>0.823709</td>\n",
       "      <td>0.570059</td>\n",
       "    </tr>\n",
       "  </tbody>\n",
       "</table>\n",
       "</div>"
      ],
      "text/plain": [
       "           0         1         2         3         4         5\n",
       "0   0.991901  0.838998  0.775604  0.892089  0.102794  0.636771\n",
       "1   0.389468  0.247012  0.457715  0.142122  0.346488  0.271232\n",
       "2   0.074315  0.187233  0.036972  0.936166  0.729084  0.592069\n",
       "3   0.793904  0.716845  0.960509  0.976558  0.929384  0.369410\n",
       "4   0.133066  0.534543  0.564230  0.208281  0.234824  0.519950\n",
       "5   0.397447  0.115304  0.621605  0.747432  0.789140  0.279844\n",
       "6   0.917733  0.739812  0.463090  0.906051  0.473681  0.759881\n",
       "7   0.239488  0.453373  0.082169  0.191129  0.271556  0.208201\n",
       "8   0.994808  0.419953  0.872775  0.782133  0.558537  0.323859\n",
       "9   0.389550  0.537000  0.941417  0.081433  0.909537  0.278162\n",
       "10  0.672800  0.349404  0.576208  0.922537  0.431780  0.790312\n",
       "11  0.052775  0.658172  0.334694  0.153849  0.454398  0.889913\n",
       "12  0.378632  0.326843  0.876146  0.136811  0.474922  0.885783\n",
       "13  0.132031  0.151797  0.004512  0.552894  0.006434  0.041160\n",
       "14  0.438989  0.485103  0.693182  0.465587  0.106033  0.251320\n",
       "15  0.683394  0.158604  0.168268  0.935361  0.487690  0.656782\n",
       "16  0.101132  0.797641  0.580322  0.442150  0.738622  0.975511\n",
       "17  0.186438  0.665435  0.269656  0.852374  0.867811  0.175726\n",
       "18  0.755481  0.585333  0.876494  0.051804  0.744058  0.879977\n",
       "19  0.758668  0.250244  0.721471  0.471689  0.823709  0.570059"
      ]
     },
     "execution_count": 159,
     "metadata": {},
     "output_type": "execute_result"
    }
   ],
   "source": [
    "s2"
   ]
  },
  {
   "cell_type": "code",
   "execution_count": 164,
   "metadata": {
    "collapsed": false
   },
   "outputs": [
    {
     "data": {
      "text/html": [
       "<div>\n",
       "<table border=\"1\" class=\"dataframe\">\n",
       "  <thead>\n",
       "    <tr style=\"text-align: right;\">\n",
       "      <th></th>\n",
       "      <th>0</th>\n",
       "      <th>1</th>\n",
       "      <th>2</th>\n",
       "      <th>3</th>\n",
       "      <th>4</th>\n",
       "      <th>5</th>\n",
       "    </tr>\n",
       "  </thead>\n",
       "  <tbody>\n",
       "    <tr>\n",
       "      <th>0</th>\n",
       "      <td>0.991901</td>\n",
       "      <td>0.838998</td>\n",
       "      <td>0.775604</td>\n",
       "      <td>0.892089</td>\n",
       "      <td>0.102794</td>\n",
       "      <td>0.636771</td>\n",
       "    </tr>\n",
       "    <tr>\n",
       "      <th>1</th>\n",
       "      <td>0.389468</td>\n",
       "      <td>0.247012</td>\n",
       "      <td>0.457715</td>\n",
       "      <td>0.142122</td>\n",
       "      <td>0.346488</td>\n",
       "      <td>0.271232</td>\n",
       "    </tr>\n",
       "    <tr>\n",
       "      <th>2</th>\n",
       "      <td>0.074315</td>\n",
       "      <td>0.187233</td>\n",
       "      <td>0.036972</td>\n",
       "      <td>0.936166</td>\n",
       "      <td>0.729084</td>\n",
       "      <td>0.592069</td>\n",
       "    </tr>\n",
       "    <tr>\n",
       "      <th>3</th>\n",
       "      <td>0.793904</td>\n",
       "      <td>0.716845</td>\n",
       "      <td>0.960509</td>\n",
       "      <td>0.976558</td>\n",
       "      <td>0.929384</td>\n",
       "      <td>0.369410</td>\n",
       "    </tr>\n",
       "    <tr>\n",
       "      <th>4</th>\n",
       "      <td>0.133066</td>\n",
       "      <td>0.534543</td>\n",
       "      <td>0.564230</td>\n",
       "      <td>0.208281</td>\n",
       "      <td>0.234824</td>\n",
       "      <td>0.519950</td>\n",
       "    </tr>\n",
       "  </tbody>\n",
       "</table>\n",
       "</div>"
      ],
      "text/plain": [
       "          0         1         2         3         4         5\n",
       "0  0.991901  0.838998  0.775604  0.892089  0.102794  0.636771\n",
       "1  0.389468  0.247012  0.457715  0.142122  0.346488  0.271232\n",
       "2  0.074315  0.187233  0.036972  0.936166  0.729084  0.592069\n",
       "3  0.793904  0.716845  0.960509  0.976558  0.929384  0.369410\n",
       "4  0.133066  0.534543  0.564230  0.208281  0.234824  0.519950"
      ]
     },
     "execution_count": 164,
     "metadata": {},
     "output_type": "execute_result"
    }
   ],
   "source": [
    "s2.head()   # 默认为前5行数据，可以自定义显示行数"
   ]
  },
  {
   "cell_type": "code",
   "execution_count": 161,
   "metadata": {
    "collapsed": false
   },
   "outputs": [
    {
     "data": {
      "text/html": [
       "<div>\n",
       "<table border=\"1\" class=\"dataframe\">\n",
       "  <thead>\n",
       "    <tr style=\"text-align: right;\">\n",
       "      <th></th>\n",
       "      <th>0</th>\n",
       "      <th>1</th>\n",
       "      <th>2</th>\n",
       "      <th>3</th>\n",
       "      <th>4</th>\n",
       "      <th>5</th>\n",
       "    </tr>\n",
       "  </thead>\n",
       "  <tbody>\n",
       "    <tr>\n",
       "      <th>15</th>\n",
       "      <td>0.683394</td>\n",
       "      <td>0.158604</td>\n",
       "      <td>0.168268</td>\n",
       "      <td>0.935361</td>\n",
       "      <td>0.487690</td>\n",
       "      <td>0.656782</td>\n",
       "    </tr>\n",
       "    <tr>\n",
       "      <th>16</th>\n",
       "      <td>0.101132</td>\n",
       "      <td>0.797641</td>\n",
       "      <td>0.580322</td>\n",
       "      <td>0.442150</td>\n",
       "      <td>0.738622</td>\n",
       "      <td>0.975511</td>\n",
       "    </tr>\n",
       "    <tr>\n",
       "      <th>17</th>\n",
       "      <td>0.186438</td>\n",
       "      <td>0.665435</td>\n",
       "      <td>0.269656</td>\n",
       "      <td>0.852374</td>\n",
       "      <td>0.867811</td>\n",
       "      <td>0.175726</td>\n",
       "    </tr>\n",
       "    <tr>\n",
       "      <th>18</th>\n",
       "      <td>0.755481</td>\n",
       "      <td>0.585333</td>\n",
       "      <td>0.876494</td>\n",
       "      <td>0.051804</td>\n",
       "      <td>0.744058</td>\n",
       "      <td>0.879977</td>\n",
       "    </tr>\n",
       "    <tr>\n",
       "      <th>19</th>\n",
       "      <td>0.758668</td>\n",
       "      <td>0.250244</td>\n",
       "      <td>0.721471</td>\n",
       "      <td>0.471689</td>\n",
       "      <td>0.823709</td>\n",
       "      <td>0.570059</td>\n",
       "    </tr>\n",
       "  </tbody>\n",
       "</table>\n",
       "</div>"
      ],
      "text/plain": [
       "           0         1         2         3         4         5\n",
       "15  0.683394  0.158604  0.168268  0.935361  0.487690  0.656782\n",
       "16  0.101132  0.797641  0.580322  0.442150  0.738622  0.975511\n",
       "17  0.186438  0.665435  0.269656  0.852374  0.867811  0.175726\n",
       "18  0.755481  0.585333  0.876494  0.051804  0.744058  0.879977\n",
       "19  0.758668  0.250244  0.721471  0.471689  0.823709  0.570059"
      ]
     },
     "execution_count": 161,
     "metadata": {},
     "output_type": "execute_result"
    }
   ],
   "source": [
    "s2.tail()   # 默认为后5行数据，可以自定义显示行数"
   ]
  },
  {
   "cell_type": "code",
   "execution_count": 165,
   "metadata": {
    "collapsed": false
   },
   "outputs": [
    {
     "data": {
      "text/html": [
       "<div>\n",
       "<table border=\"1\" class=\"dataframe\">\n",
       "  <thead>\n",
       "    <tr style=\"text-align: right;\">\n",
       "      <th></th>\n",
       "      <th>0</th>\n",
       "      <th>1</th>\n",
       "      <th>2</th>\n",
       "      <th>3</th>\n",
       "      <th>4</th>\n",
       "      <th>5</th>\n",
       "    </tr>\n",
       "  </thead>\n",
       "  <tbody>\n",
       "    <tr>\n",
       "      <th>count</th>\n",
       "      <td>20.000000</td>\n",
       "      <td>20.000000</td>\n",
       "      <td>20.000000</td>\n",
       "      <td>20.000000</td>\n",
       "      <td>20.000000</td>\n",
       "      <td>20.000000</td>\n",
       "    </tr>\n",
       "    <tr>\n",
       "      <th>mean</th>\n",
       "      <td>0.474101</td>\n",
       "      <td>0.460932</td>\n",
       "      <td>0.543852</td>\n",
       "      <td>0.542423</td>\n",
       "      <td>0.524024</td>\n",
       "      <td>0.517796</td>\n",
       "    </tr>\n",
       "    <tr>\n",
       "      <th>std</th>\n",
       "      <td>0.321171</td>\n",
       "      <td>0.230697</td>\n",
       "      <td>0.308836</td>\n",
       "      <td>0.346224</td>\n",
       "      <td>0.285390</td>\n",
       "      <td>0.284205</td>\n",
       "    </tr>\n",
       "    <tr>\n",
       "      <th>min</th>\n",
       "      <td>0.052775</td>\n",
       "      <td>0.115304</td>\n",
       "      <td>0.004512</td>\n",
       "      <td>0.051804</td>\n",
       "      <td>0.006434</td>\n",
       "      <td>0.041160</td>\n",
       "    </tr>\n",
       "    <tr>\n",
       "      <th>25%</th>\n",
       "      <td>0.173095</td>\n",
       "      <td>0.249436</td>\n",
       "      <td>0.318435</td>\n",
       "      <td>0.181809</td>\n",
       "      <td>0.327755</td>\n",
       "      <td>0.276430</td>\n",
       "    </tr>\n",
       "    <tr>\n",
       "      <th>50%</th>\n",
       "      <td>0.393499</td>\n",
       "      <td>0.469238</td>\n",
       "      <td>0.578265</td>\n",
       "      <td>0.512291</td>\n",
       "      <td>0.481306</td>\n",
       "      <td>0.545005</td>\n",
       "    </tr>\n",
       "    <tr>\n",
       "      <th>75%</th>\n",
       "      <td>0.756278</td>\n",
       "      <td>0.659987</td>\n",
       "      <td>0.799896</td>\n",
       "      <td>0.895579</td>\n",
       "      <td>0.755328</td>\n",
       "      <td>0.767488</td>\n",
       "    </tr>\n",
       "    <tr>\n",
       "      <th>max</th>\n",
       "      <td>0.994808</td>\n",
       "      <td>0.838998</td>\n",
       "      <td>0.960509</td>\n",
       "      <td>0.976558</td>\n",
       "      <td>0.929384</td>\n",
       "      <td>0.975511</td>\n",
       "    </tr>\n",
       "  </tbody>\n",
       "</table>\n",
       "</div>"
      ],
      "text/plain": [
       "               0          1          2          3          4          5\n",
       "count  20.000000  20.000000  20.000000  20.000000  20.000000  20.000000\n",
       "mean    0.474101   0.460932   0.543852   0.542423   0.524024   0.517796\n",
       "std     0.321171   0.230697   0.308836   0.346224   0.285390   0.284205\n",
       "min     0.052775   0.115304   0.004512   0.051804   0.006434   0.041160\n",
       "25%     0.173095   0.249436   0.318435   0.181809   0.327755   0.276430\n",
       "50%     0.393499   0.469238   0.578265   0.512291   0.481306   0.545005\n",
       "75%     0.756278   0.659987   0.799896   0.895579   0.755328   0.767488\n",
       "max     0.994808   0.838998   0.960509   0.976558   0.929384   0.975511"
      ]
     },
     "execution_count": 165,
     "metadata": {},
     "output_type": "execute_result"
    }
   ],
   "source": [
    "s2.describe()  #快速统计汇总"
   ]
  },
  {
   "cell_type": "code",
   "execution_count": 166,
   "metadata": {
    "collapsed": false
   },
   "outputs": [
    {
     "data": {
      "text/html": [
       "<div>\n",
       "<table border=\"1\" class=\"dataframe\">\n",
       "  <thead>\n",
       "    <tr style=\"text-align: right;\">\n",
       "      <th></th>\n",
       "      <th>0</th>\n",
       "      <th>1</th>\n",
       "      <th>2</th>\n",
       "      <th>3</th>\n",
       "      <th>4</th>\n",
       "      <th>5</th>\n",
       "      <th>6</th>\n",
       "      <th>7</th>\n",
       "      <th>8</th>\n",
       "      <th>9</th>\n",
       "      <th>10</th>\n",
       "      <th>11</th>\n",
       "      <th>12</th>\n",
       "      <th>13</th>\n",
       "      <th>14</th>\n",
       "      <th>15</th>\n",
       "      <th>16</th>\n",
       "      <th>17</th>\n",
       "      <th>18</th>\n",
       "      <th>19</th>\n",
       "    </tr>\n",
       "  </thead>\n",
       "  <tbody>\n",
       "    <tr>\n",
       "      <th>0</th>\n",
       "      <td>0.991901</td>\n",
       "      <td>0.389468</td>\n",
       "      <td>0.074315</td>\n",
       "      <td>0.793904</td>\n",
       "      <td>0.133066</td>\n",
       "      <td>0.397447</td>\n",
       "      <td>0.917733</td>\n",
       "      <td>0.239488</td>\n",
       "      <td>0.994808</td>\n",
       "      <td>0.389550</td>\n",
       "      <td>0.672800</td>\n",
       "      <td>0.052775</td>\n",
       "      <td>0.378632</td>\n",
       "      <td>0.132031</td>\n",
       "      <td>0.438989</td>\n",
       "      <td>0.683394</td>\n",
       "      <td>0.101132</td>\n",
       "      <td>0.186438</td>\n",
       "      <td>0.755481</td>\n",
       "      <td>0.758668</td>\n",
       "    </tr>\n",
       "    <tr>\n",
       "      <th>1</th>\n",
       "      <td>0.838998</td>\n",
       "      <td>0.247012</td>\n",
       "      <td>0.187233</td>\n",
       "      <td>0.716845</td>\n",
       "      <td>0.534543</td>\n",
       "      <td>0.115304</td>\n",
       "      <td>0.739812</td>\n",
       "      <td>0.453373</td>\n",
       "      <td>0.419953</td>\n",
       "      <td>0.537000</td>\n",
       "      <td>0.349404</td>\n",
       "      <td>0.658172</td>\n",
       "      <td>0.326843</td>\n",
       "      <td>0.151797</td>\n",
       "      <td>0.485103</td>\n",
       "      <td>0.158604</td>\n",
       "      <td>0.797641</td>\n",
       "      <td>0.665435</td>\n",
       "      <td>0.585333</td>\n",
       "      <td>0.250244</td>\n",
       "    </tr>\n",
       "    <tr>\n",
       "      <th>2</th>\n",
       "      <td>0.775604</td>\n",
       "      <td>0.457715</td>\n",
       "      <td>0.036972</td>\n",
       "      <td>0.960509</td>\n",
       "      <td>0.564230</td>\n",
       "      <td>0.621605</td>\n",
       "      <td>0.463090</td>\n",
       "      <td>0.082169</td>\n",
       "      <td>0.872775</td>\n",
       "      <td>0.941417</td>\n",
       "      <td>0.576208</td>\n",
       "      <td>0.334694</td>\n",
       "      <td>0.876146</td>\n",
       "      <td>0.004512</td>\n",
       "      <td>0.693182</td>\n",
       "      <td>0.168268</td>\n",
       "      <td>0.580322</td>\n",
       "      <td>0.269656</td>\n",
       "      <td>0.876494</td>\n",
       "      <td>0.721471</td>\n",
       "    </tr>\n",
       "    <tr>\n",
       "      <th>3</th>\n",
       "      <td>0.892089</td>\n",
       "      <td>0.142122</td>\n",
       "      <td>0.936166</td>\n",
       "      <td>0.976558</td>\n",
       "      <td>0.208281</td>\n",
       "      <td>0.747432</td>\n",
       "      <td>0.906051</td>\n",
       "      <td>0.191129</td>\n",
       "      <td>0.782133</td>\n",
       "      <td>0.081433</td>\n",
       "      <td>0.922537</td>\n",
       "      <td>0.153849</td>\n",
       "      <td>0.136811</td>\n",
       "      <td>0.552894</td>\n",
       "      <td>0.465587</td>\n",
       "      <td>0.935361</td>\n",
       "      <td>0.442150</td>\n",
       "      <td>0.852374</td>\n",
       "      <td>0.051804</td>\n",
       "      <td>0.471689</td>\n",
       "    </tr>\n",
       "    <tr>\n",
       "      <th>4</th>\n",
       "      <td>0.102794</td>\n",
       "      <td>0.346488</td>\n",
       "      <td>0.729084</td>\n",
       "      <td>0.929384</td>\n",
       "      <td>0.234824</td>\n",
       "      <td>0.789140</td>\n",
       "      <td>0.473681</td>\n",
       "      <td>0.271556</td>\n",
       "      <td>0.558537</td>\n",
       "      <td>0.909537</td>\n",
       "      <td>0.431780</td>\n",
       "      <td>0.454398</td>\n",
       "      <td>0.474922</td>\n",
       "      <td>0.006434</td>\n",
       "      <td>0.106033</td>\n",
       "      <td>0.487690</td>\n",
       "      <td>0.738622</td>\n",
       "      <td>0.867811</td>\n",
       "      <td>0.744058</td>\n",
       "      <td>0.823709</td>\n",
       "    </tr>\n",
       "    <tr>\n",
       "      <th>5</th>\n",
       "      <td>0.636771</td>\n",
       "      <td>0.271232</td>\n",
       "      <td>0.592069</td>\n",
       "      <td>0.369410</td>\n",
       "      <td>0.519950</td>\n",
       "      <td>0.279844</td>\n",
       "      <td>0.759881</td>\n",
       "      <td>0.208201</td>\n",
       "      <td>0.323859</td>\n",
       "      <td>0.278162</td>\n",
       "      <td>0.790312</td>\n",
       "      <td>0.889913</td>\n",
       "      <td>0.885783</td>\n",
       "      <td>0.041160</td>\n",
       "      <td>0.251320</td>\n",
       "      <td>0.656782</td>\n",
       "      <td>0.975511</td>\n",
       "      <td>0.175726</td>\n",
       "      <td>0.879977</td>\n",
       "      <td>0.570059</td>\n",
       "    </tr>\n",
       "  </tbody>\n",
       "</table>\n",
       "</div>"
      ],
      "text/plain": [
       "         0         1         2         3         4         5         6   \\\n",
       "0  0.991901  0.389468  0.074315  0.793904  0.133066  0.397447  0.917733   \n",
       "1  0.838998  0.247012  0.187233  0.716845  0.534543  0.115304  0.739812   \n",
       "2  0.775604  0.457715  0.036972  0.960509  0.564230  0.621605  0.463090   \n",
       "3  0.892089  0.142122  0.936166  0.976558  0.208281  0.747432  0.906051   \n",
       "4  0.102794  0.346488  0.729084  0.929384  0.234824  0.789140  0.473681   \n",
       "5  0.636771  0.271232  0.592069  0.369410  0.519950  0.279844  0.759881   \n",
       "\n",
       "         7         8         9         10        11        12        13  \\\n",
       "0  0.239488  0.994808  0.389550  0.672800  0.052775  0.378632  0.132031   \n",
       "1  0.453373  0.419953  0.537000  0.349404  0.658172  0.326843  0.151797   \n",
       "2  0.082169  0.872775  0.941417  0.576208  0.334694  0.876146  0.004512   \n",
       "3  0.191129  0.782133  0.081433  0.922537  0.153849  0.136811  0.552894   \n",
       "4  0.271556  0.558537  0.909537  0.431780  0.454398  0.474922  0.006434   \n",
       "5  0.208201  0.323859  0.278162  0.790312  0.889913  0.885783  0.041160   \n",
       "\n",
       "         14        15        16        17        18        19  \n",
       "0  0.438989  0.683394  0.101132  0.186438  0.755481  0.758668  \n",
       "1  0.485103  0.158604  0.797641  0.665435  0.585333  0.250244  \n",
       "2  0.693182  0.168268  0.580322  0.269656  0.876494  0.721471  \n",
       "3  0.465587  0.935361  0.442150  0.852374  0.051804  0.471689  \n",
       "4  0.106033  0.487690  0.738622  0.867811  0.744058  0.823709  \n",
       "5  0.251320  0.656782  0.975511  0.175726  0.879977  0.570059  "
      ]
     },
     "execution_count": 166,
     "metadata": {},
     "output_type": "execute_result"
    }
   ],
   "source": [
    "s2.T"
   ]
  },
  {
   "cell_type": "code",
   "execution_count": 167,
   "metadata": {
    "collapsed": false
   },
   "outputs": [
    {
     "data": {
      "text/html": [
       "<div>\n",
       "<table border=\"1\" class=\"dataframe\">\n",
       "  <thead>\n",
       "    <tr style=\"text-align: right;\">\n",
       "      <th></th>\n",
       "      <th>0</th>\n",
       "      <th>1</th>\n",
       "      <th>2</th>\n",
       "      <th>3</th>\n",
       "      <th>4</th>\n",
       "      <th>5</th>\n",
       "      <th>6</th>\n",
       "      <th>7</th>\n",
       "      <th>8</th>\n",
       "      <th>9</th>\n",
       "      <th>10</th>\n",
       "      <th>11</th>\n",
       "      <th>12</th>\n",
       "      <th>13</th>\n",
       "      <th>14</th>\n",
       "      <th>15</th>\n",
       "      <th>16</th>\n",
       "      <th>17</th>\n",
       "      <th>18</th>\n",
       "      <th>19</th>\n",
       "    </tr>\n",
       "  </thead>\n",
       "  <tbody>\n",
       "    <tr>\n",
       "      <th>count</th>\n",
       "      <td>6.000000</td>\n",
       "      <td>6.000000</td>\n",
       "      <td>6.000000</td>\n",
       "      <td>6.000000</td>\n",
       "      <td>6.000000</td>\n",
       "      <td>6.000000</td>\n",
       "      <td>6.000000</td>\n",
       "      <td>6.000000</td>\n",
       "      <td>6.000000</td>\n",
       "      <td>6.000000</td>\n",
       "      <td>6.000000</td>\n",
       "      <td>6.000000</td>\n",
       "      <td>6.000000</td>\n",
       "      <td>6.000000</td>\n",
       "      <td>6.000000</td>\n",
       "      <td>6.000000</td>\n",
       "      <td>6.000000</td>\n",
       "      <td>6.000000</td>\n",
       "      <td>6.000000</td>\n",
       "      <td>6.000000</td>\n",
       "    </tr>\n",
       "    <tr>\n",
       "      <th>mean</th>\n",
       "      <td>0.706359</td>\n",
       "      <td>0.309006</td>\n",
       "      <td>0.425973</td>\n",
       "      <td>0.791102</td>\n",
       "      <td>0.365816</td>\n",
       "      <td>0.491795</td>\n",
       "      <td>0.710041</td>\n",
       "      <td>0.240986</td>\n",
       "      <td>0.658678</td>\n",
       "      <td>0.522850</td>\n",
       "      <td>0.623840</td>\n",
       "      <td>0.423967</td>\n",
       "      <td>0.513189</td>\n",
       "      <td>0.148138</td>\n",
       "      <td>0.406702</td>\n",
       "      <td>0.515017</td>\n",
       "      <td>0.605896</td>\n",
       "      <td>0.502906</td>\n",
       "      <td>0.648858</td>\n",
       "      <td>0.599307</td>\n",
       "    </tr>\n",
       "    <tr>\n",
       "      <th>std</th>\n",
       "      <td>0.318606</td>\n",
       "      <td>0.112351</td>\n",
       "      <td>0.377291</td>\n",
       "      <td>0.230461</td>\n",
       "      <td>0.193775</td>\n",
       "      <td>0.270623</td>\n",
       "      <td>0.200887</td>\n",
       "      <td>0.122334</td>\n",
       "      <td>0.265776</td>\n",
       "      <td>0.345663</td>\n",
       "      <td>0.216241</td>\n",
       "      <td>0.313560</td>\n",
       "      <td>0.305457</td>\n",
       "      <td>0.207968</td>\n",
       "      <td>0.203604</td>\n",
       "      <td>0.307620</td>\n",
       "      <td>0.307653</td>\n",
       "      <td>0.329637</td>\n",
       "      <td>0.311825</td>\n",
       "      <td>0.214319</td>\n",
       "    </tr>\n",
       "    <tr>\n",
       "      <th>min</th>\n",
       "      <td>0.102794</td>\n",
       "      <td>0.142122</td>\n",
       "      <td>0.036972</td>\n",
       "      <td>0.369410</td>\n",
       "      <td>0.133066</td>\n",
       "      <td>0.115304</td>\n",
       "      <td>0.463090</td>\n",
       "      <td>0.082169</td>\n",
       "      <td>0.323859</td>\n",
       "      <td>0.081433</td>\n",
       "      <td>0.349404</td>\n",
       "      <td>0.052775</td>\n",
       "      <td>0.136811</td>\n",
       "      <td>0.004512</td>\n",
       "      <td>0.106033</td>\n",
       "      <td>0.158604</td>\n",
       "      <td>0.101132</td>\n",
       "      <td>0.175726</td>\n",
       "      <td>0.051804</td>\n",
       "      <td>0.250244</td>\n",
       "    </tr>\n",
       "    <tr>\n",
       "      <th>25%</th>\n",
       "      <td>0.671479</td>\n",
       "      <td>0.253067</td>\n",
       "      <td>0.102544</td>\n",
       "      <td>0.736110</td>\n",
       "      <td>0.214917</td>\n",
       "      <td>0.309245</td>\n",
       "      <td>0.540214</td>\n",
       "      <td>0.195397</td>\n",
       "      <td>0.454599</td>\n",
       "      <td>0.306009</td>\n",
       "      <td>0.467887</td>\n",
       "      <td>0.199060</td>\n",
       "      <td>0.339790</td>\n",
       "      <td>0.015116</td>\n",
       "      <td>0.298237</td>\n",
       "      <td>0.248124</td>\n",
       "      <td>0.476693</td>\n",
       "      <td>0.207242</td>\n",
       "      <td>0.625014</td>\n",
       "      <td>0.496281</td>\n",
       "    </tr>\n",
       "    <tr>\n",
       "      <th>50%</th>\n",
       "      <td>0.807301</td>\n",
       "      <td>0.308860</td>\n",
       "      <td>0.389651</td>\n",
       "      <td>0.861644</td>\n",
       "      <td>0.377387</td>\n",
       "      <td>0.509526</td>\n",
       "      <td>0.749846</td>\n",
       "      <td>0.223844</td>\n",
       "      <td>0.670335</td>\n",
       "      <td>0.463275</td>\n",
       "      <td>0.624504</td>\n",
       "      <td>0.394546</td>\n",
       "      <td>0.426777</td>\n",
       "      <td>0.086596</td>\n",
       "      <td>0.452288</td>\n",
       "      <td>0.572236</td>\n",
       "      <td>0.659472</td>\n",
       "      <td>0.467545</td>\n",
       "      <td>0.749769</td>\n",
       "      <td>0.645765</td>\n",
       "    </tr>\n",
       "    <tr>\n",
       "      <th>75%</th>\n",
       "      <td>0.878816</td>\n",
       "      <td>0.378723</td>\n",
       "      <td>0.694830</td>\n",
       "      <td>0.952728</td>\n",
       "      <td>0.530895</td>\n",
       "      <td>0.715975</td>\n",
       "      <td>0.869509</td>\n",
       "      <td>0.263539</td>\n",
       "      <td>0.850114</td>\n",
       "      <td>0.816403</td>\n",
       "      <td>0.760934</td>\n",
       "      <td>0.607228</td>\n",
       "      <td>0.775840</td>\n",
       "      <td>0.146856</td>\n",
       "      <td>0.480224</td>\n",
       "      <td>0.676741</td>\n",
       "      <td>0.782886</td>\n",
       "      <td>0.805639</td>\n",
       "      <td>0.846241</td>\n",
       "      <td>0.749369</td>\n",
       "    </tr>\n",
       "    <tr>\n",
       "      <th>max</th>\n",
       "      <td>0.991901</td>\n",
       "      <td>0.457715</td>\n",
       "      <td>0.936166</td>\n",
       "      <td>0.976558</td>\n",
       "      <td>0.564230</td>\n",
       "      <td>0.789140</td>\n",
       "      <td>0.917733</td>\n",
       "      <td>0.453373</td>\n",
       "      <td>0.994808</td>\n",
       "      <td>0.941417</td>\n",
       "      <td>0.922537</td>\n",
       "      <td>0.889913</td>\n",
       "      <td>0.885783</td>\n",
       "      <td>0.552894</td>\n",
       "      <td>0.693182</td>\n",
       "      <td>0.935361</td>\n",
       "      <td>0.975511</td>\n",
       "      <td>0.867811</td>\n",
       "      <td>0.879977</td>\n",
       "      <td>0.823709</td>\n",
       "    </tr>\n",
       "  </tbody>\n",
       "</table>\n",
       "</div>"
      ],
      "text/plain": [
       "             0         1         2         3         4         5         6   \\\n",
       "count  6.000000  6.000000  6.000000  6.000000  6.000000  6.000000  6.000000   \n",
       "mean   0.706359  0.309006  0.425973  0.791102  0.365816  0.491795  0.710041   \n",
       "std    0.318606  0.112351  0.377291  0.230461  0.193775  0.270623  0.200887   \n",
       "min    0.102794  0.142122  0.036972  0.369410  0.133066  0.115304  0.463090   \n",
       "25%    0.671479  0.253067  0.102544  0.736110  0.214917  0.309245  0.540214   \n",
       "50%    0.807301  0.308860  0.389651  0.861644  0.377387  0.509526  0.749846   \n",
       "75%    0.878816  0.378723  0.694830  0.952728  0.530895  0.715975  0.869509   \n",
       "max    0.991901  0.457715  0.936166  0.976558  0.564230  0.789140  0.917733   \n",
       "\n",
       "             7         8         9         10        11        12        13  \\\n",
       "count  6.000000  6.000000  6.000000  6.000000  6.000000  6.000000  6.000000   \n",
       "mean   0.240986  0.658678  0.522850  0.623840  0.423967  0.513189  0.148138   \n",
       "std    0.122334  0.265776  0.345663  0.216241  0.313560  0.305457  0.207968   \n",
       "min    0.082169  0.323859  0.081433  0.349404  0.052775  0.136811  0.004512   \n",
       "25%    0.195397  0.454599  0.306009  0.467887  0.199060  0.339790  0.015116   \n",
       "50%    0.223844  0.670335  0.463275  0.624504  0.394546  0.426777  0.086596   \n",
       "75%    0.263539  0.850114  0.816403  0.760934  0.607228  0.775840  0.146856   \n",
       "max    0.453373  0.994808  0.941417  0.922537  0.889913  0.885783  0.552894   \n",
       "\n",
       "             14        15        16        17        18        19  \n",
       "count  6.000000  6.000000  6.000000  6.000000  6.000000  6.000000  \n",
       "mean   0.406702  0.515017  0.605896  0.502906  0.648858  0.599307  \n",
       "std    0.203604  0.307620  0.307653  0.329637  0.311825  0.214319  \n",
       "min    0.106033  0.158604  0.101132  0.175726  0.051804  0.250244  \n",
       "25%    0.298237  0.248124  0.476693  0.207242  0.625014  0.496281  \n",
       "50%    0.452288  0.572236  0.659472  0.467545  0.749769  0.645765  \n",
       "75%    0.480224  0.676741  0.782886  0.805639  0.846241  0.749369  \n",
       "max    0.693182  0.935361  0.975511  0.867811  0.879977  0.823709  "
      ]
     },
     "execution_count": 167,
     "metadata": {},
     "output_type": "execute_result"
    }
   ],
   "source": [
    "s2.T.describe()"
   ]
  },
  {
   "cell_type": "markdown",
   "metadata": {},
   "source": [
    "### 按轴排序"
   ]
  },
  {
   "cell_type": "code",
   "execution_count": 171,
   "metadata": {
    "collapsed": false
   },
   "outputs": [],
   "source": [
    "s2.columns=['a','c','d','b','e','y']"
   ]
  },
  {
   "cell_type": "code",
   "execution_count": 172,
   "metadata": {
    "collapsed": false
   },
   "outputs": [
    {
     "data": {
      "text/html": [
       "<div>\n",
       "<table border=\"1\" class=\"dataframe\">\n",
       "  <thead>\n",
       "    <tr style=\"text-align: right;\">\n",
       "      <th></th>\n",
       "      <th>a</th>\n",
       "      <th>c</th>\n",
       "      <th>d</th>\n",
       "      <th>b</th>\n",
       "      <th>e</th>\n",
       "      <th>y</th>\n",
       "    </tr>\n",
       "  </thead>\n",
       "  <tbody>\n",
       "    <tr>\n",
       "      <th>0</th>\n",
       "      <td>0.991901</td>\n",
       "      <td>0.838998</td>\n",
       "      <td>0.775604</td>\n",
       "      <td>0.892089</td>\n",
       "      <td>0.102794</td>\n",
       "      <td>0.636771</td>\n",
       "    </tr>\n",
       "    <tr>\n",
       "      <th>1</th>\n",
       "      <td>0.389468</td>\n",
       "      <td>0.247012</td>\n",
       "      <td>0.457715</td>\n",
       "      <td>0.142122</td>\n",
       "      <td>0.346488</td>\n",
       "      <td>0.271232</td>\n",
       "    </tr>\n",
       "    <tr>\n",
       "      <th>2</th>\n",
       "      <td>0.074315</td>\n",
       "      <td>0.187233</td>\n",
       "      <td>0.036972</td>\n",
       "      <td>0.936166</td>\n",
       "      <td>0.729084</td>\n",
       "      <td>0.592069</td>\n",
       "    </tr>\n",
       "    <tr>\n",
       "      <th>3</th>\n",
       "      <td>0.793904</td>\n",
       "      <td>0.716845</td>\n",
       "      <td>0.960509</td>\n",
       "      <td>0.976558</td>\n",
       "      <td>0.929384</td>\n",
       "      <td>0.369410</td>\n",
       "    </tr>\n",
       "    <tr>\n",
       "      <th>4</th>\n",
       "      <td>0.133066</td>\n",
       "      <td>0.534543</td>\n",
       "      <td>0.564230</td>\n",
       "      <td>0.208281</td>\n",
       "      <td>0.234824</td>\n",
       "      <td>0.519950</td>\n",
       "    </tr>\n",
       "    <tr>\n",
       "      <th>5</th>\n",
       "      <td>0.397447</td>\n",
       "      <td>0.115304</td>\n",
       "      <td>0.621605</td>\n",
       "      <td>0.747432</td>\n",
       "      <td>0.789140</td>\n",
       "      <td>0.279844</td>\n",
       "    </tr>\n",
       "    <tr>\n",
       "      <th>6</th>\n",
       "      <td>0.917733</td>\n",
       "      <td>0.739812</td>\n",
       "      <td>0.463090</td>\n",
       "      <td>0.906051</td>\n",
       "      <td>0.473681</td>\n",
       "      <td>0.759881</td>\n",
       "    </tr>\n",
       "    <tr>\n",
       "      <th>7</th>\n",
       "      <td>0.239488</td>\n",
       "      <td>0.453373</td>\n",
       "      <td>0.082169</td>\n",
       "      <td>0.191129</td>\n",
       "      <td>0.271556</td>\n",
       "      <td>0.208201</td>\n",
       "    </tr>\n",
       "    <tr>\n",
       "      <th>8</th>\n",
       "      <td>0.994808</td>\n",
       "      <td>0.419953</td>\n",
       "      <td>0.872775</td>\n",
       "      <td>0.782133</td>\n",
       "      <td>0.558537</td>\n",
       "      <td>0.323859</td>\n",
       "    </tr>\n",
       "    <tr>\n",
       "      <th>9</th>\n",
       "      <td>0.389550</td>\n",
       "      <td>0.537000</td>\n",
       "      <td>0.941417</td>\n",
       "      <td>0.081433</td>\n",
       "      <td>0.909537</td>\n",
       "      <td>0.278162</td>\n",
       "    </tr>\n",
       "    <tr>\n",
       "      <th>10</th>\n",
       "      <td>0.672800</td>\n",
       "      <td>0.349404</td>\n",
       "      <td>0.576208</td>\n",
       "      <td>0.922537</td>\n",
       "      <td>0.431780</td>\n",
       "      <td>0.790312</td>\n",
       "    </tr>\n",
       "    <tr>\n",
       "      <th>11</th>\n",
       "      <td>0.052775</td>\n",
       "      <td>0.658172</td>\n",
       "      <td>0.334694</td>\n",
       "      <td>0.153849</td>\n",
       "      <td>0.454398</td>\n",
       "      <td>0.889913</td>\n",
       "    </tr>\n",
       "    <tr>\n",
       "      <th>12</th>\n",
       "      <td>0.378632</td>\n",
       "      <td>0.326843</td>\n",
       "      <td>0.876146</td>\n",
       "      <td>0.136811</td>\n",
       "      <td>0.474922</td>\n",
       "      <td>0.885783</td>\n",
       "    </tr>\n",
       "    <tr>\n",
       "      <th>13</th>\n",
       "      <td>0.132031</td>\n",
       "      <td>0.151797</td>\n",
       "      <td>0.004512</td>\n",
       "      <td>0.552894</td>\n",
       "      <td>0.006434</td>\n",
       "      <td>0.041160</td>\n",
       "    </tr>\n",
       "    <tr>\n",
       "      <th>14</th>\n",
       "      <td>0.438989</td>\n",
       "      <td>0.485103</td>\n",
       "      <td>0.693182</td>\n",
       "      <td>0.465587</td>\n",
       "      <td>0.106033</td>\n",
       "      <td>0.251320</td>\n",
       "    </tr>\n",
       "    <tr>\n",
       "      <th>15</th>\n",
       "      <td>0.683394</td>\n",
       "      <td>0.158604</td>\n",
       "      <td>0.168268</td>\n",
       "      <td>0.935361</td>\n",
       "      <td>0.487690</td>\n",
       "      <td>0.656782</td>\n",
       "    </tr>\n",
       "    <tr>\n",
       "      <th>16</th>\n",
       "      <td>0.101132</td>\n",
       "      <td>0.797641</td>\n",
       "      <td>0.580322</td>\n",
       "      <td>0.442150</td>\n",
       "      <td>0.738622</td>\n",
       "      <td>0.975511</td>\n",
       "    </tr>\n",
       "    <tr>\n",
       "      <th>17</th>\n",
       "      <td>0.186438</td>\n",
       "      <td>0.665435</td>\n",
       "      <td>0.269656</td>\n",
       "      <td>0.852374</td>\n",
       "      <td>0.867811</td>\n",
       "      <td>0.175726</td>\n",
       "    </tr>\n",
       "    <tr>\n",
       "      <th>18</th>\n",
       "      <td>0.755481</td>\n",
       "      <td>0.585333</td>\n",
       "      <td>0.876494</td>\n",
       "      <td>0.051804</td>\n",
       "      <td>0.744058</td>\n",
       "      <td>0.879977</td>\n",
       "    </tr>\n",
       "    <tr>\n",
       "      <th>19</th>\n",
       "      <td>0.758668</td>\n",
       "      <td>0.250244</td>\n",
       "      <td>0.721471</td>\n",
       "      <td>0.471689</td>\n",
       "      <td>0.823709</td>\n",
       "      <td>0.570059</td>\n",
       "    </tr>\n",
       "  </tbody>\n",
       "</table>\n",
       "</div>"
      ],
      "text/plain": [
       "           a         c         d         b         e         y\n",
       "0   0.991901  0.838998  0.775604  0.892089  0.102794  0.636771\n",
       "1   0.389468  0.247012  0.457715  0.142122  0.346488  0.271232\n",
       "2   0.074315  0.187233  0.036972  0.936166  0.729084  0.592069\n",
       "3   0.793904  0.716845  0.960509  0.976558  0.929384  0.369410\n",
       "4   0.133066  0.534543  0.564230  0.208281  0.234824  0.519950\n",
       "5   0.397447  0.115304  0.621605  0.747432  0.789140  0.279844\n",
       "6   0.917733  0.739812  0.463090  0.906051  0.473681  0.759881\n",
       "7   0.239488  0.453373  0.082169  0.191129  0.271556  0.208201\n",
       "8   0.994808  0.419953  0.872775  0.782133  0.558537  0.323859\n",
       "9   0.389550  0.537000  0.941417  0.081433  0.909537  0.278162\n",
       "10  0.672800  0.349404  0.576208  0.922537  0.431780  0.790312\n",
       "11  0.052775  0.658172  0.334694  0.153849  0.454398  0.889913\n",
       "12  0.378632  0.326843  0.876146  0.136811  0.474922  0.885783\n",
       "13  0.132031  0.151797  0.004512  0.552894  0.006434  0.041160\n",
       "14  0.438989  0.485103  0.693182  0.465587  0.106033  0.251320\n",
       "15  0.683394  0.158604  0.168268  0.935361  0.487690  0.656782\n",
       "16  0.101132  0.797641  0.580322  0.442150  0.738622  0.975511\n",
       "17  0.186438  0.665435  0.269656  0.852374  0.867811  0.175726\n",
       "18  0.755481  0.585333  0.876494  0.051804  0.744058  0.879977\n",
       "19  0.758668  0.250244  0.721471  0.471689  0.823709  0.570059"
      ]
     },
     "execution_count": 172,
     "metadata": {},
     "output_type": "execute_result"
    }
   ],
   "source": [
    "s2"
   ]
  },
  {
   "cell_type": "code",
   "execution_count": 175,
   "metadata": {
    "collapsed": false
   },
   "outputs": [
    {
     "data": {
      "text/html": [
       "<div>\n",
       "<table border=\"1\" class=\"dataframe\">\n",
       "  <thead>\n",
       "    <tr style=\"text-align: right;\">\n",
       "      <th></th>\n",
       "      <th>y</th>\n",
       "      <th>e</th>\n",
       "      <th>d</th>\n",
       "      <th>c</th>\n",
       "      <th>b</th>\n",
       "      <th>a</th>\n",
       "    </tr>\n",
       "  </thead>\n",
       "  <tbody>\n",
       "    <tr>\n",
       "      <th>0</th>\n",
       "      <td>0.636771</td>\n",
       "      <td>0.102794</td>\n",
       "      <td>0.775604</td>\n",
       "      <td>0.838998</td>\n",
       "      <td>0.892089</td>\n",
       "      <td>0.991901</td>\n",
       "    </tr>\n",
       "    <tr>\n",
       "      <th>1</th>\n",
       "      <td>0.271232</td>\n",
       "      <td>0.346488</td>\n",
       "      <td>0.457715</td>\n",
       "      <td>0.247012</td>\n",
       "      <td>0.142122</td>\n",
       "      <td>0.389468</td>\n",
       "    </tr>\n",
       "    <tr>\n",
       "      <th>2</th>\n",
       "      <td>0.592069</td>\n",
       "      <td>0.729084</td>\n",
       "      <td>0.036972</td>\n",
       "      <td>0.187233</td>\n",
       "      <td>0.936166</td>\n",
       "      <td>0.074315</td>\n",
       "    </tr>\n",
       "    <tr>\n",
       "      <th>3</th>\n",
       "      <td>0.369410</td>\n",
       "      <td>0.929384</td>\n",
       "      <td>0.960509</td>\n",
       "      <td>0.716845</td>\n",
       "      <td>0.976558</td>\n",
       "      <td>0.793904</td>\n",
       "    </tr>\n",
       "    <tr>\n",
       "      <th>4</th>\n",
       "      <td>0.519950</td>\n",
       "      <td>0.234824</td>\n",
       "      <td>0.564230</td>\n",
       "      <td>0.534543</td>\n",
       "      <td>0.208281</td>\n",
       "      <td>0.133066</td>\n",
       "    </tr>\n",
       "    <tr>\n",
       "      <th>5</th>\n",
       "      <td>0.279844</td>\n",
       "      <td>0.789140</td>\n",
       "      <td>0.621605</td>\n",
       "      <td>0.115304</td>\n",
       "      <td>0.747432</td>\n",
       "      <td>0.397447</td>\n",
       "    </tr>\n",
       "    <tr>\n",
       "      <th>6</th>\n",
       "      <td>0.759881</td>\n",
       "      <td>0.473681</td>\n",
       "      <td>0.463090</td>\n",
       "      <td>0.739812</td>\n",
       "      <td>0.906051</td>\n",
       "      <td>0.917733</td>\n",
       "    </tr>\n",
       "    <tr>\n",
       "      <th>7</th>\n",
       "      <td>0.208201</td>\n",
       "      <td>0.271556</td>\n",
       "      <td>0.082169</td>\n",
       "      <td>0.453373</td>\n",
       "      <td>0.191129</td>\n",
       "      <td>0.239488</td>\n",
       "    </tr>\n",
       "    <tr>\n",
       "      <th>8</th>\n",
       "      <td>0.323859</td>\n",
       "      <td>0.558537</td>\n",
       "      <td>0.872775</td>\n",
       "      <td>0.419953</td>\n",
       "      <td>0.782133</td>\n",
       "      <td>0.994808</td>\n",
       "    </tr>\n",
       "    <tr>\n",
       "      <th>9</th>\n",
       "      <td>0.278162</td>\n",
       "      <td>0.909537</td>\n",
       "      <td>0.941417</td>\n",
       "      <td>0.537000</td>\n",
       "      <td>0.081433</td>\n",
       "      <td>0.389550</td>\n",
       "    </tr>\n",
       "    <tr>\n",
       "      <th>10</th>\n",
       "      <td>0.790312</td>\n",
       "      <td>0.431780</td>\n",
       "      <td>0.576208</td>\n",
       "      <td>0.349404</td>\n",
       "      <td>0.922537</td>\n",
       "      <td>0.672800</td>\n",
       "    </tr>\n",
       "    <tr>\n",
       "      <th>11</th>\n",
       "      <td>0.889913</td>\n",
       "      <td>0.454398</td>\n",
       "      <td>0.334694</td>\n",
       "      <td>0.658172</td>\n",
       "      <td>0.153849</td>\n",
       "      <td>0.052775</td>\n",
       "    </tr>\n",
       "    <tr>\n",
       "      <th>12</th>\n",
       "      <td>0.885783</td>\n",
       "      <td>0.474922</td>\n",
       "      <td>0.876146</td>\n",
       "      <td>0.326843</td>\n",
       "      <td>0.136811</td>\n",
       "      <td>0.378632</td>\n",
       "    </tr>\n",
       "    <tr>\n",
       "      <th>13</th>\n",
       "      <td>0.041160</td>\n",
       "      <td>0.006434</td>\n",
       "      <td>0.004512</td>\n",
       "      <td>0.151797</td>\n",
       "      <td>0.552894</td>\n",
       "      <td>0.132031</td>\n",
       "    </tr>\n",
       "    <tr>\n",
       "      <th>14</th>\n",
       "      <td>0.251320</td>\n",
       "      <td>0.106033</td>\n",
       "      <td>0.693182</td>\n",
       "      <td>0.485103</td>\n",
       "      <td>0.465587</td>\n",
       "      <td>0.438989</td>\n",
       "    </tr>\n",
       "    <tr>\n",
       "      <th>15</th>\n",
       "      <td>0.656782</td>\n",
       "      <td>0.487690</td>\n",
       "      <td>0.168268</td>\n",
       "      <td>0.158604</td>\n",
       "      <td>0.935361</td>\n",
       "      <td>0.683394</td>\n",
       "    </tr>\n",
       "    <tr>\n",
       "      <th>16</th>\n",
       "      <td>0.975511</td>\n",
       "      <td>0.738622</td>\n",
       "      <td>0.580322</td>\n",
       "      <td>0.797641</td>\n",
       "      <td>0.442150</td>\n",
       "      <td>0.101132</td>\n",
       "    </tr>\n",
       "    <tr>\n",
       "      <th>17</th>\n",
       "      <td>0.175726</td>\n",
       "      <td>0.867811</td>\n",
       "      <td>0.269656</td>\n",
       "      <td>0.665435</td>\n",
       "      <td>0.852374</td>\n",
       "      <td>0.186438</td>\n",
       "    </tr>\n",
       "    <tr>\n",
       "      <th>18</th>\n",
       "      <td>0.879977</td>\n",
       "      <td>0.744058</td>\n",
       "      <td>0.876494</td>\n",
       "      <td>0.585333</td>\n",
       "      <td>0.051804</td>\n",
       "      <td>0.755481</td>\n",
       "    </tr>\n",
       "    <tr>\n",
       "      <th>19</th>\n",
       "      <td>0.570059</td>\n",
       "      <td>0.823709</td>\n",
       "      <td>0.721471</td>\n",
       "      <td>0.250244</td>\n",
       "      <td>0.471689</td>\n",
       "      <td>0.758668</td>\n",
       "    </tr>\n",
       "  </tbody>\n",
       "</table>\n",
       "</div>"
      ],
      "text/plain": [
       "           y         e         d         c         b         a\n",
       "0   0.636771  0.102794  0.775604  0.838998  0.892089  0.991901\n",
       "1   0.271232  0.346488  0.457715  0.247012  0.142122  0.389468\n",
       "2   0.592069  0.729084  0.036972  0.187233  0.936166  0.074315\n",
       "3   0.369410  0.929384  0.960509  0.716845  0.976558  0.793904\n",
       "4   0.519950  0.234824  0.564230  0.534543  0.208281  0.133066\n",
       "5   0.279844  0.789140  0.621605  0.115304  0.747432  0.397447\n",
       "6   0.759881  0.473681  0.463090  0.739812  0.906051  0.917733\n",
       "7   0.208201  0.271556  0.082169  0.453373  0.191129  0.239488\n",
       "8   0.323859  0.558537  0.872775  0.419953  0.782133  0.994808\n",
       "9   0.278162  0.909537  0.941417  0.537000  0.081433  0.389550\n",
       "10  0.790312  0.431780  0.576208  0.349404  0.922537  0.672800\n",
       "11  0.889913  0.454398  0.334694  0.658172  0.153849  0.052775\n",
       "12  0.885783  0.474922  0.876146  0.326843  0.136811  0.378632\n",
       "13  0.041160  0.006434  0.004512  0.151797  0.552894  0.132031\n",
       "14  0.251320  0.106033  0.693182  0.485103  0.465587  0.438989\n",
       "15  0.656782  0.487690  0.168268  0.158604  0.935361  0.683394\n",
       "16  0.975511  0.738622  0.580322  0.797641  0.442150  0.101132\n",
       "17  0.175726  0.867811  0.269656  0.665435  0.852374  0.186438\n",
       "18  0.879977  0.744058  0.876494  0.585333  0.051804  0.755481\n",
       "19  0.570059  0.823709  0.721471  0.250244  0.471689  0.758668"
      ]
     },
     "execution_count": 175,
     "metadata": {},
     "output_type": "execute_result"
    }
   ],
   "source": [
    "s2.sort_index(axis=1,ascending=False)  \n",
    "#axis代表轴，0为行轴，1为列轴\n",
    "#ascending 排序的方式，默认True，表示升序，False则为降序"
   ]
  },
  {
   "cell_type": "markdown",
   "metadata": {},
   "source": [
    "## 按值排序"
   ]
  },
  {
   "cell_type": "code",
   "execution_count": 188,
   "metadata": {
    "collapsed": false
   },
   "outputs": [
    {
     "name": "stderr",
     "output_type": "stream",
     "text": [
      "C:\\ProgramData\\Anaconda2\\lib\\site-packages\\ipykernel\\__main__.py:1: FutureWarning: sort(columns=....) is deprecated, use sort_values(by=.....)\n",
      "  if __name__ == '__main__':\n"
     ]
    },
    {
     "data": {
      "text/html": [
       "<div>\n",
       "<table border=\"1\" class=\"dataframe\">\n",
       "  <thead>\n",
       "    <tr style=\"text-align: right;\">\n",
       "      <th></th>\n",
       "      <th>a</th>\n",
       "      <th>c</th>\n",
       "      <th>d</th>\n",
       "      <th>b</th>\n",
       "      <th>e</th>\n",
       "      <th>y</th>\n",
       "    </tr>\n",
       "  </thead>\n",
       "  <tbody>\n",
       "    <tr>\n",
       "      <th>18</th>\n",
       "      <td>0.755481</td>\n",
       "      <td>0.585333</td>\n",
       "      <td>0.876494</td>\n",
       "      <td>0.051804</td>\n",
       "      <td>0.744058</td>\n",
       "      <td>0.879977</td>\n",
       "    </tr>\n",
       "    <tr>\n",
       "      <th>9</th>\n",
       "      <td>0.389550</td>\n",
       "      <td>0.537000</td>\n",
       "      <td>0.941417</td>\n",
       "      <td>0.081433</td>\n",
       "      <td>0.909537</td>\n",
       "      <td>0.278162</td>\n",
       "    </tr>\n",
       "    <tr>\n",
       "      <th>12</th>\n",
       "      <td>0.378632</td>\n",
       "      <td>0.326843</td>\n",
       "      <td>0.876146</td>\n",
       "      <td>0.136811</td>\n",
       "      <td>0.474922</td>\n",
       "      <td>0.885783</td>\n",
       "    </tr>\n",
       "    <tr>\n",
       "      <th>1</th>\n",
       "      <td>0.389468</td>\n",
       "      <td>0.247012</td>\n",
       "      <td>0.457715</td>\n",
       "      <td>0.142122</td>\n",
       "      <td>0.346488</td>\n",
       "      <td>0.271232</td>\n",
       "    </tr>\n",
       "    <tr>\n",
       "      <th>11</th>\n",
       "      <td>0.052775</td>\n",
       "      <td>0.658172</td>\n",
       "      <td>0.334694</td>\n",
       "      <td>0.153849</td>\n",
       "      <td>0.454398</td>\n",
       "      <td>0.889913</td>\n",
       "    </tr>\n",
       "    <tr>\n",
       "      <th>7</th>\n",
       "      <td>0.239488</td>\n",
       "      <td>0.453373</td>\n",
       "      <td>0.082169</td>\n",
       "      <td>0.191129</td>\n",
       "      <td>0.271556</td>\n",
       "      <td>0.208201</td>\n",
       "    </tr>\n",
       "    <tr>\n",
       "      <th>4</th>\n",
       "      <td>0.133066</td>\n",
       "      <td>0.534543</td>\n",
       "      <td>0.564230</td>\n",
       "      <td>0.208281</td>\n",
       "      <td>0.234824</td>\n",
       "      <td>0.519950</td>\n",
       "    </tr>\n",
       "    <tr>\n",
       "      <th>16</th>\n",
       "      <td>0.101132</td>\n",
       "      <td>0.797641</td>\n",
       "      <td>0.580322</td>\n",
       "      <td>0.442150</td>\n",
       "      <td>0.738622</td>\n",
       "      <td>0.975511</td>\n",
       "    </tr>\n",
       "    <tr>\n",
       "      <th>14</th>\n",
       "      <td>0.438989</td>\n",
       "      <td>0.485103</td>\n",
       "      <td>0.693182</td>\n",
       "      <td>0.465587</td>\n",
       "      <td>0.106033</td>\n",
       "      <td>0.251320</td>\n",
       "    </tr>\n",
       "    <tr>\n",
       "      <th>19</th>\n",
       "      <td>0.758668</td>\n",
       "      <td>0.250244</td>\n",
       "      <td>0.721471</td>\n",
       "      <td>0.471689</td>\n",
       "      <td>0.823709</td>\n",
       "      <td>0.570059</td>\n",
       "    </tr>\n",
       "    <tr>\n",
       "      <th>13</th>\n",
       "      <td>0.132031</td>\n",
       "      <td>0.151797</td>\n",
       "      <td>0.004512</td>\n",
       "      <td>0.552894</td>\n",
       "      <td>0.006434</td>\n",
       "      <td>0.041160</td>\n",
       "    </tr>\n",
       "    <tr>\n",
       "      <th>5</th>\n",
       "      <td>0.397447</td>\n",
       "      <td>0.115304</td>\n",
       "      <td>0.621605</td>\n",
       "      <td>0.747432</td>\n",
       "      <td>0.789140</td>\n",
       "      <td>0.279844</td>\n",
       "    </tr>\n",
       "    <tr>\n",
       "      <th>8</th>\n",
       "      <td>0.994808</td>\n",
       "      <td>0.419953</td>\n",
       "      <td>0.872775</td>\n",
       "      <td>0.782133</td>\n",
       "      <td>0.558537</td>\n",
       "      <td>0.323859</td>\n",
       "    </tr>\n",
       "    <tr>\n",
       "      <th>17</th>\n",
       "      <td>0.186438</td>\n",
       "      <td>0.665435</td>\n",
       "      <td>0.269656</td>\n",
       "      <td>0.852374</td>\n",
       "      <td>0.867811</td>\n",
       "      <td>0.175726</td>\n",
       "    </tr>\n",
       "    <tr>\n",
       "      <th>0</th>\n",
       "      <td>0.991901</td>\n",
       "      <td>0.838998</td>\n",
       "      <td>0.775604</td>\n",
       "      <td>0.892089</td>\n",
       "      <td>0.102794</td>\n",
       "      <td>0.636771</td>\n",
       "    </tr>\n",
       "    <tr>\n",
       "      <th>6</th>\n",
       "      <td>0.917733</td>\n",
       "      <td>0.739812</td>\n",
       "      <td>0.463090</td>\n",
       "      <td>0.906051</td>\n",
       "      <td>0.473681</td>\n",
       "      <td>0.759881</td>\n",
       "    </tr>\n",
       "    <tr>\n",
       "      <th>10</th>\n",
       "      <td>0.672800</td>\n",
       "      <td>0.349404</td>\n",
       "      <td>0.576208</td>\n",
       "      <td>0.922537</td>\n",
       "      <td>0.431780</td>\n",
       "      <td>0.790312</td>\n",
       "    </tr>\n",
       "    <tr>\n",
       "      <th>15</th>\n",
       "      <td>0.683394</td>\n",
       "      <td>0.158604</td>\n",
       "      <td>0.168268</td>\n",
       "      <td>0.935361</td>\n",
       "      <td>0.487690</td>\n",
       "      <td>0.656782</td>\n",
       "    </tr>\n",
       "    <tr>\n",
       "      <th>2</th>\n",
       "      <td>0.074315</td>\n",
       "      <td>0.187233</td>\n",
       "      <td>0.036972</td>\n",
       "      <td>0.936166</td>\n",
       "      <td>0.729084</td>\n",
       "      <td>0.592069</td>\n",
       "    </tr>\n",
       "    <tr>\n",
       "      <th>3</th>\n",
       "      <td>0.793904</td>\n",
       "      <td>0.716845</td>\n",
       "      <td>0.960509</td>\n",
       "      <td>0.976558</td>\n",
       "      <td>0.929384</td>\n",
       "      <td>0.369410</td>\n",
       "    </tr>\n",
       "  </tbody>\n",
       "</table>\n",
       "</div>"
      ],
      "text/plain": [
       "           a         c         d         b         e         y\n",
       "18  0.755481  0.585333  0.876494  0.051804  0.744058  0.879977\n",
       "9   0.389550  0.537000  0.941417  0.081433  0.909537  0.278162\n",
       "12  0.378632  0.326843  0.876146  0.136811  0.474922  0.885783\n",
       "1   0.389468  0.247012  0.457715  0.142122  0.346488  0.271232\n",
       "11  0.052775  0.658172  0.334694  0.153849  0.454398  0.889913\n",
       "7   0.239488  0.453373  0.082169  0.191129  0.271556  0.208201\n",
       "4   0.133066  0.534543  0.564230  0.208281  0.234824  0.519950\n",
       "16  0.101132  0.797641  0.580322  0.442150  0.738622  0.975511\n",
       "14  0.438989  0.485103  0.693182  0.465587  0.106033  0.251320\n",
       "19  0.758668  0.250244  0.721471  0.471689  0.823709  0.570059\n",
       "13  0.132031  0.151797  0.004512  0.552894  0.006434  0.041160\n",
       "5   0.397447  0.115304  0.621605  0.747432  0.789140  0.279844\n",
       "8   0.994808  0.419953  0.872775  0.782133  0.558537  0.323859\n",
       "17  0.186438  0.665435  0.269656  0.852374  0.867811  0.175726\n",
       "0   0.991901  0.838998  0.775604  0.892089  0.102794  0.636771\n",
       "6   0.917733  0.739812  0.463090  0.906051  0.473681  0.759881\n",
       "10  0.672800  0.349404  0.576208  0.922537  0.431780  0.790312\n",
       "15  0.683394  0.158604  0.168268  0.935361  0.487690  0.656782\n",
       "2   0.074315  0.187233  0.036972  0.936166  0.729084  0.592069\n",
       "3   0.793904  0.716845  0.960509  0.976558  0.929384  0.369410"
      ]
     },
     "execution_count": 188,
     "metadata": {},
     "output_type": "execute_result"
    }
   ],
   "source": [
    "s2.sort(columns='b')"
   ]
  },
  {
   "cell_type": "markdown",
   "metadata": {},
   "source": [
    "## 按照标签来获取一个交叉的区域"
   ]
  },
  {
   "cell_type": "code",
   "execution_count": 199,
   "metadata": {
    "collapsed": false
   },
   "outputs": [],
   "source": [
    "datas=[0,20,30]"
   ]
  },
  {
   "cell_type": "code",
   "execution_count": 207,
   "metadata": {
    "collapsed": false
   },
   "outputs": [
    {
     "data": {
      "text/plain": [
       "a    0.991901\n",
       "Name: 0, dtype: float64"
      ]
     },
     "execution_count": 207,
     "metadata": {},
     "output_type": "execute_result"
    }
   ],
   "source": [
    "s2.loc[0:5,['a']]   #提取0~5行的数据，再提取a列的数据\n",
    "# 标签的切片"
   ]
  },
  {
   "cell_type": "code",
   "execution_count": 208,
   "metadata": {
    "collapsed": false
   },
   "outputs": [
    {
     "data": {
      "text/plain": [
       "a    0.991901\n",
       "Name: 0, dtype: float64"
      ]
     },
     "execution_count": 208,
     "metadata": {},
     "output_type": "execute_result"
    }
   ],
   "source": [
    "s2.loc[0,['a']]     # 对于返回的对象进行维度缩减"
   ]
  },
  {
   "cell_type": "code",
   "execution_count": 209,
   "metadata": {
    "collapsed": false
   },
   "outputs": [
    {
     "data": {
      "text/plain": [
       "0.99190107406189176"
      ]
     },
     "execution_count": 209,
     "metadata": {},
     "output_type": "execute_result"
    }
   ],
   "source": [
    "s2.loc[0,'a']    # 等同于如下的效果"
   ]
  },
  {
   "cell_type": "code",
   "execution_count": 210,
   "metadata": {
    "collapsed": false
   },
   "outputs": [
    {
     "data": {
      "text/plain": [
       "0.99190107406189176"
      ]
     },
     "execution_count": 210,
     "metadata": {},
     "output_type": "execute_result"
    }
   ],
   "source": [
    "s2['a'][0]"
   ]
  },
  {
   "cell_type": "code",
   "execution_count": 211,
   "metadata": {
    "collapsed": false
   },
   "outputs": [
    {
     "data": {
      "text/plain": [
       "a    0.758668\n",
       "c    0.250244\n",
       "d    0.721471\n",
       "b    0.471689\n",
       "e    0.823709\n",
       "y    0.570059\n",
       "Name: 19, dtype: float64"
      ]
     },
     "execution_count": 211,
     "metadata": {},
     "output_type": "execute_result"
    }
   ],
   "source": [
    "s2.ix[19]"
   ]
  },
  {
   "cell_type": "code",
   "execution_count": 213,
   "metadata": {
    "collapsed": false
   },
   "outputs": [],
   "source": [
    "s2.ix[20]=[1,2,3,4,5,6]"
   ]
  },
  {
   "cell_type": "code",
   "execution_count": 214,
   "metadata": {
    "collapsed": false
   },
   "outputs": [
    {
     "data": {
      "text/plain": [
       "a    1.0\n",
       "c    2.0\n",
       "d    3.0\n",
       "b    4.0\n",
       "e    5.0\n",
       "y    6.0\n",
       "Name: 20, dtype: float64"
      ]
     },
     "execution_count": 214,
     "metadata": {},
     "output_type": "execute_result"
    }
   ],
   "source": [
    "s2.ix[20]"
   ]
  },
  {
   "cell_type": "markdown",
   "metadata": {},
   "source": [
    "## 通过位置选择"
   ]
  },
  {
   "cell_type": "markdown",
   "metadata": {},
   "source": [
    "### 通过传递数值进行位置选择（选择的是行）"
   ]
  },
  {
   "cell_type": "code",
   "execution_count": 217,
   "metadata": {
    "collapsed": false
   },
   "outputs": [
    {
     "data": {
      "text/plain": [
       "a    0.991901\n",
       "c    0.838998\n",
       "d    0.775604\n",
       "b    0.892089\n",
       "e    0.102794\n",
       "y    0.636771\n",
       "Name: 0, dtype: float64"
      ]
     },
     "execution_count": 217,
     "metadata": {},
     "output_type": "execute_result"
    }
   ],
   "source": [
    "s2.iloc[0]"
   ]
  },
  {
   "cell_type": "markdown",
   "metadata": {},
   "source": [
    "### 通过数值进行切片"
   ]
  },
  {
   "cell_type": "code",
   "execution_count": 225,
   "metadata": {
    "collapsed": false
   },
   "outputs": [
    {
     "data": {
      "text/html": [
       "<div>\n",
       "<table border=\"1\" class=\"dataframe\">\n",
       "  <thead>\n",
       "    <tr style=\"text-align: right;\">\n",
       "      <th></th>\n",
       "      <th>a</th>\n",
       "      <th>c</th>\n",
       "      <th>d</th>\n",
       "      <th>b</th>\n",
       "      <th>e</th>\n",
       "      <th>y</th>\n",
       "    </tr>\n",
       "  </thead>\n",
       "  <tbody>\n",
       "    <tr>\n",
       "      <th>1</th>\n",
       "      <td>0.389468</td>\n",
       "      <td>0.247012</td>\n",
       "      <td>0.457715</td>\n",
       "      <td>0.142122</td>\n",
       "      <td>0.346488</td>\n",
       "      <td>0.271232</td>\n",
       "    </tr>\n",
       "    <tr>\n",
       "      <th>2</th>\n",
       "      <td>0.074315</td>\n",
       "      <td>0.187233</td>\n",
       "      <td>0.036972</td>\n",
       "      <td>0.936166</td>\n",
       "      <td>0.729084</td>\n",
       "      <td>0.592069</td>\n",
       "    </tr>\n",
       "  </tbody>\n",
       "</table>\n",
       "</div>"
      ],
      "text/plain": [
       "          a         c         d         b         e         y\n",
       "1  0.389468  0.247012  0.457715  0.142122  0.346488  0.271232\n",
       "2  0.074315  0.187233  0.036972  0.936166  0.729084  0.592069"
      ]
     },
     "execution_count": 225,
     "metadata": {},
     "output_type": "execute_result"
    }
   ],
   "source": [
    "s2.iloc[1:3]  #切片 行，1-3行，[1,3)"
   ]
  },
  {
   "cell_type": "code",
   "execution_count": 228,
   "metadata": {
    "collapsed": false,
    "scrolled": true
   },
   "outputs": [
    {
     "data": {
      "text/html": [
       "<div>\n",
       "<table border=\"1\" class=\"dataframe\">\n",
       "  <thead>\n",
       "    <tr style=\"text-align: right;\">\n",
       "      <th></th>\n",
       "      <th>d</th>\n",
       "      <th>b</th>\n",
       "    </tr>\n",
       "  </thead>\n",
       "  <tbody>\n",
       "    <tr>\n",
       "      <th>1</th>\n",
       "      <td>0.457715</td>\n",
       "      <td>0.142122</td>\n",
       "    </tr>\n",
       "    <tr>\n",
       "      <th>2</th>\n",
       "      <td>0.036972</td>\n",
       "      <td>0.936166</td>\n",
       "    </tr>\n",
       "  </tbody>\n",
       "</table>\n",
       "</div>"
      ],
      "text/plain": [
       "          d         b\n",
       "1  0.457715  0.142122\n",
       "2  0.036972  0.936166"
      ]
     },
     "execution_count": 228,
     "metadata": {},
     "output_type": "execute_result"
    }
   ],
   "source": [
    "s2.iloc[1:3,2:4] # 切片 行和列,1-3行，2-4列"
   ]
  },
  {
   "cell_type": "markdown",
   "metadata": {},
   "source": [
    "### 通知指定一个位置的列表"
   ]
  },
  {
   "cell_type": "code",
   "execution_count": 229,
   "metadata": {
    "collapsed": false
   },
   "outputs": [
    {
     "data": {
      "text/html": [
       "<div>\n",
       "<table border=\"1\" class=\"dataframe\">\n",
       "  <thead>\n",
       "    <tr style=\"text-align: right;\">\n",
       "      <th></th>\n",
       "      <th>d</th>\n",
       "      <th>e</th>\n",
       "    </tr>\n",
       "  </thead>\n",
       "  <tbody>\n",
       "    <tr>\n",
       "      <th>1</th>\n",
       "      <td>0.457715</td>\n",
       "      <td>0.346488</td>\n",
       "    </tr>\n",
       "    <tr>\n",
       "      <th>2</th>\n",
       "      <td>0.036972</td>\n",
       "      <td>0.729084</td>\n",
       "    </tr>\n",
       "    <tr>\n",
       "      <th>3</th>\n",
       "      <td>0.960509</td>\n",
       "      <td>0.929384</td>\n",
       "    </tr>\n",
       "  </tbody>\n",
       "</table>\n",
       "</div>"
      ],
      "text/plain": [
       "          d         e\n",
       "1  0.457715  0.346488\n",
       "2  0.036972  0.729084\n",
       "3  0.960509  0.929384"
      ]
     },
     "execution_count": 229,
     "metadata": {},
     "output_type": "execute_result"
    }
   ],
   "source": [
    "s2.iloc[[1,2,3],[2,4]]  #1，2，3行，2，4列"
   ]
  },
  {
   "cell_type": "markdown",
   "metadata": {},
   "source": [
    "### 行切片"
   ]
  },
  {
   "cell_type": "code",
   "execution_count": 230,
   "metadata": {
    "collapsed": false
   },
   "outputs": [
    {
     "data": {
      "text/html": [
       "<div>\n",
       "<table border=\"1\" class=\"dataframe\">\n",
       "  <thead>\n",
       "    <tr style=\"text-align: right;\">\n",
       "      <th></th>\n",
       "      <th>a</th>\n",
       "      <th>c</th>\n",
       "      <th>d</th>\n",
       "      <th>b</th>\n",
       "      <th>e</th>\n",
       "      <th>y</th>\n",
       "    </tr>\n",
       "  </thead>\n",
       "  <tbody>\n",
       "    <tr>\n",
       "      <th>1</th>\n",
       "      <td>0.389468</td>\n",
       "      <td>0.247012</td>\n",
       "      <td>0.457715</td>\n",
       "      <td>0.142122</td>\n",
       "      <td>0.346488</td>\n",
       "      <td>0.271232</td>\n",
       "    </tr>\n",
       "    <tr>\n",
       "      <th>2</th>\n",
       "      <td>0.074315</td>\n",
       "      <td>0.187233</td>\n",
       "      <td>0.036972</td>\n",
       "      <td>0.936166</td>\n",
       "      <td>0.729084</td>\n",
       "      <td>0.592069</td>\n",
       "    </tr>\n",
       "  </tbody>\n",
       "</table>\n",
       "</div>"
      ],
      "text/plain": [
       "          a         c         d         b         e         y\n",
       "1  0.389468  0.247012  0.457715  0.142122  0.346488  0.271232\n",
       "2  0.074315  0.187233  0.036972  0.936166  0.729084  0.592069"
      ]
     },
     "execution_count": 230,
     "metadata": {},
     "output_type": "execute_result"
    }
   ],
   "source": [
    "s2.iloc[1:3,:]"
   ]
  },
  {
   "cell_type": "markdown",
   "metadata": {},
   "source": [
    "### 列切片"
   ]
  },
  {
   "cell_type": "code",
   "execution_count": 231,
   "metadata": {
    "collapsed": false
   },
   "outputs": [
    {
     "data": {
      "text/html": [
       "<div>\n",
       "<table border=\"1\" class=\"dataframe\">\n",
       "  <thead>\n",
       "    <tr style=\"text-align: right;\">\n",
       "      <th></th>\n",
       "      <th>c</th>\n",
       "      <th>d</th>\n",
       "    </tr>\n",
       "  </thead>\n",
       "  <tbody>\n",
       "    <tr>\n",
       "      <th>0</th>\n",
       "      <td>0.838998</td>\n",
       "      <td>0.775604</td>\n",
       "    </tr>\n",
       "    <tr>\n",
       "      <th>1</th>\n",
       "      <td>0.247012</td>\n",
       "      <td>0.457715</td>\n",
       "    </tr>\n",
       "    <tr>\n",
       "      <th>2</th>\n",
       "      <td>0.187233</td>\n",
       "      <td>0.036972</td>\n",
       "    </tr>\n",
       "    <tr>\n",
       "      <th>3</th>\n",
       "      <td>0.716845</td>\n",
       "      <td>0.960509</td>\n",
       "    </tr>\n",
       "    <tr>\n",
       "      <th>4</th>\n",
       "      <td>0.534543</td>\n",
       "      <td>0.564230</td>\n",
       "    </tr>\n",
       "    <tr>\n",
       "      <th>5</th>\n",
       "      <td>0.115304</td>\n",
       "      <td>0.621605</td>\n",
       "    </tr>\n",
       "    <tr>\n",
       "      <th>6</th>\n",
       "      <td>0.739812</td>\n",
       "      <td>0.463090</td>\n",
       "    </tr>\n",
       "    <tr>\n",
       "      <th>7</th>\n",
       "      <td>0.453373</td>\n",
       "      <td>0.082169</td>\n",
       "    </tr>\n",
       "    <tr>\n",
       "      <th>8</th>\n",
       "      <td>0.419953</td>\n",
       "      <td>0.872775</td>\n",
       "    </tr>\n",
       "    <tr>\n",
       "      <th>9</th>\n",
       "      <td>0.537000</td>\n",
       "      <td>0.941417</td>\n",
       "    </tr>\n",
       "    <tr>\n",
       "      <th>10</th>\n",
       "      <td>0.349404</td>\n",
       "      <td>0.576208</td>\n",
       "    </tr>\n",
       "    <tr>\n",
       "      <th>11</th>\n",
       "      <td>0.658172</td>\n",
       "      <td>0.334694</td>\n",
       "    </tr>\n",
       "    <tr>\n",
       "      <th>12</th>\n",
       "      <td>0.326843</td>\n",
       "      <td>0.876146</td>\n",
       "    </tr>\n",
       "    <tr>\n",
       "      <th>13</th>\n",
       "      <td>0.151797</td>\n",
       "      <td>0.004512</td>\n",
       "    </tr>\n",
       "    <tr>\n",
       "      <th>14</th>\n",
       "      <td>0.485103</td>\n",
       "      <td>0.693182</td>\n",
       "    </tr>\n",
       "    <tr>\n",
       "      <th>15</th>\n",
       "      <td>0.158604</td>\n",
       "      <td>0.168268</td>\n",
       "    </tr>\n",
       "    <tr>\n",
       "      <th>16</th>\n",
       "      <td>0.797641</td>\n",
       "      <td>0.580322</td>\n",
       "    </tr>\n",
       "    <tr>\n",
       "      <th>17</th>\n",
       "      <td>0.665435</td>\n",
       "      <td>0.269656</td>\n",
       "    </tr>\n",
       "    <tr>\n",
       "      <th>18</th>\n",
       "      <td>0.585333</td>\n",
       "      <td>0.876494</td>\n",
       "    </tr>\n",
       "    <tr>\n",
       "      <th>19</th>\n",
       "      <td>0.250244</td>\n",
       "      <td>0.721471</td>\n",
       "    </tr>\n",
       "    <tr>\n",
       "      <th>20</th>\n",
       "      <td>2.000000</td>\n",
       "      <td>3.000000</td>\n",
       "    </tr>\n",
       "  </tbody>\n",
       "</table>\n",
       "</div>"
      ],
      "text/plain": [
       "           c         d\n",
       "0   0.838998  0.775604\n",
       "1   0.247012  0.457715\n",
       "2   0.187233  0.036972\n",
       "3   0.716845  0.960509\n",
       "4   0.534543  0.564230\n",
       "5   0.115304  0.621605\n",
       "6   0.739812  0.463090\n",
       "7   0.453373  0.082169\n",
       "8   0.419953  0.872775\n",
       "9   0.537000  0.941417\n",
       "10  0.349404  0.576208\n",
       "11  0.658172  0.334694\n",
       "12  0.326843  0.876146\n",
       "13  0.151797  0.004512\n",
       "14  0.485103  0.693182\n",
       "15  0.158604  0.168268\n",
       "16  0.797641  0.580322\n",
       "17  0.665435  0.269656\n",
       "18  0.585333  0.876494\n",
       "19  0.250244  0.721471\n",
       "20  2.000000  3.000000"
      ]
     },
     "execution_count": 231,
     "metadata": {},
     "output_type": "execute_result"
    }
   ],
   "source": [
    "s2.iloc[:,1:3]"
   ]
  },
  {
   "cell_type": "markdown",
   "metadata": {},
   "source": [
    "### 获取指定位置的值"
   ]
  },
  {
   "cell_type": "code",
   "execution_count": 232,
   "metadata": {
    "collapsed": false
   },
   "outputs": [
    {
     "data": {
      "text/plain": [
       "0.036972299117306262"
      ]
     },
     "execution_count": 232,
     "metadata": {},
     "output_type": "execute_result"
    }
   ],
   "source": [
    "s2.iloc[2,2]  # 获取3行3列的数据"
   ]
  },
  {
   "cell_type": "code",
   "execution_count": 234,
   "metadata": {
    "collapsed": false
   },
   "outputs": [
    {
     "data": {
      "text/plain": [
       "0.036972299117306262"
      ]
     },
     "execution_count": 234,
     "metadata": {},
     "output_type": "execute_result"
    }
   ],
   "source": [
    "s2.iat[2,2]   #快速获取指定位置的数据"
   ]
  },
  {
   "cell_type": "markdown",
   "metadata": {},
   "source": [
    "## 布尔索引"
   ]
  },
  {
   "cell_type": "markdown",
   "metadata": {},
   "source": [
    "### 使用一个单独列的值来选择数据"
   ]
  },
  {
   "cell_type": "code",
   "execution_count": 236,
   "metadata": {
    "collapsed": false
   },
   "outputs": [
    {
     "data": {
      "text/html": [
       "<div>\n",
       "<table border=\"1\" class=\"dataframe\">\n",
       "  <thead>\n",
       "    <tr style=\"text-align: right;\">\n",
       "      <th></th>\n",
       "      <th>a</th>\n",
       "      <th>c</th>\n",
       "      <th>d</th>\n",
       "      <th>b</th>\n",
       "      <th>e</th>\n",
       "      <th>y</th>\n",
       "    </tr>\n",
       "  </thead>\n",
       "  <tbody>\n",
       "    <tr>\n",
       "      <th>0</th>\n",
       "      <td>0.991901</td>\n",
       "      <td>0.838998</td>\n",
       "      <td>0.775604</td>\n",
       "      <td>0.892089</td>\n",
       "      <td>0.102794</td>\n",
       "      <td>0.636771</td>\n",
       "    </tr>\n",
       "    <tr>\n",
       "      <th>3</th>\n",
       "      <td>0.793904</td>\n",
       "      <td>0.716845</td>\n",
       "      <td>0.960509</td>\n",
       "      <td>0.976558</td>\n",
       "      <td>0.929384</td>\n",
       "      <td>0.369410</td>\n",
       "    </tr>\n",
       "    <tr>\n",
       "      <th>6</th>\n",
       "      <td>0.917733</td>\n",
       "      <td>0.739812</td>\n",
       "      <td>0.463090</td>\n",
       "      <td>0.906051</td>\n",
       "      <td>0.473681</td>\n",
       "      <td>0.759881</td>\n",
       "    </tr>\n",
       "    <tr>\n",
       "      <th>8</th>\n",
       "      <td>0.994808</td>\n",
       "      <td>0.419953</td>\n",
       "      <td>0.872775</td>\n",
       "      <td>0.782133</td>\n",
       "      <td>0.558537</td>\n",
       "      <td>0.323859</td>\n",
       "    </tr>\n",
       "    <tr>\n",
       "      <th>10</th>\n",
       "      <td>0.672800</td>\n",
       "      <td>0.349404</td>\n",
       "      <td>0.576208</td>\n",
       "      <td>0.922537</td>\n",
       "      <td>0.431780</td>\n",
       "      <td>0.790312</td>\n",
       "    </tr>\n",
       "    <tr>\n",
       "      <th>15</th>\n",
       "      <td>0.683394</td>\n",
       "      <td>0.158604</td>\n",
       "      <td>0.168268</td>\n",
       "      <td>0.935361</td>\n",
       "      <td>0.487690</td>\n",
       "      <td>0.656782</td>\n",
       "    </tr>\n",
       "    <tr>\n",
       "      <th>18</th>\n",
       "      <td>0.755481</td>\n",
       "      <td>0.585333</td>\n",
       "      <td>0.876494</td>\n",
       "      <td>0.051804</td>\n",
       "      <td>0.744058</td>\n",
       "      <td>0.879977</td>\n",
       "    </tr>\n",
       "    <tr>\n",
       "      <th>19</th>\n",
       "      <td>0.758668</td>\n",
       "      <td>0.250244</td>\n",
       "      <td>0.721471</td>\n",
       "      <td>0.471689</td>\n",
       "      <td>0.823709</td>\n",
       "      <td>0.570059</td>\n",
       "    </tr>\n",
       "    <tr>\n",
       "      <th>20</th>\n",
       "      <td>1.000000</td>\n",
       "      <td>2.000000</td>\n",
       "      <td>3.000000</td>\n",
       "      <td>4.000000</td>\n",
       "      <td>5.000000</td>\n",
       "      <td>6.000000</td>\n",
       "    </tr>\n",
       "  </tbody>\n",
       "</table>\n",
       "</div>"
      ],
      "text/plain": [
       "           a         c         d         b         e         y\n",
       "0   0.991901  0.838998  0.775604  0.892089  0.102794  0.636771\n",
       "3   0.793904  0.716845  0.960509  0.976558  0.929384  0.369410\n",
       "6   0.917733  0.739812  0.463090  0.906051  0.473681  0.759881\n",
       "8   0.994808  0.419953  0.872775  0.782133  0.558537  0.323859\n",
       "10  0.672800  0.349404  0.576208  0.922537  0.431780  0.790312\n",
       "15  0.683394  0.158604  0.168268  0.935361  0.487690  0.656782\n",
       "18  0.755481  0.585333  0.876494  0.051804  0.744058  0.879977\n",
       "19  0.758668  0.250244  0.721471  0.471689  0.823709  0.570059\n",
       "20  1.000000  2.000000  3.000000  4.000000  5.000000  6.000000"
      ]
     },
     "execution_count": 236,
     "metadata": {},
     "output_type": "execute_result"
    }
   ],
   "source": [
    "s2[s2.a>0.5]"
   ]
  },
  {
   "cell_type": "markdown",
   "metadata": {},
   "source": [
    "### 整体过滤"
   ]
  },
  {
   "cell_type": "code",
   "execution_count": 238,
   "metadata": {
    "collapsed": false
   },
   "outputs": [
    {
     "data": {
      "text/html": [
       "<div>\n",
       "<table border=\"1\" class=\"dataframe\">\n",
       "  <thead>\n",
       "    <tr style=\"text-align: right;\">\n",
       "      <th></th>\n",
       "      <th>a</th>\n",
       "      <th>c</th>\n",
       "      <th>d</th>\n",
       "      <th>b</th>\n",
       "      <th>e</th>\n",
       "      <th>y</th>\n",
       "    </tr>\n",
       "  </thead>\n",
       "  <tbody>\n",
       "    <tr>\n",
       "      <th>0</th>\n",
       "      <td>0.991901</td>\n",
       "      <td>0.838998</td>\n",
       "      <td>0.775604</td>\n",
       "      <td>0.892089</td>\n",
       "      <td>NaN</td>\n",
       "      <td>0.636771</td>\n",
       "    </tr>\n",
       "    <tr>\n",
       "      <th>1</th>\n",
       "      <td>NaN</td>\n",
       "      <td>NaN</td>\n",
       "      <td>NaN</td>\n",
       "      <td>NaN</td>\n",
       "      <td>NaN</td>\n",
       "      <td>NaN</td>\n",
       "    </tr>\n",
       "    <tr>\n",
       "      <th>2</th>\n",
       "      <td>NaN</td>\n",
       "      <td>NaN</td>\n",
       "      <td>NaN</td>\n",
       "      <td>0.936166</td>\n",
       "      <td>0.729084</td>\n",
       "      <td>0.592069</td>\n",
       "    </tr>\n",
       "    <tr>\n",
       "      <th>3</th>\n",
       "      <td>0.793904</td>\n",
       "      <td>0.716845</td>\n",
       "      <td>0.960509</td>\n",
       "      <td>0.976558</td>\n",
       "      <td>0.929384</td>\n",
       "      <td>NaN</td>\n",
       "    </tr>\n",
       "    <tr>\n",
       "      <th>4</th>\n",
       "      <td>NaN</td>\n",
       "      <td>0.534543</td>\n",
       "      <td>0.564230</td>\n",
       "      <td>NaN</td>\n",
       "      <td>NaN</td>\n",
       "      <td>0.519950</td>\n",
       "    </tr>\n",
       "    <tr>\n",
       "      <th>5</th>\n",
       "      <td>NaN</td>\n",
       "      <td>NaN</td>\n",
       "      <td>0.621605</td>\n",
       "      <td>0.747432</td>\n",
       "      <td>0.789140</td>\n",
       "      <td>NaN</td>\n",
       "    </tr>\n",
       "    <tr>\n",
       "      <th>6</th>\n",
       "      <td>0.917733</td>\n",
       "      <td>0.739812</td>\n",
       "      <td>NaN</td>\n",
       "      <td>0.906051</td>\n",
       "      <td>NaN</td>\n",
       "      <td>0.759881</td>\n",
       "    </tr>\n",
       "    <tr>\n",
       "      <th>7</th>\n",
       "      <td>NaN</td>\n",
       "      <td>NaN</td>\n",
       "      <td>NaN</td>\n",
       "      <td>NaN</td>\n",
       "      <td>NaN</td>\n",
       "      <td>NaN</td>\n",
       "    </tr>\n",
       "    <tr>\n",
       "      <th>8</th>\n",
       "      <td>0.994808</td>\n",
       "      <td>NaN</td>\n",
       "      <td>0.872775</td>\n",
       "      <td>0.782133</td>\n",
       "      <td>0.558537</td>\n",
       "      <td>NaN</td>\n",
       "    </tr>\n",
       "    <tr>\n",
       "      <th>9</th>\n",
       "      <td>NaN</td>\n",
       "      <td>0.537000</td>\n",
       "      <td>0.941417</td>\n",
       "      <td>NaN</td>\n",
       "      <td>0.909537</td>\n",
       "      <td>NaN</td>\n",
       "    </tr>\n",
       "    <tr>\n",
       "      <th>10</th>\n",
       "      <td>0.672800</td>\n",
       "      <td>NaN</td>\n",
       "      <td>0.576208</td>\n",
       "      <td>0.922537</td>\n",
       "      <td>NaN</td>\n",
       "      <td>0.790312</td>\n",
       "    </tr>\n",
       "    <tr>\n",
       "      <th>11</th>\n",
       "      <td>NaN</td>\n",
       "      <td>0.658172</td>\n",
       "      <td>NaN</td>\n",
       "      <td>NaN</td>\n",
       "      <td>NaN</td>\n",
       "      <td>0.889913</td>\n",
       "    </tr>\n",
       "    <tr>\n",
       "      <th>12</th>\n",
       "      <td>NaN</td>\n",
       "      <td>NaN</td>\n",
       "      <td>0.876146</td>\n",
       "      <td>NaN</td>\n",
       "      <td>NaN</td>\n",
       "      <td>0.885783</td>\n",
       "    </tr>\n",
       "    <tr>\n",
       "      <th>13</th>\n",
       "      <td>NaN</td>\n",
       "      <td>NaN</td>\n",
       "      <td>NaN</td>\n",
       "      <td>0.552894</td>\n",
       "      <td>NaN</td>\n",
       "      <td>NaN</td>\n",
       "    </tr>\n",
       "    <tr>\n",
       "      <th>14</th>\n",
       "      <td>NaN</td>\n",
       "      <td>NaN</td>\n",
       "      <td>0.693182</td>\n",
       "      <td>NaN</td>\n",
       "      <td>NaN</td>\n",
       "      <td>NaN</td>\n",
       "    </tr>\n",
       "    <tr>\n",
       "      <th>15</th>\n",
       "      <td>0.683394</td>\n",
       "      <td>NaN</td>\n",
       "      <td>NaN</td>\n",
       "      <td>0.935361</td>\n",
       "      <td>NaN</td>\n",
       "      <td>0.656782</td>\n",
       "    </tr>\n",
       "    <tr>\n",
       "      <th>16</th>\n",
       "      <td>NaN</td>\n",
       "      <td>0.797641</td>\n",
       "      <td>0.580322</td>\n",
       "      <td>NaN</td>\n",
       "      <td>0.738622</td>\n",
       "      <td>0.975511</td>\n",
       "    </tr>\n",
       "    <tr>\n",
       "      <th>17</th>\n",
       "      <td>NaN</td>\n",
       "      <td>0.665435</td>\n",
       "      <td>NaN</td>\n",
       "      <td>0.852374</td>\n",
       "      <td>0.867811</td>\n",
       "      <td>NaN</td>\n",
       "    </tr>\n",
       "    <tr>\n",
       "      <th>18</th>\n",
       "      <td>0.755481</td>\n",
       "      <td>0.585333</td>\n",
       "      <td>0.876494</td>\n",
       "      <td>NaN</td>\n",
       "      <td>0.744058</td>\n",
       "      <td>0.879977</td>\n",
       "    </tr>\n",
       "    <tr>\n",
       "      <th>19</th>\n",
       "      <td>0.758668</td>\n",
       "      <td>NaN</td>\n",
       "      <td>0.721471</td>\n",
       "      <td>NaN</td>\n",
       "      <td>0.823709</td>\n",
       "      <td>0.570059</td>\n",
       "    </tr>\n",
       "    <tr>\n",
       "      <th>20</th>\n",
       "      <td>1.000000</td>\n",
       "      <td>2.000000</td>\n",
       "      <td>3.000000</td>\n",
       "      <td>4.000000</td>\n",
       "      <td>5.000000</td>\n",
       "      <td>6.000000</td>\n",
       "    </tr>\n",
       "  </tbody>\n",
       "</table>\n",
       "</div>"
      ],
      "text/plain": [
       "           a         c         d         b         e         y\n",
       "0   0.991901  0.838998  0.775604  0.892089       NaN  0.636771\n",
       "1        NaN       NaN       NaN       NaN       NaN       NaN\n",
       "2        NaN       NaN       NaN  0.936166  0.729084  0.592069\n",
       "3   0.793904  0.716845  0.960509  0.976558  0.929384       NaN\n",
       "4        NaN  0.534543  0.564230       NaN       NaN  0.519950\n",
       "5        NaN       NaN  0.621605  0.747432  0.789140       NaN\n",
       "6   0.917733  0.739812       NaN  0.906051       NaN  0.759881\n",
       "7        NaN       NaN       NaN       NaN       NaN       NaN\n",
       "8   0.994808       NaN  0.872775  0.782133  0.558537       NaN\n",
       "9        NaN  0.537000  0.941417       NaN  0.909537       NaN\n",
       "10  0.672800       NaN  0.576208  0.922537       NaN  0.790312\n",
       "11       NaN  0.658172       NaN       NaN       NaN  0.889913\n",
       "12       NaN       NaN  0.876146       NaN       NaN  0.885783\n",
       "13       NaN       NaN       NaN  0.552894       NaN       NaN\n",
       "14       NaN       NaN  0.693182       NaN       NaN       NaN\n",
       "15  0.683394       NaN       NaN  0.935361       NaN  0.656782\n",
       "16       NaN  0.797641  0.580322       NaN  0.738622  0.975511\n",
       "17       NaN  0.665435       NaN  0.852374  0.867811       NaN\n",
       "18  0.755481  0.585333  0.876494       NaN  0.744058  0.879977\n",
       "19  0.758668       NaN  0.721471       NaN  0.823709  0.570059\n",
       "20  1.000000  2.000000  3.000000  4.000000  5.000000  6.000000"
      ]
     },
     "execution_count": 238,
     "metadata": {},
     "output_type": "execute_result"
    }
   ],
   "source": [
    "s2[s2>0.5]  #把所有不满足条件的全部置空(where)"
   ]
  },
  {
   "cell_type": "markdown",
   "metadata": {},
   "source": [
    "### isin() 过滤数据"
   ]
  },
  {
   "cell_type": "code",
   "execution_count": 239,
   "metadata": {
    "collapsed": false
   },
   "outputs": [
    {
     "data": {
      "text/html": [
       "<div>\n",
       "<table border=\"1\" class=\"dataframe\">\n",
       "  <thead>\n",
       "    <tr style=\"text-align: right;\">\n",
       "      <th></th>\n",
       "      <th>a</th>\n",
       "      <th>c</th>\n",
       "      <th>d</th>\n",
       "      <th>b</th>\n",
       "      <th>e</th>\n",
       "      <th>y</th>\n",
       "    </tr>\n",
       "  </thead>\n",
       "  <tbody>\n",
       "    <tr>\n",
       "      <th>0</th>\n",
       "      <td>0.991901</td>\n",
       "      <td>0.838998</td>\n",
       "      <td>0.775604</td>\n",
       "      <td>0.892089</td>\n",
       "      <td>0.102794</td>\n",
       "      <td>0.636771</td>\n",
       "    </tr>\n",
       "    <tr>\n",
       "      <th>1</th>\n",
       "      <td>0.389468</td>\n",
       "      <td>0.247012</td>\n",
       "      <td>0.457715</td>\n",
       "      <td>0.142122</td>\n",
       "      <td>0.346488</td>\n",
       "      <td>0.271232</td>\n",
       "    </tr>\n",
       "    <tr>\n",
       "      <th>2</th>\n",
       "      <td>0.074315</td>\n",
       "      <td>0.187233</td>\n",
       "      <td>0.036972</td>\n",
       "      <td>0.936166</td>\n",
       "      <td>0.729084</td>\n",
       "      <td>0.592069</td>\n",
       "    </tr>\n",
       "    <tr>\n",
       "      <th>3</th>\n",
       "      <td>0.793904</td>\n",
       "      <td>0.716845</td>\n",
       "      <td>0.960509</td>\n",
       "      <td>0.976558</td>\n",
       "      <td>0.929384</td>\n",
       "      <td>0.369410</td>\n",
       "    </tr>\n",
       "    <tr>\n",
       "      <th>4</th>\n",
       "      <td>0.133066</td>\n",
       "      <td>0.534543</td>\n",
       "      <td>0.564230</td>\n",
       "      <td>0.208281</td>\n",
       "      <td>0.234824</td>\n",
       "      <td>0.519950</td>\n",
       "    </tr>\n",
       "    <tr>\n",
       "      <th>5</th>\n",
       "      <td>0.397447</td>\n",
       "      <td>0.115304</td>\n",
       "      <td>0.621605</td>\n",
       "      <td>0.747432</td>\n",
       "      <td>0.789140</td>\n",
       "      <td>0.279844</td>\n",
       "    </tr>\n",
       "    <tr>\n",
       "      <th>6</th>\n",
       "      <td>0.917733</td>\n",
       "      <td>0.739812</td>\n",
       "      <td>0.463090</td>\n",
       "      <td>0.906051</td>\n",
       "      <td>0.473681</td>\n",
       "      <td>0.759881</td>\n",
       "    </tr>\n",
       "    <tr>\n",
       "      <th>7</th>\n",
       "      <td>0.239488</td>\n",
       "      <td>0.453373</td>\n",
       "      <td>0.082169</td>\n",
       "      <td>0.191129</td>\n",
       "      <td>0.271556</td>\n",
       "      <td>0.208201</td>\n",
       "    </tr>\n",
       "    <tr>\n",
       "      <th>8</th>\n",
       "      <td>0.994808</td>\n",
       "      <td>0.419953</td>\n",
       "      <td>0.872775</td>\n",
       "      <td>0.782133</td>\n",
       "      <td>0.558537</td>\n",
       "      <td>0.323859</td>\n",
       "    </tr>\n",
       "    <tr>\n",
       "      <th>9</th>\n",
       "      <td>0.389550</td>\n",
       "      <td>0.537000</td>\n",
       "      <td>0.941417</td>\n",
       "      <td>0.081433</td>\n",
       "      <td>0.909537</td>\n",
       "      <td>0.278162</td>\n",
       "    </tr>\n",
       "    <tr>\n",
       "      <th>10</th>\n",
       "      <td>0.672800</td>\n",
       "      <td>0.349404</td>\n",
       "      <td>0.576208</td>\n",
       "      <td>0.922537</td>\n",
       "      <td>0.431780</td>\n",
       "      <td>0.790312</td>\n",
       "    </tr>\n",
       "    <tr>\n",
       "      <th>11</th>\n",
       "      <td>0.052775</td>\n",
       "      <td>0.658172</td>\n",
       "      <td>0.334694</td>\n",
       "      <td>0.153849</td>\n",
       "      <td>0.454398</td>\n",
       "      <td>0.889913</td>\n",
       "    </tr>\n",
       "    <tr>\n",
       "      <th>12</th>\n",
       "      <td>0.378632</td>\n",
       "      <td>0.326843</td>\n",
       "      <td>0.876146</td>\n",
       "      <td>0.136811</td>\n",
       "      <td>0.474922</td>\n",
       "      <td>0.885783</td>\n",
       "    </tr>\n",
       "    <tr>\n",
       "      <th>13</th>\n",
       "      <td>0.132031</td>\n",
       "      <td>0.151797</td>\n",
       "      <td>0.004512</td>\n",
       "      <td>0.552894</td>\n",
       "      <td>0.006434</td>\n",
       "      <td>0.041160</td>\n",
       "    </tr>\n",
       "    <tr>\n",
       "      <th>14</th>\n",
       "      <td>0.438989</td>\n",
       "      <td>0.485103</td>\n",
       "      <td>0.693182</td>\n",
       "      <td>0.465587</td>\n",
       "      <td>0.106033</td>\n",
       "      <td>0.251320</td>\n",
       "    </tr>\n",
       "    <tr>\n",
       "      <th>15</th>\n",
       "      <td>0.683394</td>\n",
       "      <td>0.158604</td>\n",
       "      <td>0.168268</td>\n",
       "      <td>0.935361</td>\n",
       "      <td>0.487690</td>\n",
       "      <td>0.656782</td>\n",
       "    </tr>\n",
       "    <tr>\n",
       "      <th>16</th>\n",
       "      <td>0.101132</td>\n",
       "      <td>0.797641</td>\n",
       "      <td>0.580322</td>\n",
       "      <td>0.442150</td>\n",
       "      <td>0.738622</td>\n",
       "      <td>0.975511</td>\n",
       "    </tr>\n",
       "    <tr>\n",
       "      <th>17</th>\n",
       "      <td>0.186438</td>\n",
       "      <td>0.665435</td>\n",
       "      <td>0.269656</td>\n",
       "      <td>0.852374</td>\n",
       "      <td>0.867811</td>\n",
       "      <td>0.175726</td>\n",
       "    </tr>\n",
       "    <tr>\n",
       "      <th>18</th>\n",
       "      <td>0.755481</td>\n",
       "      <td>0.585333</td>\n",
       "      <td>0.876494</td>\n",
       "      <td>0.051804</td>\n",
       "      <td>0.744058</td>\n",
       "      <td>0.879977</td>\n",
       "    </tr>\n",
       "    <tr>\n",
       "      <th>19</th>\n",
       "      <td>0.758668</td>\n",
       "      <td>0.250244</td>\n",
       "      <td>0.721471</td>\n",
       "      <td>0.471689</td>\n",
       "      <td>0.823709</td>\n",
       "      <td>0.570059</td>\n",
       "    </tr>\n",
       "    <tr>\n",
       "      <th>20</th>\n",
       "      <td>1.000000</td>\n",
       "      <td>2.000000</td>\n",
       "      <td>3.000000</td>\n",
       "      <td>4.000000</td>\n",
       "      <td>5.000000</td>\n",
       "      <td>6.000000</td>\n",
       "    </tr>\n",
       "  </tbody>\n",
       "</table>\n",
       "</div>"
      ],
      "text/plain": [
       "           a         c         d         b         e         y\n",
       "0   0.991901  0.838998  0.775604  0.892089  0.102794  0.636771\n",
       "1   0.389468  0.247012  0.457715  0.142122  0.346488  0.271232\n",
       "2   0.074315  0.187233  0.036972  0.936166  0.729084  0.592069\n",
       "3   0.793904  0.716845  0.960509  0.976558  0.929384  0.369410\n",
       "4   0.133066  0.534543  0.564230  0.208281  0.234824  0.519950\n",
       "5   0.397447  0.115304  0.621605  0.747432  0.789140  0.279844\n",
       "6   0.917733  0.739812  0.463090  0.906051  0.473681  0.759881\n",
       "7   0.239488  0.453373  0.082169  0.191129  0.271556  0.208201\n",
       "8   0.994808  0.419953  0.872775  0.782133  0.558537  0.323859\n",
       "9   0.389550  0.537000  0.941417  0.081433  0.909537  0.278162\n",
       "10  0.672800  0.349404  0.576208  0.922537  0.431780  0.790312\n",
       "11  0.052775  0.658172  0.334694  0.153849  0.454398  0.889913\n",
       "12  0.378632  0.326843  0.876146  0.136811  0.474922  0.885783\n",
       "13  0.132031  0.151797  0.004512  0.552894  0.006434  0.041160\n",
       "14  0.438989  0.485103  0.693182  0.465587  0.106033  0.251320\n",
       "15  0.683394  0.158604  0.168268  0.935361  0.487690  0.656782\n",
       "16  0.101132  0.797641  0.580322  0.442150  0.738622  0.975511\n",
       "17  0.186438  0.665435  0.269656  0.852374  0.867811  0.175726\n",
       "18  0.755481  0.585333  0.876494  0.051804  0.744058  0.879977\n",
       "19  0.758668  0.250244  0.721471  0.471689  0.823709  0.570059\n",
       "20  1.000000  2.000000  3.000000  4.000000  5.000000  6.000000"
      ]
     },
     "execution_count": 239,
     "metadata": {},
     "output_type": "execute_result"
    }
   ],
   "source": [
    "s3=s2.copy()\n",
    "s3"
   ]
  },
  {
   "cell_type": "code",
   "execution_count": 244,
   "metadata": {
    "collapsed": false
   },
   "outputs": [],
   "source": [
    "s3['a'][0]=1.23"
   ]
  },
  {
   "cell_type": "code",
   "execution_count": 245,
   "metadata": {
    "collapsed": false
   },
   "outputs": [
    {
     "data": {
      "text/html": [
       "<div>\n",
       "<table border=\"1\" class=\"dataframe\">\n",
       "  <thead>\n",
       "    <tr style=\"text-align: right;\">\n",
       "      <th></th>\n",
       "      <th>a</th>\n",
       "      <th>c</th>\n",
       "      <th>d</th>\n",
       "      <th>b</th>\n",
       "      <th>e</th>\n",
       "      <th>y</th>\n",
       "    </tr>\n",
       "  </thead>\n",
       "  <tbody>\n",
       "    <tr>\n",
       "      <th>0</th>\n",
       "      <td>1.230000</td>\n",
       "      <td>0.838998</td>\n",
       "      <td>0.775604</td>\n",
       "      <td>0.892089</td>\n",
       "      <td>0.102794</td>\n",
       "      <td>0.636771</td>\n",
       "    </tr>\n",
       "    <tr>\n",
       "      <th>1</th>\n",
       "      <td>0.389468</td>\n",
       "      <td>0.247012</td>\n",
       "      <td>0.457715</td>\n",
       "      <td>0.142122</td>\n",
       "      <td>0.346488</td>\n",
       "      <td>0.271232</td>\n",
       "    </tr>\n",
       "    <tr>\n",
       "      <th>2</th>\n",
       "      <td>0.074315</td>\n",
       "      <td>0.187233</td>\n",
       "      <td>0.036972</td>\n",
       "      <td>0.936166</td>\n",
       "      <td>0.729084</td>\n",
       "      <td>0.592069</td>\n",
       "    </tr>\n",
       "    <tr>\n",
       "      <th>3</th>\n",
       "      <td>0.793904</td>\n",
       "      <td>0.716845</td>\n",
       "      <td>0.960509</td>\n",
       "      <td>0.976558</td>\n",
       "      <td>0.929384</td>\n",
       "      <td>0.369410</td>\n",
       "    </tr>\n",
       "    <tr>\n",
       "      <th>4</th>\n",
       "      <td>0.133066</td>\n",
       "      <td>0.534543</td>\n",
       "      <td>0.564230</td>\n",
       "      <td>0.208281</td>\n",
       "      <td>0.234824</td>\n",
       "      <td>0.519950</td>\n",
       "    </tr>\n",
       "    <tr>\n",
       "      <th>5</th>\n",
       "      <td>0.397447</td>\n",
       "      <td>0.115304</td>\n",
       "      <td>0.621605</td>\n",
       "      <td>0.747432</td>\n",
       "      <td>0.789140</td>\n",
       "      <td>0.279844</td>\n",
       "    </tr>\n",
       "    <tr>\n",
       "      <th>6</th>\n",
       "      <td>0.917733</td>\n",
       "      <td>0.739812</td>\n",
       "      <td>0.463090</td>\n",
       "      <td>0.906051</td>\n",
       "      <td>0.473681</td>\n",
       "      <td>0.759881</td>\n",
       "    </tr>\n",
       "    <tr>\n",
       "      <th>7</th>\n",
       "      <td>0.239488</td>\n",
       "      <td>0.453373</td>\n",
       "      <td>0.082169</td>\n",
       "      <td>0.191129</td>\n",
       "      <td>0.271556</td>\n",
       "      <td>0.208201</td>\n",
       "    </tr>\n",
       "    <tr>\n",
       "      <th>8</th>\n",
       "      <td>0.994808</td>\n",
       "      <td>0.419953</td>\n",
       "      <td>0.872775</td>\n",
       "      <td>0.782133</td>\n",
       "      <td>0.558537</td>\n",
       "      <td>0.323859</td>\n",
       "    </tr>\n",
       "    <tr>\n",
       "      <th>9</th>\n",
       "      <td>0.389550</td>\n",
       "      <td>0.537000</td>\n",
       "      <td>0.941417</td>\n",
       "      <td>0.081433</td>\n",
       "      <td>0.909537</td>\n",
       "      <td>0.278162</td>\n",
       "    </tr>\n",
       "    <tr>\n",
       "      <th>10</th>\n",
       "      <td>0.672800</td>\n",
       "      <td>0.349404</td>\n",
       "      <td>0.576208</td>\n",
       "      <td>0.922537</td>\n",
       "      <td>0.431780</td>\n",
       "      <td>0.790312</td>\n",
       "    </tr>\n",
       "    <tr>\n",
       "      <th>11</th>\n",
       "      <td>0.052775</td>\n",
       "      <td>0.658172</td>\n",
       "      <td>0.334694</td>\n",
       "      <td>0.153849</td>\n",
       "      <td>0.454398</td>\n",
       "      <td>0.889913</td>\n",
       "    </tr>\n",
       "    <tr>\n",
       "      <th>12</th>\n",
       "      <td>0.378632</td>\n",
       "      <td>0.326843</td>\n",
       "      <td>0.876146</td>\n",
       "      <td>0.136811</td>\n",
       "      <td>0.474922</td>\n",
       "      <td>0.885783</td>\n",
       "    </tr>\n",
       "    <tr>\n",
       "      <th>13</th>\n",
       "      <td>0.132031</td>\n",
       "      <td>0.151797</td>\n",
       "      <td>0.004512</td>\n",
       "      <td>0.552894</td>\n",
       "      <td>0.006434</td>\n",
       "      <td>0.041160</td>\n",
       "    </tr>\n",
       "    <tr>\n",
       "      <th>14</th>\n",
       "      <td>0.438989</td>\n",
       "      <td>0.485103</td>\n",
       "      <td>0.693182</td>\n",
       "      <td>0.465587</td>\n",
       "      <td>0.106033</td>\n",
       "      <td>0.251320</td>\n",
       "    </tr>\n",
       "    <tr>\n",
       "      <th>15</th>\n",
       "      <td>0.683394</td>\n",
       "      <td>0.158604</td>\n",
       "      <td>0.168268</td>\n",
       "      <td>0.935361</td>\n",
       "      <td>0.487690</td>\n",
       "      <td>0.656782</td>\n",
       "    </tr>\n",
       "    <tr>\n",
       "      <th>16</th>\n",
       "      <td>0.101132</td>\n",
       "      <td>0.797641</td>\n",
       "      <td>0.580322</td>\n",
       "      <td>0.442150</td>\n",
       "      <td>0.738622</td>\n",
       "      <td>0.975511</td>\n",
       "    </tr>\n",
       "    <tr>\n",
       "      <th>17</th>\n",
       "      <td>0.186438</td>\n",
       "      <td>0.665435</td>\n",
       "      <td>0.269656</td>\n",
       "      <td>0.852374</td>\n",
       "      <td>0.867811</td>\n",
       "      <td>0.175726</td>\n",
       "    </tr>\n",
       "    <tr>\n",
       "      <th>18</th>\n",
       "      <td>0.755481</td>\n",
       "      <td>0.585333</td>\n",
       "      <td>0.876494</td>\n",
       "      <td>0.051804</td>\n",
       "      <td>0.744058</td>\n",
       "      <td>0.879977</td>\n",
       "    </tr>\n",
       "    <tr>\n",
       "      <th>19</th>\n",
       "      <td>0.758668</td>\n",
       "      <td>0.250244</td>\n",
       "      <td>0.721471</td>\n",
       "      <td>0.471689</td>\n",
       "      <td>0.823709</td>\n",
       "      <td>0.570059</td>\n",
       "    </tr>\n",
       "    <tr>\n",
       "      <th>20</th>\n",
       "      <td>1.000000</td>\n",
       "      <td>2.000000</td>\n",
       "      <td>3.000000</td>\n",
       "      <td>4.000000</td>\n",
       "      <td>5.000000</td>\n",
       "      <td>6.000000</td>\n",
       "    </tr>\n",
       "  </tbody>\n",
       "</table>\n",
       "</div>"
      ],
      "text/plain": [
       "           a         c         d         b         e         y\n",
       "0   1.230000  0.838998  0.775604  0.892089  0.102794  0.636771\n",
       "1   0.389468  0.247012  0.457715  0.142122  0.346488  0.271232\n",
       "2   0.074315  0.187233  0.036972  0.936166  0.729084  0.592069\n",
       "3   0.793904  0.716845  0.960509  0.976558  0.929384  0.369410\n",
       "4   0.133066  0.534543  0.564230  0.208281  0.234824  0.519950\n",
       "5   0.397447  0.115304  0.621605  0.747432  0.789140  0.279844\n",
       "6   0.917733  0.739812  0.463090  0.906051  0.473681  0.759881\n",
       "7   0.239488  0.453373  0.082169  0.191129  0.271556  0.208201\n",
       "8   0.994808  0.419953  0.872775  0.782133  0.558537  0.323859\n",
       "9   0.389550  0.537000  0.941417  0.081433  0.909537  0.278162\n",
       "10  0.672800  0.349404  0.576208  0.922537  0.431780  0.790312\n",
       "11  0.052775  0.658172  0.334694  0.153849  0.454398  0.889913\n",
       "12  0.378632  0.326843  0.876146  0.136811  0.474922  0.885783\n",
       "13  0.132031  0.151797  0.004512  0.552894  0.006434  0.041160\n",
       "14  0.438989  0.485103  0.693182  0.465587  0.106033  0.251320\n",
       "15  0.683394  0.158604  0.168268  0.935361  0.487690  0.656782\n",
       "16  0.101132  0.797641  0.580322  0.442150  0.738622  0.975511\n",
       "17  0.186438  0.665435  0.269656  0.852374  0.867811  0.175726\n",
       "18  0.755481  0.585333  0.876494  0.051804  0.744058  0.879977\n",
       "19  0.758668  0.250244  0.721471  0.471689  0.823709  0.570059\n",
       "20  1.000000  2.000000  3.000000  4.000000  5.000000  6.000000"
      ]
     },
     "execution_count": 245,
     "metadata": {},
     "output_type": "execute_result"
    }
   ],
   "source": [
    "s3"
   ]
  },
  {
   "cell_type": "code",
   "execution_count": 246,
   "metadata": {
    "collapsed": false
   },
   "outputs": [
    {
     "data": {
      "text/html": [
       "<div>\n",
       "<table border=\"1\" class=\"dataframe\">\n",
       "  <thead>\n",
       "    <tr style=\"text-align: right;\">\n",
       "      <th></th>\n",
       "      <th>a</th>\n",
       "      <th>c</th>\n",
       "      <th>d</th>\n",
       "      <th>b</th>\n",
       "      <th>e</th>\n",
       "      <th>y</th>\n",
       "    </tr>\n",
       "  </thead>\n",
       "  <tbody>\n",
       "    <tr>\n",
       "      <th>0</th>\n",
       "      <td>0.991901</td>\n",
       "      <td>0.838998</td>\n",
       "      <td>0.775604</td>\n",
       "      <td>0.892089</td>\n",
       "      <td>0.102794</td>\n",
       "      <td>0.636771</td>\n",
       "    </tr>\n",
       "    <tr>\n",
       "      <th>1</th>\n",
       "      <td>0.389468</td>\n",
       "      <td>0.247012</td>\n",
       "      <td>0.457715</td>\n",
       "      <td>0.142122</td>\n",
       "      <td>0.346488</td>\n",
       "      <td>0.271232</td>\n",
       "    </tr>\n",
       "    <tr>\n",
       "      <th>2</th>\n",
       "      <td>0.074315</td>\n",
       "      <td>0.187233</td>\n",
       "      <td>0.036972</td>\n",
       "      <td>0.936166</td>\n",
       "      <td>0.729084</td>\n",
       "      <td>0.592069</td>\n",
       "    </tr>\n",
       "    <tr>\n",
       "      <th>3</th>\n",
       "      <td>0.793904</td>\n",
       "      <td>0.716845</td>\n",
       "      <td>0.960509</td>\n",
       "      <td>0.976558</td>\n",
       "      <td>0.929384</td>\n",
       "      <td>0.369410</td>\n",
       "    </tr>\n",
       "    <tr>\n",
       "      <th>4</th>\n",
       "      <td>0.133066</td>\n",
       "      <td>0.534543</td>\n",
       "      <td>0.564230</td>\n",
       "      <td>0.208281</td>\n",
       "      <td>0.234824</td>\n",
       "      <td>0.519950</td>\n",
       "    </tr>\n",
       "    <tr>\n",
       "      <th>5</th>\n",
       "      <td>0.397447</td>\n",
       "      <td>0.115304</td>\n",
       "      <td>0.621605</td>\n",
       "      <td>0.747432</td>\n",
       "      <td>0.789140</td>\n",
       "      <td>0.279844</td>\n",
       "    </tr>\n",
       "    <tr>\n",
       "      <th>6</th>\n",
       "      <td>0.917733</td>\n",
       "      <td>0.739812</td>\n",
       "      <td>0.463090</td>\n",
       "      <td>0.906051</td>\n",
       "      <td>0.473681</td>\n",
       "      <td>0.759881</td>\n",
       "    </tr>\n",
       "    <tr>\n",
       "      <th>7</th>\n",
       "      <td>0.239488</td>\n",
       "      <td>0.453373</td>\n",
       "      <td>0.082169</td>\n",
       "      <td>0.191129</td>\n",
       "      <td>0.271556</td>\n",
       "      <td>0.208201</td>\n",
       "    </tr>\n",
       "    <tr>\n",
       "      <th>8</th>\n",
       "      <td>0.994808</td>\n",
       "      <td>0.419953</td>\n",
       "      <td>0.872775</td>\n",
       "      <td>0.782133</td>\n",
       "      <td>0.558537</td>\n",
       "      <td>0.323859</td>\n",
       "    </tr>\n",
       "    <tr>\n",
       "      <th>9</th>\n",
       "      <td>0.389550</td>\n",
       "      <td>0.537000</td>\n",
       "      <td>0.941417</td>\n",
       "      <td>0.081433</td>\n",
       "      <td>0.909537</td>\n",
       "      <td>0.278162</td>\n",
       "    </tr>\n",
       "    <tr>\n",
       "      <th>10</th>\n",
       "      <td>0.672800</td>\n",
       "      <td>0.349404</td>\n",
       "      <td>0.576208</td>\n",
       "      <td>0.922537</td>\n",
       "      <td>0.431780</td>\n",
       "      <td>0.790312</td>\n",
       "    </tr>\n",
       "    <tr>\n",
       "      <th>11</th>\n",
       "      <td>0.052775</td>\n",
       "      <td>0.658172</td>\n",
       "      <td>0.334694</td>\n",
       "      <td>0.153849</td>\n",
       "      <td>0.454398</td>\n",
       "      <td>0.889913</td>\n",
       "    </tr>\n",
       "    <tr>\n",
       "      <th>12</th>\n",
       "      <td>0.378632</td>\n",
       "      <td>0.326843</td>\n",
       "      <td>0.876146</td>\n",
       "      <td>0.136811</td>\n",
       "      <td>0.474922</td>\n",
       "      <td>0.885783</td>\n",
       "    </tr>\n",
       "    <tr>\n",
       "      <th>13</th>\n",
       "      <td>0.132031</td>\n",
       "      <td>0.151797</td>\n",
       "      <td>0.004512</td>\n",
       "      <td>0.552894</td>\n",
       "      <td>0.006434</td>\n",
       "      <td>0.041160</td>\n",
       "    </tr>\n",
       "    <tr>\n",
       "      <th>14</th>\n",
       "      <td>0.438989</td>\n",
       "      <td>0.485103</td>\n",
       "      <td>0.693182</td>\n",
       "      <td>0.465587</td>\n",
       "      <td>0.106033</td>\n",
       "      <td>0.251320</td>\n",
       "    </tr>\n",
       "    <tr>\n",
       "      <th>15</th>\n",
       "      <td>0.683394</td>\n",
       "      <td>0.158604</td>\n",
       "      <td>0.168268</td>\n",
       "      <td>0.935361</td>\n",
       "      <td>0.487690</td>\n",
       "      <td>0.656782</td>\n",
       "    </tr>\n",
       "    <tr>\n",
       "      <th>16</th>\n",
       "      <td>0.101132</td>\n",
       "      <td>0.797641</td>\n",
       "      <td>0.580322</td>\n",
       "      <td>0.442150</td>\n",
       "      <td>0.738622</td>\n",
       "      <td>0.975511</td>\n",
       "    </tr>\n",
       "    <tr>\n",
       "      <th>17</th>\n",
       "      <td>0.186438</td>\n",
       "      <td>0.665435</td>\n",
       "      <td>0.269656</td>\n",
       "      <td>0.852374</td>\n",
       "      <td>0.867811</td>\n",
       "      <td>0.175726</td>\n",
       "    </tr>\n",
       "    <tr>\n",
       "      <th>18</th>\n",
       "      <td>0.755481</td>\n",
       "      <td>0.585333</td>\n",
       "      <td>0.876494</td>\n",
       "      <td>0.051804</td>\n",
       "      <td>0.744058</td>\n",
       "      <td>0.879977</td>\n",
       "    </tr>\n",
       "    <tr>\n",
       "      <th>19</th>\n",
       "      <td>0.758668</td>\n",
       "      <td>0.250244</td>\n",
       "      <td>0.721471</td>\n",
       "      <td>0.471689</td>\n",
       "      <td>0.823709</td>\n",
       "      <td>0.570059</td>\n",
       "    </tr>\n",
       "    <tr>\n",
       "      <th>20</th>\n",
       "      <td>1.000000</td>\n",
       "      <td>2.000000</td>\n",
       "      <td>3.000000</td>\n",
       "      <td>4.000000</td>\n",
       "      <td>5.000000</td>\n",
       "      <td>6.000000</td>\n",
       "    </tr>\n",
       "  </tbody>\n",
       "</table>\n",
       "</div>"
      ],
      "text/plain": [
       "           a         c         d         b         e         y\n",
       "0   0.991901  0.838998  0.775604  0.892089  0.102794  0.636771\n",
       "1   0.389468  0.247012  0.457715  0.142122  0.346488  0.271232\n",
       "2   0.074315  0.187233  0.036972  0.936166  0.729084  0.592069\n",
       "3   0.793904  0.716845  0.960509  0.976558  0.929384  0.369410\n",
       "4   0.133066  0.534543  0.564230  0.208281  0.234824  0.519950\n",
       "5   0.397447  0.115304  0.621605  0.747432  0.789140  0.279844\n",
       "6   0.917733  0.739812  0.463090  0.906051  0.473681  0.759881\n",
       "7   0.239488  0.453373  0.082169  0.191129  0.271556  0.208201\n",
       "8   0.994808  0.419953  0.872775  0.782133  0.558537  0.323859\n",
       "9   0.389550  0.537000  0.941417  0.081433  0.909537  0.278162\n",
       "10  0.672800  0.349404  0.576208  0.922537  0.431780  0.790312\n",
       "11  0.052775  0.658172  0.334694  0.153849  0.454398  0.889913\n",
       "12  0.378632  0.326843  0.876146  0.136811  0.474922  0.885783\n",
       "13  0.132031  0.151797  0.004512  0.552894  0.006434  0.041160\n",
       "14  0.438989  0.485103  0.693182  0.465587  0.106033  0.251320\n",
       "15  0.683394  0.158604  0.168268  0.935361  0.487690  0.656782\n",
       "16  0.101132  0.797641  0.580322  0.442150  0.738622  0.975511\n",
       "17  0.186438  0.665435  0.269656  0.852374  0.867811  0.175726\n",
       "18  0.755481  0.585333  0.876494  0.051804  0.744058  0.879977\n",
       "19  0.758668  0.250244  0.721471  0.471689  0.823709  0.570059\n",
       "20  1.000000  2.000000  3.000000  4.000000  5.000000  6.000000"
      ]
     },
     "execution_count": 246,
     "metadata": {},
     "output_type": "execute_result"
    }
   ],
   "source": [
    "s2"
   ]
  },
  {
   "cell_type": "code",
   "execution_count": 248,
   "metadata": {
    "collapsed": false
   },
   "outputs": [
    {
     "data": {
      "text/html": [
       "<div>\n",
       "<table border=\"1\" class=\"dataframe\">\n",
       "  <thead>\n",
       "    <tr style=\"text-align: right;\">\n",
       "      <th></th>\n",
       "      <th>a</th>\n",
       "      <th>c</th>\n",
       "      <th>d</th>\n",
       "      <th>b</th>\n",
       "      <th>e</th>\n",
       "      <th>y</th>\n",
       "    </tr>\n",
       "  </thead>\n",
       "  <tbody>\n",
       "    <tr>\n",
       "      <th>0</th>\n",
       "      <td>1.23</td>\n",
       "      <td>0.838998</td>\n",
       "      <td>0.775604</td>\n",
       "      <td>0.892089</td>\n",
       "      <td>0.102794</td>\n",
       "      <td>0.636771</td>\n",
       "    </tr>\n",
       "    <tr>\n",
       "      <th>20</th>\n",
       "      <td>1.00</td>\n",
       "      <td>2.000000</td>\n",
       "      <td>3.000000</td>\n",
       "      <td>4.000000</td>\n",
       "      <td>5.000000</td>\n",
       "      <td>6.000000</td>\n",
       "    </tr>\n",
       "  </tbody>\n",
       "</table>\n",
       "</div>"
      ],
      "text/plain": [
       "       a         c         d         b         e         y\n",
       "0   1.23  0.838998  0.775604  0.892089  0.102794  0.636771\n",
       "20  1.00  2.000000  3.000000  4.000000  5.000000  6.000000"
      ]
     },
     "execution_count": 248,
     "metadata": {},
     "output_type": "execute_result"
    }
   ],
   "source": [
    "s3[s3['a'].isin([1.0,1.23])]   \n",
    "#检索a列中的数据，将满足的行返回出来"
   ]
  },
  {
   "cell_type": "markdown",
   "metadata": {},
   "source": [
    "## 设置"
   ]
  },
  {
   "cell_type": "markdown",
   "metadata": {},
   "source": [
    "### 新增一个列"
   ]
  },
  {
   "cell_type": "code",
   "execution_count": 252,
   "metadata": {
    "collapsed": false
   },
   "outputs": [],
   "source": [
    "s1=Series([i for i in range(20)])"
   ]
  },
  {
   "cell_type": "code",
   "execution_count": 256,
   "metadata": {
    "collapsed": false
   },
   "outputs": [],
   "source": [
    "s2['f'][20]=11"
   ]
  },
  {
   "cell_type": "code",
   "execution_count": 257,
   "metadata": {
    "collapsed": false
   },
   "outputs": [
    {
     "data": {
      "text/html": [
       "<div>\n",
       "<table border=\"1\" class=\"dataframe\">\n",
       "  <thead>\n",
       "    <tr style=\"text-align: right;\">\n",
       "      <th></th>\n",
       "      <th>a</th>\n",
       "      <th>c</th>\n",
       "      <th>d</th>\n",
       "      <th>b</th>\n",
       "      <th>e</th>\n",
       "      <th>y</th>\n",
       "      <th>f</th>\n",
       "    </tr>\n",
       "  </thead>\n",
       "  <tbody>\n",
       "    <tr>\n",
       "      <th>0</th>\n",
       "      <td>0.991901</td>\n",
       "      <td>0.838998</td>\n",
       "      <td>0.775604</td>\n",
       "      <td>0.892089</td>\n",
       "      <td>0.102794</td>\n",
       "      <td>0.636771</td>\n",
       "      <td>0.0</td>\n",
       "    </tr>\n",
       "    <tr>\n",
       "      <th>1</th>\n",
       "      <td>0.389468</td>\n",
       "      <td>0.247012</td>\n",
       "      <td>0.457715</td>\n",
       "      <td>0.142122</td>\n",
       "      <td>0.346488</td>\n",
       "      <td>0.271232</td>\n",
       "      <td>1.0</td>\n",
       "    </tr>\n",
       "    <tr>\n",
       "      <th>2</th>\n",
       "      <td>0.074315</td>\n",
       "      <td>0.187233</td>\n",
       "      <td>0.036972</td>\n",
       "      <td>0.936166</td>\n",
       "      <td>0.729084</td>\n",
       "      <td>0.592069</td>\n",
       "      <td>2.0</td>\n",
       "    </tr>\n",
       "    <tr>\n",
       "      <th>3</th>\n",
       "      <td>0.793904</td>\n",
       "      <td>0.716845</td>\n",
       "      <td>0.960509</td>\n",
       "      <td>0.976558</td>\n",
       "      <td>0.929384</td>\n",
       "      <td>0.369410</td>\n",
       "      <td>3.0</td>\n",
       "    </tr>\n",
       "    <tr>\n",
       "      <th>4</th>\n",
       "      <td>0.133066</td>\n",
       "      <td>0.534543</td>\n",
       "      <td>0.564230</td>\n",
       "      <td>0.208281</td>\n",
       "      <td>0.234824</td>\n",
       "      <td>0.519950</td>\n",
       "      <td>4.0</td>\n",
       "    </tr>\n",
       "    <tr>\n",
       "      <th>5</th>\n",
       "      <td>0.397447</td>\n",
       "      <td>0.115304</td>\n",
       "      <td>0.621605</td>\n",
       "      <td>0.747432</td>\n",
       "      <td>0.789140</td>\n",
       "      <td>0.279844</td>\n",
       "      <td>5.0</td>\n",
       "    </tr>\n",
       "    <tr>\n",
       "      <th>6</th>\n",
       "      <td>0.917733</td>\n",
       "      <td>0.739812</td>\n",
       "      <td>0.463090</td>\n",
       "      <td>0.906051</td>\n",
       "      <td>0.473681</td>\n",
       "      <td>0.759881</td>\n",
       "      <td>6.0</td>\n",
       "    </tr>\n",
       "    <tr>\n",
       "      <th>7</th>\n",
       "      <td>0.239488</td>\n",
       "      <td>0.453373</td>\n",
       "      <td>0.082169</td>\n",
       "      <td>0.191129</td>\n",
       "      <td>0.271556</td>\n",
       "      <td>0.208201</td>\n",
       "      <td>7.0</td>\n",
       "    </tr>\n",
       "    <tr>\n",
       "      <th>8</th>\n",
       "      <td>0.994808</td>\n",
       "      <td>0.419953</td>\n",
       "      <td>0.872775</td>\n",
       "      <td>0.782133</td>\n",
       "      <td>0.558537</td>\n",
       "      <td>0.323859</td>\n",
       "      <td>8.0</td>\n",
       "    </tr>\n",
       "    <tr>\n",
       "      <th>9</th>\n",
       "      <td>0.389550</td>\n",
       "      <td>0.537000</td>\n",
       "      <td>0.941417</td>\n",
       "      <td>0.081433</td>\n",
       "      <td>0.909537</td>\n",
       "      <td>0.278162</td>\n",
       "      <td>9.0</td>\n",
       "    </tr>\n",
       "    <tr>\n",
       "      <th>10</th>\n",
       "      <td>0.672800</td>\n",
       "      <td>0.349404</td>\n",
       "      <td>0.576208</td>\n",
       "      <td>0.922537</td>\n",
       "      <td>0.431780</td>\n",
       "      <td>0.790312</td>\n",
       "      <td>10.0</td>\n",
       "    </tr>\n",
       "    <tr>\n",
       "      <th>11</th>\n",
       "      <td>0.052775</td>\n",
       "      <td>0.658172</td>\n",
       "      <td>0.334694</td>\n",
       "      <td>0.153849</td>\n",
       "      <td>0.454398</td>\n",
       "      <td>0.889913</td>\n",
       "      <td>11.0</td>\n",
       "    </tr>\n",
       "    <tr>\n",
       "      <th>12</th>\n",
       "      <td>0.378632</td>\n",
       "      <td>0.326843</td>\n",
       "      <td>0.876146</td>\n",
       "      <td>0.136811</td>\n",
       "      <td>0.474922</td>\n",
       "      <td>0.885783</td>\n",
       "      <td>12.0</td>\n",
       "    </tr>\n",
       "    <tr>\n",
       "      <th>13</th>\n",
       "      <td>0.132031</td>\n",
       "      <td>0.151797</td>\n",
       "      <td>0.004512</td>\n",
       "      <td>0.552894</td>\n",
       "      <td>0.006434</td>\n",
       "      <td>0.041160</td>\n",
       "      <td>13.0</td>\n",
       "    </tr>\n",
       "    <tr>\n",
       "      <th>14</th>\n",
       "      <td>0.438989</td>\n",
       "      <td>0.485103</td>\n",
       "      <td>0.693182</td>\n",
       "      <td>0.465587</td>\n",
       "      <td>0.106033</td>\n",
       "      <td>0.251320</td>\n",
       "      <td>14.0</td>\n",
       "    </tr>\n",
       "    <tr>\n",
       "      <th>15</th>\n",
       "      <td>0.683394</td>\n",
       "      <td>0.158604</td>\n",
       "      <td>0.168268</td>\n",
       "      <td>0.935361</td>\n",
       "      <td>0.487690</td>\n",
       "      <td>0.656782</td>\n",
       "      <td>15.0</td>\n",
       "    </tr>\n",
       "    <tr>\n",
       "      <th>16</th>\n",
       "      <td>0.101132</td>\n",
       "      <td>0.797641</td>\n",
       "      <td>0.580322</td>\n",
       "      <td>0.442150</td>\n",
       "      <td>0.738622</td>\n",
       "      <td>0.975511</td>\n",
       "      <td>16.0</td>\n",
       "    </tr>\n",
       "    <tr>\n",
       "      <th>17</th>\n",
       "      <td>0.186438</td>\n",
       "      <td>0.665435</td>\n",
       "      <td>0.269656</td>\n",
       "      <td>0.852374</td>\n",
       "      <td>0.867811</td>\n",
       "      <td>0.175726</td>\n",
       "      <td>17.0</td>\n",
       "    </tr>\n",
       "    <tr>\n",
       "      <th>18</th>\n",
       "      <td>0.755481</td>\n",
       "      <td>0.585333</td>\n",
       "      <td>0.876494</td>\n",
       "      <td>0.051804</td>\n",
       "      <td>0.744058</td>\n",
       "      <td>0.879977</td>\n",
       "      <td>18.0</td>\n",
       "    </tr>\n",
       "    <tr>\n",
       "      <th>19</th>\n",
       "      <td>0.758668</td>\n",
       "      <td>0.250244</td>\n",
       "      <td>0.721471</td>\n",
       "      <td>0.471689</td>\n",
       "      <td>0.823709</td>\n",
       "      <td>0.570059</td>\n",
       "      <td>19.0</td>\n",
       "    </tr>\n",
       "    <tr>\n",
       "      <th>20</th>\n",
       "      <td>1.000000</td>\n",
       "      <td>2.000000</td>\n",
       "      <td>3.000000</td>\n",
       "      <td>4.000000</td>\n",
       "      <td>5.000000</td>\n",
       "      <td>6.000000</td>\n",
       "      <td>11.0</td>\n",
       "    </tr>\n",
       "  </tbody>\n",
       "</table>\n",
       "</div>"
      ],
      "text/plain": [
       "           a         c         d         b         e         y     f\n",
       "0   0.991901  0.838998  0.775604  0.892089  0.102794  0.636771   0.0\n",
       "1   0.389468  0.247012  0.457715  0.142122  0.346488  0.271232   1.0\n",
       "2   0.074315  0.187233  0.036972  0.936166  0.729084  0.592069   2.0\n",
       "3   0.793904  0.716845  0.960509  0.976558  0.929384  0.369410   3.0\n",
       "4   0.133066  0.534543  0.564230  0.208281  0.234824  0.519950   4.0\n",
       "5   0.397447  0.115304  0.621605  0.747432  0.789140  0.279844   5.0\n",
       "6   0.917733  0.739812  0.463090  0.906051  0.473681  0.759881   6.0\n",
       "7   0.239488  0.453373  0.082169  0.191129  0.271556  0.208201   7.0\n",
       "8   0.994808  0.419953  0.872775  0.782133  0.558537  0.323859   8.0\n",
       "9   0.389550  0.537000  0.941417  0.081433  0.909537  0.278162   9.0\n",
       "10  0.672800  0.349404  0.576208  0.922537  0.431780  0.790312  10.0\n",
       "11  0.052775  0.658172  0.334694  0.153849  0.454398  0.889913  11.0\n",
       "12  0.378632  0.326843  0.876146  0.136811  0.474922  0.885783  12.0\n",
       "13  0.132031  0.151797  0.004512  0.552894  0.006434  0.041160  13.0\n",
       "14  0.438989  0.485103  0.693182  0.465587  0.106033  0.251320  14.0\n",
       "15  0.683394  0.158604  0.168268  0.935361  0.487690  0.656782  15.0\n",
       "16  0.101132  0.797641  0.580322  0.442150  0.738622  0.975511  16.0\n",
       "17  0.186438  0.665435  0.269656  0.852374  0.867811  0.175726  17.0\n",
       "18  0.755481  0.585333  0.876494  0.051804  0.744058  0.879977  18.0\n",
       "19  0.758668  0.250244  0.721471  0.471689  0.823709  0.570059  19.0\n",
       "20  1.000000  2.000000  3.000000  4.000000  5.000000  6.000000  11.0"
      ]
     },
     "execution_count": 257,
     "metadata": {},
     "output_type": "execute_result"
    }
   ],
   "source": [
    "s2"
   ]
  },
  {
   "cell_type": "markdown",
   "metadata": {},
   "source": [
    "### 通过便签设置值"
   ]
  },
  {
   "cell_type": "code",
   "execution_count": 259,
   "metadata": {
    "collapsed": false
   },
   "outputs": [],
   "source": [
    "s2.loc[20,'f']=13"
   ]
  },
  {
   "cell_type": "code",
   "execution_count": 260,
   "metadata": {
    "collapsed": false
   },
   "outputs": [
    {
     "data": {
      "text/html": [
       "<div>\n",
       "<table border=\"1\" class=\"dataframe\">\n",
       "  <thead>\n",
       "    <tr style=\"text-align: right;\">\n",
       "      <th></th>\n",
       "      <th>a</th>\n",
       "      <th>c</th>\n",
       "      <th>d</th>\n",
       "      <th>b</th>\n",
       "      <th>e</th>\n",
       "      <th>y</th>\n",
       "      <th>f</th>\n",
       "    </tr>\n",
       "  </thead>\n",
       "  <tbody>\n",
       "    <tr>\n",
       "      <th>0</th>\n",
       "      <td>0.991901</td>\n",
       "      <td>0.838998</td>\n",
       "      <td>0.775604</td>\n",
       "      <td>0.892089</td>\n",
       "      <td>0.102794</td>\n",
       "      <td>0.636771</td>\n",
       "      <td>0.0</td>\n",
       "    </tr>\n",
       "    <tr>\n",
       "      <th>1</th>\n",
       "      <td>0.389468</td>\n",
       "      <td>0.247012</td>\n",
       "      <td>0.457715</td>\n",
       "      <td>0.142122</td>\n",
       "      <td>0.346488</td>\n",
       "      <td>0.271232</td>\n",
       "      <td>1.0</td>\n",
       "    </tr>\n",
       "    <tr>\n",
       "      <th>2</th>\n",
       "      <td>0.074315</td>\n",
       "      <td>0.187233</td>\n",
       "      <td>0.036972</td>\n",
       "      <td>0.936166</td>\n",
       "      <td>0.729084</td>\n",
       "      <td>0.592069</td>\n",
       "      <td>2.0</td>\n",
       "    </tr>\n",
       "    <tr>\n",
       "      <th>3</th>\n",
       "      <td>0.793904</td>\n",
       "      <td>0.716845</td>\n",
       "      <td>0.960509</td>\n",
       "      <td>0.976558</td>\n",
       "      <td>0.929384</td>\n",
       "      <td>0.369410</td>\n",
       "      <td>3.0</td>\n",
       "    </tr>\n",
       "    <tr>\n",
       "      <th>4</th>\n",
       "      <td>0.133066</td>\n",
       "      <td>0.534543</td>\n",
       "      <td>0.564230</td>\n",
       "      <td>0.208281</td>\n",
       "      <td>0.234824</td>\n",
       "      <td>0.519950</td>\n",
       "      <td>4.0</td>\n",
       "    </tr>\n",
       "    <tr>\n",
       "      <th>5</th>\n",
       "      <td>0.397447</td>\n",
       "      <td>0.115304</td>\n",
       "      <td>0.621605</td>\n",
       "      <td>0.747432</td>\n",
       "      <td>0.789140</td>\n",
       "      <td>0.279844</td>\n",
       "      <td>5.0</td>\n",
       "    </tr>\n",
       "    <tr>\n",
       "      <th>6</th>\n",
       "      <td>0.917733</td>\n",
       "      <td>0.739812</td>\n",
       "      <td>0.463090</td>\n",
       "      <td>0.906051</td>\n",
       "      <td>0.473681</td>\n",
       "      <td>0.759881</td>\n",
       "      <td>6.0</td>\n",
       "    </tr>\n",
       "    <tr>\n",
       "      <th>7</th>\n",
       "      <td>0.239488</td>\n",
       "      <td>0.453373</td>\n",
       "      <td>0.082169</td>\n",
       "      <td>0.191129</td>\n",
       "      <td>0.271556</td>\n",
       "      <td>0.208201</td>\n",
       "      <td>7.0</td>\n",
       "    </tr>\n",
       "    <tr>\n",
       "      <th>8</th>\n",
       "      <td>0.994808</td>\n",
       "      <td>0.419953</td>\n",
       "      <td>0.872775</td>\n",
       "      <td>0.782133</td>\n",
       "      <td>0.558537</td>\n",
       "      <td>0.323859</td>\n",
       "      <td>8.0</td>\n",
       "    </tr>\n",
       "    <tr>\n",
       "      <th>9</th>\n",
       "      <td>0.389550</td>\n",
       "      <td>0.537000</td>\n",
       "      <td>0.941417</td>\n",
       "      <td>0.081433</td>\n",
       "      <td>0.909537</td>\n",
       "      <td>0.278162</td>\n",
       "      <td>9.0</td>\n",
       "    </tr>\n",
       "    <tr>\n",
       "      <th>10</th>\n",
       "      <td>0.672800</td>\n",
       "      <td>0.349404</td>\n",
       "      <td>0.576208</td>\n",
       "      <td>0.922537</td>\n",
       "      <td>0.431780</td>\n",
       "      <td>0.790312</td>\n",
       "      <td>10.0</td>\n",
       "    </tr>\n",
       "    <tr>\n",
       "      <th>11</th>\n",
       "      <td>0.052775</td>\n",
       "      <td>0.658172</td>\n",
       "      <td>0.334694</td>\n",
       "      <td>0.153849</td>\n",
       "      <td>0.454398</td>\n",
       "      <td>0.889913</td>\n",
       "      <td>11.0</td>\n",
       "    </tr>\n",
       "    <tr>\n",
       "      <th>12</th>\n",
       "      <td>0.378632</td>\n",
       "      <td>0.326843</td>\n",
       "      <td>0.876146</td>\n",
       "      <td>0.136811</td>\n",
       "      <td>0.474922</td>\n",
       "      <td>0.885783</td>\n",
       "      <td>12.0</td>\n",
       "    </tr>\n",
       "    <tr>\n",
       "      <th>13</th>\n",
       "      <td>0.132031</td>\n",
       "      <td>0.151797</td>\n",
       "      <td>0.004512</td>\n",
       "      <td>0.552894</td>\n",
       "      <td>0.006434</td>\n",
       "      <td>0.041160</td>\n",
       "      <td>13.0</td>\n",
       "    </tr>\n",
       "    <tr>\n",
       "      <th>14</th>\n",
       "      <td>0.438989</td>\n",
       "      <td>0.485103</td>\n",
       "      <td>0.693182</td>\n",
       "      <td>0.465587</td>\n",
       "      <td>0.106033</td>\n",
       "      <td>0.251320</td>\n",
       "      <td>14.0</td>\n",
       "    </tr>\n",
       "    <tr>\n",
       "      <th>15</th>\n",
       "      <td>0.683394</td>\n",
       "      <td>0.158604</td>\n",
       "      <td>0.168268</td>\n",
       "      <td>0.935361</td>\n",
       "      <td>0.487690</td>\n",
       "      <td>0.656782</td>\n",
       "      <td>15.0</td>\n",
       "    </tr>\n",
       "    <tr>\n",
       "      <th>16</th>\n",
       "      <td>0.101132</td>\n",
       "      <td>0.797641</td>\n",
       "      <td>0.580322</td>\n",
       "      <td>0.442150</td>\n",
       "      <td>0.738622</td>\n",
       "      <td>0.975511</td>\n",
       "      <td>16.0</td>\n",
       "    </tr>\n",
       "    <tr>\n",
       "      <th>17</th>\n",
       "      <td>0.186438</td>\n",
       "      <td>0.665435</td>\n",
       "      <td>0.269656</td>\n",
       "      <td>0.852374</td>\n",
       "      <td>0.867811</td>\n",
       "      <td>0.175726</td>\n",
       "      <td>17.0</td>\n",
       "    </tr>\n",
       "    <tr>\n",
       "      <th>18</th>\n",
       "      <td>0.755481</td>\n",
       "      <td>0.585333</td>\n",
       "      <td>0.876494</td>\n",
       "      <td>0.051804</td>\n",
       "      <td>0.744058</td>\n",
       "      <td>0.879977</td>\n",
       "      <td>18.0</td>\n",
       "    </tr>\n",
       "    <tr>\n",
       "      <th>19</th>\n",
       "      <td>0.758668</td>\n",
       "      <td>0.250244</td>\n",
       "      <td>0.721471</td>\n",
       "      <td>0.471689</td>\n",
       "      <td>0.823709</td>\n",
       "      <td>0.570059</td>\n",
       "      <td>19.0</td>\n",
       "    </tr>\n",
       "    <tr>\n",
       "      <th>20</th>\n",
       "      <td>1.000000</td>\n",
       "      <td>2.000000</td>\n",
       "      <td>3.000000</td>\n",
       "      <td>4.000000</td>\n",
       "      <td>5.000000</td>\n",
       "      <td>6.000000</td>\n",
       "      <td>13.0</td>\n",
       "    </tr>\n",
       "  </tbody>\n",
       "</table>\n",
       "</div>"
      ],
      "text/plain": [
       "           a         c         d         b         e         y     f\n",
       "0   0.991901  0.838998  0.775604  0.892089  0.102794  0.636771   0.0\n",
       "1   0.389468  0.247012  0.457715  0.142122  0.346488  0.271232   1.0\n",
       "2   0.074315  0.187233  0.036972  0.936166  0.729084  0.592069   2.0\n",
       "3   0.793904  0.716845  0.960509  0.976558  0.929384  0.369410   3.0\n",
       "4   0.133066  0.534543  0.564230  0.208281  0.234824  0.519950   4.0\n",
       "5   0.397447  0.115304  0.621605  0.747432  0.789140  0.279844   5.0\n",
       "6   0.917733  0.739812  0.463090  0.906051  0.473681  0.759881   6.0\n",
       "7   0.239488  0.453373  0.082169  0.191129  0.271556  0.208201   7.0\n",
       "8   0.994808  0.419953  0.872775  0.782133  0.558537  0.323859   8.0\n",
       "9   0.389550  0.537000  0.941417  0.081433  0.909537  0.278162   9.0\n",
       "10  0.672800  0.349404  0.576208  0.922537  0.431780  0.790312  10.0\n",
       "11  0.052775  0.658172  0.334694  0.153849  0.454398  0.889913  11.0\n",
       "12  0.378632  0.326843  0.876146  0.136811  0.474922  0.885783  12.0\n",
       "13  0.132031  0.151797  0.004512  0.552894  0.006434  0.041160  13.0\n",
       "14  0.438989  0.485103  0.693182  0.465587  0.106033  0.251320  14.0\n",
       "15  0.683394  0.158604  0.168268  0.935361  0.487690  0.656782  15.0\n",
       "16  0.101132  0.797641  0.580322  0.442150  0.738622  0.975511  16.0\n",
       "17  0.186438  0.665435  0.269656  0.852374  0.867811  0.175726  17.0\n",
       "18  0.755481  0.585333  0.876494  0.051804  0.744058  0.879977  18.0\n",
       "19  0.758668  0.250244  0.721471  0.471689  0.823709  0.570059  19.0\n",
       "20  1.000000  2.000000  3.000000  4.000000  5.000000  6.000000  13.0"
      ]
     },
     "execution_count": 260,
     "metadata": {},
     "output_type": "execute_result"
    }
   ],
   "source": [
    "s2"
   ]
  },
  {
   "cell_type": "code",
   "execution_count": 262,
   "metadata": {
    "collapsed": false
   },
   "outputs": [],
   "source": [
    "s2[s2>0.5]=0"
   ]
  },
  {
   "cell_type": "code",
   "execution_count": 263,
   "metadata": {
    "collapsed": false
   },
   "outputs": [
    {
     "data": {
      "text/html": [
       "<div>\n",
       "<table border=\"1\" class=\"dataframe\">\n",
       "  <thead>\n",
       "    <tr style=\"text-align: right;\">\n",
       "      <th></th>\n",
       "      <th>a</th>\n",
       "      <th>c</th>\n",
       "      <th>d</th>\n",
       "      <th>b</th>\n",
       "      <th>e</th>\n",
       "      <th>y</th>\n",
       "      <th>f</th>\n",
       "    </tr>\n",
       "  </thead>\n",
       "  <tbody>\n",
       "    <tr>\n",
       "      <th>0</th>\n",
       "      <td>0.000000</td>\n",
       "      <td>0.000000</td>\n",
       "      <td>0.000000</td>\n",
       "      <td>0.000000</td>\n",
       "      <td>0.102794</td>\n",
       "      <td>0.000000</td>\n",
       "      <td>0.0</td>\n",
       "    </tr>\n",
       "    <tr>\n",
       "      <th>1</th>\n",
       "      <td>0.389468</td>\n",
       "      <td>0.247012</td>\n",
       "      <td>0.457715</td>\n",
       "      <td>0.142122</td>\n",
       "      <td>0.346488</td>\n",
       "      <td>0.271232</td>\n",
       "      <td>0.0</td>\n",
       "    </tr>\n",
       "    <tr>\n",
       "      <th>2</th>\n",
       "      <td>0.074315</td>\n",
       "      <td>0.187233</td>\n",
       "      <td>0.036972</td>\n",
       "      <td>0.000000</td>\n",
       "      <td>0.000000</td>\n",
       "      <td>0.000000</td>\n",
       "      <td>0.0</td>\n",
       "    </tr>\n",
       "    <tr>\n",
       "      <th>3</th>\n",
       "      <td>0.000000</td>\n",
       "      <td>0.000000</td>\n",
       "      <td>0.000000</td>\n",
       "      <td>0.000000</td>\n",
       "      <td>0.000000</td>\n",
       "      <td>0.369410</td>\n",
       "      <td>0.0</td>\n",
       "    </tr>\n",
       "    <tr>\n",
       "      <th>4</th>\n",
       "      <td>0.133066</td>\n",
       "      <td>0.000000</td>\n",
       "      <td>0.000000</td>\n",
       "      <td>0.208281</td>\n",
       "      <td>0.234824</td>\n",
       "      <td>0.000000</td>\n",
       "      <td>0.0</td>\n",
       "    </tr>\n",
       "    <tr>\n",
       "      <th>5</th>\n",
       "      <td>0.397447</td>\n",
       "      <td>0.115304</td>\n",
       "      <td>0.000000</td>\n",
       "      <td>0.000000</td>\n",
       "      <td>0.000000</td>\n",
       "      <td>0.279844</td>\n",
       "      <td>0.0</td>\n",
       "    </tr>\n",
       "    <tr>\n",
       "      <th>6</th>\n",
       "      <td>0.000000</td>\n",
       "      <td>0.000000</td>\n",
       "      <td>0.463090</td>\n",
       "      <td>0.000000</td>\n",
       "      <td>0.473681</td>\n",
       "      <td>0.000000</td>\n",
       "      <td>0.0</td>\n",
       "    </tr>\n",
       "    <tr>\n",
       "      <th>7</th>\n",
       "      <td>0.239488</td>\n",
       "      <td>0.453373</td>\n",
       "      <td>0.082169</td>\n",
       "      <td>0.191129</td>\n",
       "      <td>0.271556</td>\n",
       "      <td>0.208201</td>\n",
       "      <td>0.0</td>\n",
       "    </tr>\n",
       "    <tr>\n",
       "      <th>8</th>\n",
       "      <td>0.000000</td>\n",
       "      <td>0.419953</td>\n",
       "      <td>0.000000</td>\n",
       "      <td>0.000000</td>\n",
       "      <td>0.000000</td>\n",
       "      <td>0.323859</td>\n",
       "      <td>0.0</td>\n",
       "    </tr>\n",
       "    <tr>\n",
       "      <th>9</th>\n",
       "      <td>0.389550</td>\n",
       "      <td>0.000000</td>\n",
       "      <td>0.000000</td>\n",
       "      <td>0.081433</td>\n",
       "      <td>0.000000</td>\n",
       "      <td>0.278162</td>\n",
       "      <td>0.0</td>\n",
       "    </tr>\n",
       "    <tr>\n",
       "      <th>10</th>\n",
       "      <td>0.000000</td>\n",
       "      <td>0.349404</td>\n",
       "      <td>0.000000</td>\n",
       "      <td>0.000000</td>\n",
       "      <td>0.431780</td>\n",
       "      <td>0.000000</td>\n",
       "      <td>0.0</td>\n",
       "    </tr>\n",
       "    <tr>\n",
       "      <th>11</th>\n",
       "      <td>0.052775</td>\n",
       "      <td>0.000000</td>\n",
       "      <td>0.334694</td>\n",
       "      <td>0.153849</td>\n",
       "      <td>0.454398</td>\n",
       "      <td>0.000000</td>\n",
       "      <td>0.0</td>\n",
       "    </tr>\n",
       "    <tr>\n",
       "      <th>12</th>\n",
       "      <td>0.378632</td>\n",
       "      <td>0.326843</td>\n",
       "      <td>0.000000</td>\n",
       "      <td>0.136811</td>\n",
       "      <td>0.474922</td>\n",
       "      <td>0.000000</td>\n",
       "      <td>0.0</td>\n",
       "    </tr>\n",
       "    <tr>\n",
       "      <th>13</th>\n",
       "      <td>0.132031</td>\n",
       "      <td>0.151797</td>\n",
       "      <td>0.004512</td>\n",
       "      <td>0.000000</td>\n",
       "      <td>0.006434</td>\n",
       "      <td>0.041160</td>\n",
       "      <td>0.0</td>\n",
       "    </tr>\n",
       "    <tr>\n",
       "      <th>14</th>\n",
       "      <td>0.438989</td>\n",
       "      <td>0.485103</td>\n",
       "      <td>0.000000</td>\n",
       "      <td>0.465587</td>\n",
       "      <td>0.106033</td>\n",
       "      <td>0.251320</td>\n",
       "      <td>0.0</td>\n",
       "    </tr>\n",
       "    <tr>\n",
       "      <th>15</th>\n",
       "      <td>0.000000</td>\n",
       "      <td>0.158604</td>\n",
       "      <td>0.168268</td>\n",
       "      <td>0.000000</td>\n",
       "      <td>0.487690</td>\n",
       "      <td>0.000000</td>\n",
       "      <td>0.0</td>\n",
       "    </tr>\n",
       "    <tr>\n",
       "      <th>16</th>\n",
       "      <td>0.101132</td>\n",
       "      <td>0.000000</td>\n",
       "      <td>0.000000</td>\n",
       "      <td>0.442150</td>\n",
       "      <td>0.000000</td>\n",
       "      <td>0.000000</td>\n",
       "      <td>0.0</td>\n",
       "    </tr>\n",
       "    <tr>\n",
       "      <th>17</th>\n",
       "      <td>0.186438</td>\n",
       "      <td>0.000000</td>\n",
       "      <td>0.269656</td>\n",
       "      <td>0.000000</td>\n",
       "      <td>0.000000</td>\n",
       "      <td>0.175726</td>\n",
       "      <td>0.0</td>\n",
       "    </tr>\n",
       "    <tr>\n",
       "      <th>18</th>\n",
       "      <td>0.000000</td>\n",
       "      <td>0.000000</td>\n",
       "      <td>0.000000</td>\n",
       "      <td>0.051804</td>\n",
       "      <td>0.000000</td>\n",
       "      <td>0.000000</td>\n",
       "      <td>0.0</td>\n",
       "    </tr>\n",
       "    <tr>\n",
       "      <th>19</th>\n",
       "      <td>0.000000</td>\n",
       "      <td>0.250244</td>\n",
       "      <td>0.000000</td>\n",
       "      <td>0.471689</td>\n",
       "      <td>0.000000</td>\n",
       "      <td>0.000000</td>\n",
       "      <td>0.0</td>\n",
       "    </tr>\n",
       "    <tr>\n",
       "      <th>20</th>\n",
       "      <td>0.000000</td>\n",
       "      <td>0.000000</td>\n",
       "      <td>0.000000</td>\n",
       "      <td>0.000000</td>\n",
       "      <td>0.000000</td>\n",
       "      <td>0.000000</td>\n",
       "      <td>0.0</td>\n",
       "    </tr>\n",
       "  </tbody>\n",
       "</table>\n",
       "</div>"
      ],
      "text/plain": [
       "           a         c         d         b         e         y    f\n",
       "0   0.000000  0.000000  0.000000  0.000000  0.102794  0.000000  0.0\n",
       "1   0.389468  0.247012  0.457715  0.142122  0.346488  0.271232  0.0\n",
       "2   0.074315  0.187233  0.036972  0.000000  0.000000  0.000000  0.0\n",
       "3   0.000000  0.000000  0.000000  0.000000  0.000000  0.369410  0.0\n",
       "4   0.133066  0.000000  0.000000  0.208281  0.234824  0.000000  0.0\n",
       "5   0.397447  0.115304  0.000000  0.000000  0.000000  0.279844  0.0\n",
       "6   0.000000  0.000000  0.463090  0.000000  0.473681  0.000000  0.0\n",
       "7   0.239488  0.453373  0.082169  0.191129  0.271556  0.208201  0.0\n",
       "8   0.000000  0.419953  0.000000  0.000000  0.000000  0.323859  0.0\n",
       "9   0.389550  0.000000  0.000000  0.081433  0.000000  0.278162  0.0\n",
       "10  0.000000  0.349404  0.000000  0.000000  0.431780  0.000000  0.0\n",
       "11  0.052775  0.000000  0.334694  0.153849  0.454398  0.000000  0.0\n",
       "12  0.378632  0.326843  0.000000  0.136811  0.474922  0.000000  0.0\n",
       "13  0.132031  0.151797  0.004512  0.000000  0.006434  0.041160  0.0\n",
       "14  0.438989  0.485103  0.000000  0.465587  0.106033  0.251320  0.0\n",
       "15  0.000000  0.158604  0.168268  0.000000  0.487690  0.000000  0.0\n",
       "16  0.101132  0.000000  0.000000  0.442150  0.000000  0.000000  0.0\n",
       "17  0.186438  0.000000  0.269656  0.000000  0.000000  0.175726  0.0\n",
       "18  0.000000  0.000000  0.000000  0.051804  0.000000  0.000000  0.0\n",
       "19  0.000000  0.250244  0.000000  0.471689  0.000000  0.000000  0.0\n",
       "20  0.000000  0.000000  0.000000  0.000000  0.000000  0.000000  0.0"
      ]
     },
     "execution_count": 263,
     "metadata": {},
     "output_type": "execute_result"
    }
   ],
   "source": [
    "s2"
   ]
  },
  {
   "cell_type": "code",
   "execution_count": 275,
   "metadata": {
    "collapsed": false
   },
   "outputs": [],
   "source": [
    "s4=s3[s3.a<0.06]"
   ]
  },
  {
   "cell_type": "markdown",
   "metadata": {},
   "source": [
    "## 缺失值的处理"
   ]
  },
  {
   "cell_type": "markdown",
   "metadata": {},
   "source": [
    "### reindex() 方法可以对指定的轴上的索引进行修改（增加/删除）"
   ]
  },
  {
   "cell_type": "code",
   "execution_count": 294,
   "metadata": {
    "collapsed": false
   },
   "outputs": [],
   "source": [
    "s4=s3.reindex(index=[i for i in range(11)],columns=list(s3.columns)+['a'])"
   ]
  },
  {
   "cell_type": "code",
   "execution_count": 309,
   "metadata": {
    "collapsed": false
   },
   "outputs": [
    {
     "data": {
      "text/plain": [
       "0.83899796247517222"
      ]
     },
     "execution_count": 309,
     "metadata": {},
     "output_type": "execute_result"
    }
   ],
   "source": [
    "s3.iat[0,1]"
   ]
  },
  {
   "cell_type": "code",
   "execution_count": 312,
   "metadata": {
    "collapsed": false
   },
   "outputs": [],
   "source": [
    "s4=DataFrame(np.array(\n",
    "    [\n",
    "        [1,np.nan,2,3],\n",
    "        [2,3,4,np.nan]\n",
    "    ]\n",
    "))"
   ]
  },
  {
   "cell_type": "code",
   "execution_count": 317,
   "metadata": {
    "collapsed": false
   },
   "outputs": [
    {
     "data": {
      "text/html": [
       "<div>\n",
       "<table border=\"1\" class=\"dataframe\">\n",
       "  <thead>\n",
       "    <tr style=\"text-align: right;\">\n",
       "      <th></th>\n",
       "      <th>0</th>\n",
       "      <th>1</th>\n",
       "      <th>2</th>\n",
       "      <th>3</th>\n",
       "    </tr>\n",
       "  </thead>\n",
       "  <tbody>\n",
       "    <tr>\n",
       "      <th>0</th>\n",
       "      <td>1.0</td>\n",
       "      <td>NaN</td>\n",
       "      <td>2.0</td>\n",
       "      <td>3.0</td>\n",
       "    </tr>\n",
       "    <tr>\n",
       "      <th>1</th>\n",
       "      <td>2.0</td>\n",
       "      <td>3.0</td>\n",
       "      <td>4.0</td>\n",
       "      <td>NaN</td>\n",
       "    </tr>\n",
       "    <tr>\n",
       "      <th>2</th>\n",
       "      <td>1.0</td>\n",
       "      <td>2.0</td>\n",
       "      <td>3.0</td>\n",
       "      <td>4.0</td>\n",
       "    </tr>\n",
       "  </tbody>\n",
       "</table>\n",
       "</div>"
      ],
      "text/plain": [
       "     0    1    2    3\n",
       "0  1.0  NaN  2.0  3.0\n",
       "1  2.0  3.0  4.0  NaN\n",
       "2  1.0  2.0  3.0  4.0"
      ]
     },
     "execution_count": 317,
     "metadata": {},
     "output_type": "execute_result"
    }
   ],
   "source": [
    "s4.ix[2]=[1,2,3,4]\n",
    "s4"
   ]
  },
  {
   "cell_type": "markdown",
   "metadata": {},
   "source": [
    "#### 去除包含缺失值的行"
   ]
  },
  {
   "cell_type": "code",
   "execution_count": 318,
   "metadata": {
    "collapsed": false
   },
   "outputs": [
    {
     "data": {
      "text/html": [
       "<div>\n",
       "<table border=\"1\" class=\"dataframe\">\n",
       "  <thead>\n",
       "    <tr style=\"text-align: right;\">\n",
       "      <th></th>\n",
       "      <th>0</th>\n",
       "      <th>1</th>\n",
       "      <th>2</th>\n",
       "      <th>3</th>\n",
       "    </tr>\n",
       "  </thead>\n",
       "  <tbody>\n",
       "    <tr>\n",
       "      <th>2</th>\n",
       "      <td>1.0</td>\n",
       "      <td>2.0</td>\n",
       "      <td>3.0</td>\n",
       "      <td>4.0</td>\n",
       "    </tr>\n",
       "  </tbody>\n",
       "</table>\n",
       "</div>"
      ],
      "text/plain": [
       "     0    1    2    3\n",
       "2  1.0  2.0  3.0  4.0"
      ]
     },
     "execution_count": 318,
     "metadata": {},
     "output_type": "execute_result"
    }
   ],
   "source": [
    "s4.dropna(how='any')"
   ]
  },
  {
   "cell_type": "code",
   "execution_count": 319,
   "metadata": {
    "collapsed": false
   },
   "outputs": [
    {
     "name": "stdout",
     "output_type": "stream",
     "text": [
      "Help on method dropna in module pandas.core.frame:\n",
      "\n",
      "dropna(self, axis=0, how='any', thresh=None, subset=None, inplace=False) method of pandas.core.frame.DataFrame instance\n",
      "    Return object with labels on given axis omitted where alternately any\n",
      "    or all of the data are missing\n",
      "    \n",
      "    Parameters\n",
      "    ----------\n",
      "    axis : {0 or 'index', 1 or 'columns'}, or tuple/list thereof\n",
      "        Pass tuple or list to drop on multiple axes\n",
      "    how : {'any', 'all'}\n",
      "        * any : if any NA values are present, drop that label\n",
      "        * all : if all values are NA, drop that label\n",
      "    thresh : int, default None\n",
      "        int value : require that many non-NA values\n",
      "    subset : array-like\n",
      "        Labels along other axis to consider, e.g. if you are dropping rows\n",
      "        these would be a list of columns to include\n",
      "    inplace : boolean, default False\n",
      "        If True, do operation inplace and return None.\n",
      "    \n",
      "    Returns\n",
      "    -------\n",
      "    dropped : DataFrame\n",
      "\n"
     ]
    }
   ],
   "source": [
    "help(s4.dropna)"
   ]
  },
  {
   "cell_type": "markdown",
   "metadata": {},
   "source": [
    "### 对缺失值的替换"
   ]
  },
  {
   "cell_type": "code",
   "execution_count": 320,
   "metadata": {
    "collapsed": true
   },
   "outputs": [],
   "source": [
    "s4=DataFrame(np.array(\n",
    "    [\n",
    "        [1,np.nan,2,3],\n",
    "        [2,3,4,np.nan],\n",
    "        [1,3,4,5]\n",
    "    ]\n",
    "))"
   ]
  },
  {
   "cell_type": "code",
   "execution_count": 321,
   "metadata": {
    "collapsed": false
   },
   "outputs": [
    {
     "data": {
      "text/html": [
       "<div>\n",
       "<table border=\"1\" class=\"dataframe\">\n",
       "  <thead>\n",
       "    <tr style=\"text-align: right;\">\n",
       "      <th></th>\n",
       "      <th>0</th>\n",
       "      <th>1</th>\n",
       "      <th>2</th>\n",
       "      <th>3</th>\n",
       "    </tr>\n",
       "  </thead>\n",
       "  <tbody>\n",
       "    <tr>\n",
       "      <th>0</th>\n",
       "      <td>1.0</td>\n",
       "      <td>NaN</td>\n",
       "      <td>2.0</td>\n",
       "      <td>3.0</td>\n",
       "    </tr>\n",
       "    <tr>\n",
       "      <th>1</th>\n",
       "      <td>2.0</td>\n",
       "      <td>3.0</td>\n",
       "      <td>4.0</td>\n",
       "      <td>NaN</td>\n",
       "    </tr>\n",
       "    <tr>\n",
       "      <th>2</th>\n",
       "      <td>1.0</td>\n",
       "      <td>3.0</td>\n",
       "      <td>4.0</td>\n",
       "      <td>5.0</td>\n",
       "    </tr>\n",
       "  </tbody>\n",
       "</table>\n",
       "</div>"
      ],
      "text/plain": [
       "     0    1    2    3\n",
       "0  1.0  NaN  2.0  3.0\n",
       "1  2.0  3.0  4.0  NaN\n",
       "2  1.0  3.0  4.0  5.0"
      ]
     },
     "execution_count": 321,
     "metadata": {},
     "output_type": "execute_result"
    }
   ],
   "source": [
    "s4"
   ]
  },
  {
   "cell_type": "code",
   "execution_count": 323,
   "metadata": {
    "collapsed": false
   },
   "outputs": [
    {
     "data": {
      "text/html": [
       "<div>\n",
       "<table border=\"1\" class=\"dataframe\">\n",
       "  <thead>\n",
       "    <tr style=\"text-align: right;\">\n",
       "      <th></th>\n",
       "      <th>0</th>\n",
       "      <th>1</th>\n",
       "      <th>2</th>\n",
       "      <th>3</th>\n",
       "    </tr>\n",
       "  </thead>\n",
       "  <tbody>\n",
       "    <tr>\n",
       "      <th>0</th>\n",
       "      <td>1.0</td>\n",
       "      <td>0.0</td>\n",
       "      <td>2.0</td>\n",
       "      <td>3.0</td>\n",
       "    </tr>\n",
       "    <tr>\n",
       "      <th>1</th>\n",
       "      <td>2.0</td>\n",
       "      <td>3.0</td>\n",
       "      <td>4.0</td>\n",
       "      <td>0.0</td>\n",
       "    </tr>\n",
       "    <tr>\n",
       "      <th>2</th>\n",
       "      <td>1.0</td>\n",
       "      <td>3.0</td>\n",
       "      <td>4.0</td>\n",
       "      <td>5.0</td>\n",
       "    </tr>\n",
       "  </tbody>\n",
       "</table>\n",
       "</div>"
      ],
      "text/plain": [
       "     0    1    2    3\n",
       "0  1.0  0.0  2.0  3.0\n",
       "1  2.0  3.0  4.0  0.0\n",
       "2  1.0  3.0  4.0  5.0"
      ]
     },
     "execution_count": 323,
     "metadata": {},
     "output_type": "execute_result"
    }
   ],
   "source": [
    "s4.fillna(value=0)"
   ]
  },
  {
   "cell_type": "code",
   "execution_count": 324,
   "metadata": {
    "collapsed": true
   },
   "outputs": [],
   "source": [
    "s5=DataFrame(np.array(\n",
    "    [\n",
    "        [1,np.nan,2,3],\n",
    "        [2,3,4,np.nan],\n",
    "        [1,3,4,5]\n",
    "    ]\n",
    "))"
   ]
  },
  {
   "cell_type": "markdown",
   "metadata": {},
   "source": [
    "### 对数据进行布尔填充，空值的判断"
   ]
  },
  {
   "cell_type": "code",
   "execution_count": 326,
   "metadata": {
    "collapsed": false
   },
   "outputs": [
    {
     "data": {
      "text/html": [
       "<div>\n",
       "<table border=\"1\" class=\"dataframe\">\n",
       "  <thead>\n",
       "    <tr style=\"text-align: right;\">\n",
       "      <th></th>\n",
       "      <th>0</th>\n",
       "      <th>1</th>\n",
       "      <th>2</th>\n",
       "      <th>3</th>\n",
       "    </tr>\n",
       "  </thead>\n",
       "  <tbody>\n",
       "    <tr>\n",
       "      <th>0</th>\n",
       "      <td>False</td>\n",
       "      <td>True</td>\n",
       "      <td>False</td>\n",
       "      <td>False</td>\n",
       "    </tr>\n",
       "    <tr>\n",
       "      <th>1</th>\n",
       "      <td>False</td>\n",
       "      <td>False</td>\n",
       "      <td>False</td>\n",
       "      <td>True</td>\n",
       "    </tr>\n",
       "    <tr>\n",
       "      <th>2</th>\n",
       "      <td>False</td>\n",
       "      <td>False</td>\n",
       "      <td>False</td>\n",
       "      <td>False</td>\n",
       "    </tr>\n",
       "  </tbody>\n",
       "</table>\n",
       "</div>"
      ],
      "text/plain": [
       "       0      1      2      3\n",
       "0  False   True  False  False\n",
       "1  False  False  False   True\n",
       "2  False  False  False  False"
      ]
     },
     "execution_count": 326,
     "metadata": {},
     "output_type": "execute_result"
    }
   ],
   "source": [
    "pd.isnull(s5)"
   ]
  },
  {
   "cell_type": "code",
   "execution_count": 327,
   "metadata": {
    "collapsed": false
   },
   "outputs": [
    {
     "data": {
      "text/html": [
       "<div>\n",
       "<table border=\"1\" class=\"dataframe\">\n",
       "  <thead>\n",
       "    <tr style=\"text-align: right;\">\n",
       "      <th></th>\n",
       "      <th>0</th>\n",
       "      <th>1</th>\n",
       "      <th>2</th>\n",
       "      <th>3</th>\n",
       "    </tr>\n",
       "  </thead>\n",
       "  <tbody>\n",
       "    <tr>\n",
       "      <th>0</th>\n",
       "      <td>1.0</td>\n",
       "      <td>NaN</td>\n",
       "      <td>2.0</td>\n",
       "      <td>3.0</td>\n",
       "    </tr>\n",
       "    <tr>\n",
       "      <th>1</th>\n",
       "      <td>2.0</td>\n",
       "      <td>3.0</td>\n",
       "      <td>4.0</td>\n",
       "      <td>NaN</td>\n",
       "    </tr>\n",
       "    <tr>\n",
       "      <th>2</th>\n",
       "      <td>1.0</td>\n",
       "      <td>3.0</td>\n",
       "      <td>4.0</td>\n",
       "      <td>5.0</td>\n",
       "    </tr>\n",
       "  </tbody>\n",
       "</table>\n",
       "</div>"
      ],
      "text/plain": [
       "     0    1    2    3\n",
       "0  1.0  NaN  2.0  3.0\n",
       "1  2.0  3.0  4.0  NaN\n",
       "2  1.0  3.0  4.0  5.0"
      ]
     },
     "execution_count": 327,
     "metadata": {},
     "output_type": "execute_result"
    }
   ],
   "source": [
    "s5"
   ]
  },
  {
   "cell_type": "markdown",
   "metadata": {},
   "source": [
    "## 其他操作"
   ]
  },
  {
   "cell_type": "markdown",
   "metadata": {},
   "source": [
    "### 数据描述性统计"
   ]
  },
  {
   "cell_type": "code",
   "execution_count": 330,
   "metadata": {
    "collapsed": false
   },
   "outputs": [
    {
     "data": {
      "text/plain": [
       "a    0.510482\n",
       "c    0.534221\n",
       "d    0.660811\n",
       "b    0.707069\n",
       "e    0.737166\n",
       "y    0.778853\n",
       "dtype: float64"
      ]
     },
     "execution_count": 330,
     "metadata": {},
     "output_type": "execute_result"
    }
   ],
   "source": [
    "s3.mean()"
   ]
  },
  {
   "cell_type": "code",
   "execution_count": 338,
   "metadata": {
    "collapsed": false
   },
   "outputs": [
    {
     "data": {
      "text/plain": [
       "0     0.746043\n",
       "1     0.309006\n",
       "2     0.425973\n",
       "3     0.791102\n",
       "4     0.365816\n",
       "5     0.491795\n",
       "6     0.710041\n",
       "7     0.240986\n",
       "8     0.658678\n",
       "9     0.522850\n",
       "10    0.623840\n",
       "11    0.423967\n",
       "12    0.513189\n",
       "13    0.148138\n",
       "14    0.406702\n",
       "15    0.515017\n",
       "16    0.605896\n",
       "17    0.502906\n",
       "18    0.648858\n",
       "19    0.599307\n",
       "20    3.500000\n",
       "dtype: float64"
      ]
     },
     "execution_count": 338,
     "metadata": {},
     "output_type": "execute_result"
    }
   ],
   "source": [
    "s3.mean(1)   #对固定的轴进行统计操作"
   ]
  },
  {
   "cell_type": "code",
   "execution_count": 336,
   "metadata": {
    "collapsed": false
   },
   "outputs": [
    {
     "name": "stdout",
     "output_type": "stream",
     "text": [
      "Help on method mean in module pandas.core.generic:\n",
      "\n",
      "mean(self, axis=None, skipna=None, level=None, numeric_only=None, **kwargs) method of pandas.core.frame.DataFrame instance\n",
      "    Return the mean of the values for the requested axis\n",
      "    \n",
      "    Parameters\n",
      "    ----------\n",
      "    axis : {index (0), columns (1)}\n",
      "    skipna : boolean, default True\n",
      "        Exclude NA/null values. If an entire row/column is NA, the result\n",
      "        will be NA\n",
      "    level : int or level name, default None\n",
      "        If the axis is a MultiIndex (hierarchical), count along a\n",
      "        particular level, collapsing into a Series\n",
      "    numeric_only : boolean, default None\n",
      "        Include only float, int, boolean columns. If None, will attempt to use\n",
      "        everything, then use only numeric data. Not implemented for Series.\n",
      "    \n",
      "    Returns\n",
      "    -------\n",
      "    mean : Series or DataFrame (if level specified)\n",
      "\n"
     ]
    }
   ],
   "source": [
    "help(s3.mean)"
   ]
  },
  {
   "cell_type": "code",
   "execution_count": 340,
   "metadata": {
    "collapsed": false
   },
   "outputs": [
    {
     "data": {
      "text/html": [
       "<div>\n",
       "<table border=\"1\" class=\"dataframe\">\n",
       "  <thead>\n",
       "    <tr style=\"text-align: right;\">\n",
       "      <th></th>\n",
       "      <th>0</th>\n",
       "      <th>1</th>\n",
       "      <th>2</th>\n",
       "      <th>3</th>\n",
       "    </tr>\n",
       "  </thead>\n",
       "  <tbody>\n",
       "    <tr>\n",
       "      <th>0</th>\n",
       "      <td>1.0</td>\n",
       "      <td>NaN</td>\n",
       "      <td>2.0</td>\n",
       "      <td>3.0</td>\n",
       "    </tr>\n",
       "    <tr>\n",
       "      <th>1</th>\n",
       "      <td>3.0</td>\n",
       "      <td>3.0</td>\n",
       "      <td>6.0</td>\n",
       "      <td>NaN</td>\n",
       "    </tr>\n",
       "    <tr>\n",
       "      <th>2</th>\n",
       "      <td>4.0</td>\n",
       "      <td>6.0</td>\n",
       "      <td>10.0</td>\n",
       "      <td>8.0</td>\n",
       "    </tr>\n",
       "  </tbody>\n",
       "</table>\n",
       "</div>"
      ],
      "text/plain": [
       "     0    1     2    3\n",
       "0  1.0  NaN   2.0  3.0\n",
       "1  3.0  3.0   6.0  NaN\n",
       "2  4.0  6.0  10.0  8.0"
      ]
     },
     "execution_count": 340,
     "metadata": {},
     "output_type": "execute_result"
    }
   ],
   "source": [
    "s4.apply(np.cumsum)   #对数据应用函数"
   ]
  },
  {
   "cell_type": "code",
   "execution_count": 341,
   "metadata": {
    "collapsed": false
   },
   "outputs": [
    {
     "data": {
      "text/html": [
       "<div>\n",
       "<table border=\"1\" class=\"dataframe\">\n",
       "  <thead>\n",
       "    <tr style=\"text-align: right;\">\n",
       "      <th></th>\n",
       "      <th>0</th>\n",
       "      <th>1</th>\n",
       "      <th>2</th>\n",
       "      <th>3</th>\n",
       "    </tr>\n",
       "  </thead>\n",
       "  <tbody>\n",
       "    <tr>\n",
       "      <th>0</th>\n",
       "      <td>1.0</td>\n",
       "      <td>NaN</td>\n",
       "      <td>2.0</td>\n",
       "      <td>3.0</td>\n",
       "    </tr>\n",
       "    <tr>\n",
       "      <th>1</th>\n",
       "      <td>2.0</td>\n",
       "      <td>3.0</td>\n",
       "      <td>4.0</td>\n",
       "      <td>NaN</td>\n",
       "    </tr>\n",
       "    <tr>\n",
       "      <th>2</th>\n",
       "      <td>1.0</td>\n",
       "      <td>3.0</td>\n",
       "      <td>4.0</td>\n",
       "      <td>5.0</td>\n",
       "    </tr>\n",
       "  </tbody>\n",
       "</table>\n",
       "</div>"
      ],
      "text/plain": [
       "     0    1    2    3\n",
       "0  1.0  NaN  2.0  3.0\n",
       "1  2.0  3.0  4.0  NaN\n",
       "2  1.0  3.0  4.0  5.0"
      ]
     },
     "execution_count": 341,
     "metadata": {},
     "output_type": "execute_result"
    }
   ],
   "source": [
    "s4"
   ]
  },
  {
   "cell_type": "code",
   "execution_count": 342,
   "metadata": {
    "collapsed": false
   },
   "outputs": [
    {
     "name": "stdout",
     "output_type": "stream",
     "text": [
      "Help on function cumsum in module numpy.core.fromnumeric:\n",
      "\n",
      "cumsum(a, axis=None, dtype=None, out=None)\n",
      "    Return the cumulative sum of the elements along a given axis.\n",
      "    \n",
      "    Parameters\n",
      "    ----------\n",
      "    a : array_like\n",
      "        Input array.\n",
      "    axis : int, optional\n",
      "        Axis along which the cumulative sum is computed. The default\n",
      "        (None) is to compute the cumsum over the flattened array.\n",
      "    dtype : dtype, optional\n",
      "        Type of the returned array and of the accumulator in which the\n",
      "        elements are summed.  If `dtype` is not specified, it defaults\n",
      "        to the dtype of `a`, unless `a` has an integer dtype with a\n",
      "        precision less than that of the default platform integer.  In\n",
      "        that case, the default platform integer is used.\n",
      "    out : ndarray, optional\n",
      "        Alternative output array in which to place the result. It must\n",
      "        have the same shape and buffer length as the expected output\n",
      "        but the type will be cast if necessary. See `doc.ufuncs`\n",
      "        (Section \"Output arguments\") for more details.\n",
      "    \n",
      "    Returns\n",
      "    -------\n",
      "    cumsum_along_axis : ndarray.\n",
      "        A new array holding the result is returned unless `out` is\n",
      "        specified, in which case a reference to `out` is returned. The\n",
      "        result has the same size as `a`, and the same shape as `a` if\n",
      "        `axis` is not None or `a` is a 1-d array.\n",
      "    \n",
      "    \n",
      "    See Also\n",
      "    --------\n",
      "    sum : Sum array elements.\n",
      "    \n",
      "    trapz : Integration of array values using the composite trapezoidal rule.\n",
      "    \n",
      "    diff :  Calculate the n-th discrete difference along given axis.\n",
      "    \n",
      "    Notes\n",
      "    -----\n",
      "    Arithmetic is modular when using integer types, and no error is\n",
      "    raised on overflow.\n",
      "    \n",
      "    Examples\n",
      "    --------\n",
      "    >>> a = np.array([[1,2,3], [4,5,6]])\n",
      "    >>> a\n",
      "    array([[1, 2, 3],\n",
      "           [4, 5, 6]])\n",
      "    >>> np.cumsum(a)\n",
      "    array([ 1,  3,  6, 10, 15, 21])\n",
      "    >>> np.cumsum(a, dtype=float)     # specifies type of output value(s)\n",
      "    array([  1.,   3.,   6.,  10.,  15.,  21.])\n",
      "    \n",
      "    >>> np.cumsum(a,axis=0)      # sum over rows for each of the 3 columns\n",
      "    array([[1, 2, 3],\n",
      "           [5, 7, 9]])\n",
      "    >>> np.cumsum(a,axis=1)      # sum over columns for each of the 2 rows\n",
      "    array([[ 1,  3,  6],\n",
      "           [ 4,  9, 15]])\n",
      "\n"
     ]
    }
   ],
   "source": [
    "help(np.cumsum)"
   ]
  },
  {
   "cell_type": "code",
   "execution_count": 344,
   "metadata": {
    "collapsed": false
   },
   "outputs": [
    {
     "data": {
      "text/plain": [
       "0    1.0\n",
       "1    0.0\n",
       "2    2.0\n",
       "3    2.0\n",
       "dtype: float64"
      ]
     },
     "execution_count": 344,
     "metadata": {},
     "output_type": "execute_result"
    }
   ],
   "source": [
    "s4.apply(lambda x:x.max()-x.min())"
   ]
  },
  {
   "cell_type": "code",
   "execution_count": 345,
   "metadata": {
    "collapsed": false
   },
   "outputs": [
    {
     "data": {
      "text/html": [
       "<div>\n",
       "<table border=\"1\" class=\"dataframe\">\n",
       "  <thead>\n",
       "    <tr style=\"text-align: right;\">\n",
       "      <th></th>\n",
       "      <th>0</th>\n",
       "      <th>1</th>\n",
       "      <th>2</th>\n",
       "      <th>3</th>\n",
       "    </tr>\n",
       "  </thead>\n",
       "  <tbody>\n",
       "    <tr>\n",
       "      <th>0</th>\n",
       "      <td>1.0</td>\n",
       "      <td>NaN</td>\n",
       "      <td>2.0</td>\n",
       "      <td>3.0</td>\n",
       "    </tr>\n",
       "    <tr>\n",
       "      <th>1</th>\n",
       "      <td>2.0</td>\n",
       "      <td>3.0</td>\n",
       "      <td>4.0</td>\n",
       "      <td>NaN</td>\n",
       "    </tr>\n",
       "    <tr>\n",
       "      <th>2</th>\n",
       "      <td>1.0</td>\n",
       "      <td>3.0</td>\n",
       "      <td>4.0</td>\n",
       "      <td>5.0</td>\n",
       "    </tr>\n",
       "  </tbody>\n",
       "</table>\n",
       "</div>"
      ],
      "text/plain": [
       "     0    1    2    3\n",
       "0  1.0  NaN  2.0  3.0\n",
       "1  2.0  3.0  4.0  NaN\n",
       "2  1.0  3.0  4.0  5.0"
      ]
     },
     "execution_count": 345,
     "metadata": {},
     "output_type": "execute_result"
    }
   ],
   "source": [
    "s4"
   ]
  },
  {
   "cell_type": "markdown",
   "metadata": {},
   "source": [
    "### 直方图"
   ]
  },
  {
   "cell_type": "code",
   "execution_count": 348,
   "metadata": {
    "collapsed": true
   },
   "outputs": [],
   "source": [
    "n1=np.random.randint(0,7,size=10)"
   ]
  },
  {
   "cell_type": "code",
   "execution_count": 349,
   "metadata": {
    "collapsed": false
   },
   "outputs": [
    {
     "data": {
      "text/plain": [
       "array([2, 0, 5, 3, 2, 6, 6, 1, 5, 5])"
      ]
     },
     "execution_count": 349,
     "metadata": {},
     "output_type": "execute_result"
    }
   ],
   "source": [
    "n1"
   ]
  },
  {
   "cell_type": "code",
   "execution_count": 355,
   "metadata": {
    "collapsed": false
   },
   "outputs": [],
   "source": [
    "s1=pd.Series(n1)"
   ]
  },
  {
   "cell_type": "code",
   "execution_count": 356,
   "metadata": {
    "collapsed": false
   },
   "outputs": [
    {
     "data": {
      "text/plain": [
       "5    3\n",
       "6    2\n",
       "2    2\n",
       "3    1\n",
       "1    1\n",
       "0    1\n",
       "dtype: int64"
      ]
     },
     "execution_count": 356,
     "metadata": {},
     "output_type": "execute_result"
    }
   ],
   "source": [
    "s1.value_counts()   # 数据元素的统计"
   ]
  },
  {
   "cell_type": "code",
   "execution_count": 357,
   "metadata": {
    "collapsed": true
   },
   "outputs": [],
   "source": [
    "n1=np.random.randint(0,10,size=100)"
   ]
  },
  {
   "cell_type": "code",
   "execution_count": 364,
   "metadata": {
    "collapsed": false
   },
   "outputs": [],
   "source": [
    "df=Series(n1)"
   ]
  },
  {
   "cell_type": "code",
   "execution_count": 365,
   "metadata": {
    "collapsed": false
   },
   "outputs": [
    {
     "data": {
      "text/plain": [
       "0     6\n",
       "1     9\n",
       "2     1\n",
       "3     1\n",
       "4     3\n",
       "5     6\n",
       "6     5\n",
       "7     7\n",
       "8     3\n",
       "9     2\n",
       "10    8\n",
       "11    5\n",
       "12    5\n",
       "13    5\n",
       "14    9\n",
       "15    9\n",
       "16    3\n",
       "17    7\n",
       "18    3\n",
       "19    0\n",
       "20    0\n",
       "21    7\n",
       "22    6\n",
       "23    3\n",
       "24    5\n",
       "25    3\n",
       "26    6\n",
       "27    5\n",
       "28    0\n",
       "29    9\n",
       "     ..\n",
       "70    3\n",
       "71    2\n",
       "72    1\n",
       "73    6\n",
       "74    4\n",
       "75    4\n",
       "76    1\n",
       "77    4\n",
       "78    2\n",
       "79    3\n",
       "80    2\n",
       "81    8\n",
       "82    5\n",
       "83    5\n",
       "84    9\n",
       "85    2\n",
       "86    4\n",
       "87    3\n",
       "88    3\n",
       "89    8\n",
       "90    6\n",
       "91    6\n",
       "92    1\n",
       "93    7\n",
       "94    9\n",
       "95    1\n",
       "96    2\n",
       "97    5\n",
       "98    5\n",
       "99    5\n",
       "dtype: int32"
      ]
     },
     "execution_count": 365,
     "metadata": {},
     "output_type": "execute_result"
    }
   ],
   "source": [
    "df"
   ]
  },
  {
   "cell_type": "code",
   "execution_count": 366,
   "metadata": {
    "collapsed": false
   },
   "outputs": [
    {
     "data": {
      "text/plain": [
       "5    16\n",
       "3    15\n",
       "6    13\n",
       "9    10\n",
       "2    10\n",
       "7     8\n",
       "4     8\n",
       "1     7\n",
       "0     7\n",
       "8     6\n",
       "dtype: int64"
      ]
     },
     "execution_count": 366,
     "metadata": {},
     "output_type": "execute_result"
    }
   ],
   "source": [
    "df.value_counts()"
   ]
  },
  {
   "cell_type": "code",
   "execution_count": 368,
   "metadata": {
    "collapsed": false
   },
   "outputs": [
    {
     "data": {
      "text/plain": [
       "<matplotlib.axes._subplots.AxesSubplot at 0x9c48a20>"
      ]
     },
     "execution_count": 368,
     "metadata": {},
     "output_type": "execute_result"
    }
   ],
   "source": [
    "df.hist(color='k',alpha=0.5)"
   ]
  },
  {
   "cell_type": "code",
   "execution_count": 369,
   "metadata": {
    "collapsed": true
   },
   "outputs": [],
   "source": [
    "%matplotlib inline     # 载入matplotlib 库"
   ]
  },
  {
   "cell_type": "code",
   "execution_count": 370,
   "metadata": {
    "collapsed": false
   },
   "outputs": [
    {
     "data": {
      "text/plain": [
       "<matplotlib.axes._subplots.AxesSubplot at 0xa1af908>"
      ]
     },
     "execution_count": 370,
     "metadata": {},
     "output_type": "execute_result"
    },
    {
     "data": {
      "image/png": "[encoded data removed]",
      "text/plain": [
       "<matplotlib.figure.Figure at 0x9c48a58>"
      ]
     },
     "metadata": {},
     "output_type": "display_data"
    }
   ],
   "source": [
    "df.hist(color='k',alpha=0.5)"
   ]
  },
  {
   "cell_type": "markdown",
   "metadata": {},
   "source": [
    "## 箱形图"
   ]
  },
  {
   "cell_type": "code",
   "execution_count": 382,
   "metadata": {
    "collapsed": false
   },
   "outputs": [],
   "source": [
    "n1=np.random.random((100))"
   ]
  },
  {
   "cell_type": "code",
   "execution_count": 383,
   "metadata": {
    "collapsed": false
   },
   "outputs": [
    {
     "data": {
      "text/plain": [
       "array([ 0.67254109,  0.07475273,  0.61216037,  0.78803151,  0.54442616,\n",
       "        0.12828188,  0.09975556,  0.66768324,  0.02938222,  0.40425076,\n",
       "        0.15158759,  0.64804318,  0.57922253,  0.91760395,  0.40499934,\n",
       "        0.04357978,  0.83193892,  0.36505744,  0.39076181,  0.44652398,\n",
       "        0.42933184,  0.86588408,  0.33759624,  0.17787462,  0.72616453,\n",
       "        0.3527814 ,  0.5909218 ,  0.82182731,  0.08299143,  0.06425946,\n",
       "        0.66343628,  0.85295415,  0.58842008,  0.58876192,  0.2784494 ,\n",
       "        0.45011296,  0.68564045,  0.9900975 ,  0.13767155,  0.88952819,\n",
       "        0.45989228,  0.64718312,  0.09370613,  0.41873627,  0.10014441,\n",
       "        0.21287223,  0.20472669,  0.23058839,  0.49783398,  0.43217078,\n",
       "        0.00303433,  0.91029586,  0.75229811,  0.14563701,  0.21197828,\n",
       "        0.86595768,  0.73982431,  0.24801344,  0.34957526,  0.51523993,\n",
       "        0.19484767,  0.34647642,  0.04870149,  0.63819138,  0.2131713 ,\n",
       "        0.59834702,  0.16691724,  0.29064127,  0.73536458,  0.76465711,\n",
       "        0.16700334,  0.22485507,  0.99144678,  0.43417707,  0.47777792,\n",
       "        0.70906769,  0.23285697,  0.83100303,  0.77326663,  0.37270557,\n",
       "        0.340129  ,  0.31460653,  0.84016206,  0.34645851,  0.60804238,\n",
       "        0.2439853 ,  0.42445526,  0.46174861,  0.15918603,  0.75185235,\n",
       "        0.78760709,  0.52138146,  0.54177471,  0.99374239,  0.77986874,\n",
       "        0.04367546,  0.28790282,  0.63738054,  0.0658994 ,  0.10573352])"
      ]
     },
     "execution_count": 383,
     "metadata": {},
     "output_type": "execute_result"
    }
   ],
   "source": [
    "n1"
   ]
  },
  {
   "cell_type": "code",
   "execution_count": 390,
   "metadata": {
    "collapsed": false
   },
   "outputs": [],
   "source": [
    "df2=DataFrame(n1.reshape(10,-1))"
   ]
  },
  {
   "cell_type": "code",
   "execution_count": 391,
   "metadata": {
    "collapsed": false
   },
   "outputs": [
    {
     "data": {
      "text/plain": [
       "<matplotlib.axes._subplots.AxesSubplot at 0x9dfb9e8>"
      ]
     },
     "execution_count": 391,
     "metadata": {},
     "output_type": "execute_result"
    },
    {
     "data": {
      "image/png": "[encoded data removed]",
      "text/plain": [
       "<matplotlib.figure.Figure at 0xa10a9e8>"
      ]
     },
     "metadata": {},
     "output_type": "display_data"
    }
   ],
   "source": [
    "df2.boxplot()   #箱形图"
   ]
  },
  {
   "cell_type": "markdown",
   "metadata": {},
   "source": [
    "### 抖动图"
   ]
  },
  {
   "cell_type": "code",
   "execution_count": 397,
   "metadata": {
    "collapsed": false
   },
   "outputs": [],
   "source": [
    "def jitter(series,factor):\n",
    "    z=float(series.max())-float(series.min()) #最大值和最小值差值\n",
    "    a=float(factor)*z/50   # 抖动距离使用factor 阈值\n",
    "    return series.apply(lambda x: x+np.random.uniform(-a,a))\n",
    "    "
   ]
  },
  {
   "cell_type": "code",
   "execution_count": 443,
   "metadata": {
    "collapsed": true
   },
   "outputs": [],
   "source": [
    "n1=np.random.randint(50,60,size=100)"
   ]
  },
  {
   "cell_type": "code",
   "execution_count": 446,
   "metadata": {
    "collapsed": false
   },
   "outputs": [],
   "source": [
    "s1=DataFrame(n1.reshape((50,2)))"
   ]
  },
  {
   "cell_type": "code",
   "execution_count": 447,
   "metadata": {
    "collapsed": false
   },
   "outputs": [],
   "source": [
    "s2=jitter(s1[0],1)"
   ]
  },
  {
   "cell_type": "code",
   "execution_count": 448,
   "metadata": {
    "collapsed": false
   },
   "outputs": [
    {
     "data": {
      "text/plain": [
       "0     52.123510\n",
       "1     58.012349\n",
       "2     52.824822\n",
       "3     53.969722\n",
       "4     49.829461\n",
       "5     51.029690\n",
       "6     55.994653\n",
       "7     54.131986\n",
       "8     57.976732\n",
       "9     57.971420\n",
       "10    53.997460\n",
       "11    59.145047\n",
       "12    55.138424\n",
       "13    50.090925\n",
       "14    55.146193\n",
       "15    56.111534\n",
       "16    57.117616\n",
       "17    51.170223\n",
       "18    50.997385\n",
       "19    53.033406\n",
       "20    56.960199\n",
       "21    50.834710\n",
       "22    57.013655\n",
       "23    49.928006\n",
       "24    58.046489\n",
       "25    54.033354\n",
       "26    59.105066\n",
       "27    50.848948\n",
       "28    50.155497\n",
       "29    54.850209\n",
       "30    51.867595\n",
       "31    53.163533\n",
       "32    49.917846\n",
       "33    59.097243\n",
       "34    51.133678\n",
       "35    53.931907\n",
       "36    53.044376\n",
       "37    53.964997\n",
       "38    52.045519\n",
       "39    52.834286\n",
       "40    59.138420\n",
       "41    57.074624\n",
       "42    57.972544\n",
       "43    50.149032\n",
       "44    59.179960\n",
       "45    56.947917\n",
       "46    56.078795\n",
       "47    58.033293\n",
       "48    51.158460\n",
       "49    52.075584\n",
       "Name: 0, dtype: float64"
      ]
     },
     "execution_count": 448,
     "metadata": {},
     "output_type": "execute_result"
    }
   ],
   "source": [
    "s2"
   ]
  },
  {
   "cell_type": "code",
   "execution_count": 449,
   "metadata": {
    "collapsed": true
   },
   "outputs": [],
   "source": [
    "s3=jitter(s1[1],1)"
   ]
  },
  {
   "cell_type": "code",
   "execution_count": 450,
   "metadata": {
    "collapsed": false
   },
   "outputs": [
    {
     "data": {
      "text/plain": [
       "0     55.067653\n",
       "1     49.905900\n",
       "2     58.020886\n",
       "3     55.895488\n",
       "4     52.837326\n",
       "5     58.911006\n",
       "6     58.820179\n",
       "7     50.105592\n",
       "8     54.167879\n",
       "9     54.135004\n",
       "10    50.847848\n",
       "11    49.858170\n",
       "12    54.864867\n",
       "13    55.070589\n",
       "14    56.917822\n",
       "15    51.091862\n",
       "16    50.907922\n",
       "17    56.978524\n",
       "18    49.988693\n",
       "19    50.121551\n",
       "20    57.155825\n",
       "21    58.912528\n",
       "22    56.016979\n",
       "23    53.083853\n",
       "24    56.027485\n",
       "25    53.945993\n",
       "26    53.127822\n",
       "27    55.952568\n",
       "28    59.175573\n",
       "29    53.873568\n",
       "30    53.128513\n",
       "31    58.047874\n",
       "32    51.884349\n",
       "33    57.165780\n",
       "34    52.179848\n",
       "35    57.945012\n",
       "36    53.837373\n",
       "37    49.904352\n",
       "38    56.927702\n",
       "39    58.857475\n",
       "40    59.047213\n",
       "41    58.902717\n",
       "42    53.888954\n",
       "43    52.831127\n",
       "44    58.159211\n",
       "45    50.884329\n",
       "46    59.010744\n",
       "47    57.959840\n",
       "48    58.061866\n",
       "49    52.138035\n",
       "Name: 1, dtype: float64"
      ]
     },
     "execution_count": 450,
     "metadata": {},
     "output_type": "execute_result"
    }
   ],
   "source": [
    "s3"
   ]
  },
  {
   "cell_type": "code",
   "execution_count": 451,
   "metadata": {
    "collapsed": true
   },
   "outputs": [],
   "source": [
    "# 散点图"
   ]
  },
  {
   "cell_type": "code",
   "execution_count": 452,
   "metadata": {
    "collapsed": true
   },
   "outputs": [],
   "source": [
    "df2=s1"
   ]
  },
  {
   "cell_type": "code",
   "execution_count": 453,
   "metadata": {
    "collapsed": false
   },
   "outputs": [],
   "source": [
    "df2[0]=s2\n",
    "df2[1]=s3"
   ]
  },
  {
   "cell_type": "code",
   "execution_count": 454,
   "metadata": {
    "collapsed": false
   },
   "outputs": [
    {
     "data": {
      "text/html": [
       "<div>\n",
       "<table border=\"1\" class=\"dataframe\">\n",
       "  <thead>\n",
       "    <tr style=\"text-align: right;\">\n",
       "      <th></th>\n",
       "      <th>0</th>\n",
       "      <th>1</th>\n",
       "    </tr>\n",
       "  </thead>\n",
       "  <tbody>\n",
       "    <tr>\n",
       "      <th>0</th>\n",
       "      <td>52.123510</td>\n",
       "      <td>55.067653</td>\n",
       "    </tr>\n",
       "    <tr>\n",
       "      <th>1</th>\n",
       "      <td>58.012349</td>\n",
       "      <td>49.905900</td>\n",
       "    </tr>\n",
       "    <tr>\n",
       "      <th>2</th>\n",
       "      <td>52.824822</td>\n",
       "      <td>58.020886</td>\n",
       "    </tr>\n",
       "    <tr>\n",
       "      <th>3</th>\n",
       "      <td>53.969722</td>\n",
       "      <td>55.895488</td>\n",
       "    </tr>\n",
       "    <tr>\n",
       "      <th>4</th>\n",
       "      <td>49.829461</td>\n",
       "      <td>52.837326</td>\n",
       "    </tr>\n",
       "    <tr>\n",
       "      <th>5</th>\n",
       "      <td>51.029690</td>\n",
       "      <td>58.911006</td>\n",
       "    </tr>\n",
       "    <tr>\n",
       "      <th>6</th>\n",
       "      <td>55.994653</td>\n",
       "      <td>58.820179</td>\n",
       "    </tr>\n",
       "    <tr>\n",
       "      <th>7</th>\n",
       "      <td>54.131986</td>\n",
       "      <td>50.105592</td>\n",
       "    </tr>\n",
       "    <tr>\n",
       "      <th>8</th>\n",
       "      <td>57.976732</td>\n",
       "      <td>54.167879</td>\n",
       "    </tr>\n",
       "    <tr>\n",
       "      <th>9</th>\n",
       "      <td>57.971420</td>\n",
       "      <td>54.135004</td>\n",
       "    </tr>\n",
       "    <tr>\n",
       "      <th>10</th>\n",
       "      <td>53.997460</td>\n",
       "      <td>50.847848</td>\n",
       "    </tr>\n",
       "    <tr>\n",
       "      <th>11</th>\n",
       "      <td>59.145047</td>\n",
       "      <td>49.858170</td>\n",
       "    </tr>\n",
       "    <tr>\n",
       "      <th>12</th>\n",
       "      <td>55.138424</td>\n",
       "      <td>54.864867</td>\n",
       "    </tr>\n",
       "    <tr>\n",
       "      <th>13</th>\n",
       "      <td>50.090925</td>\n",
       "      <td>55.070589</td>\n",
       "    </tr>\n",
       "    <tr>\n",
       "      <th>14</th>\n",
       "      <td>55.146193</td>\n",
       "      <td>56.917822</td>\n",
       "    </tr>\n",
       "    <tr>\n",
       "      <th>15</th>\n",
       "      <td>56.111534</td>\n",
       "      <td>51.091862</td>\n",
       "    </tr>\n",
       "    <tr>\n",
       "      <th>16</th>\n",
       "      <td>57.117616</td>\n",
       "      <td>50.907922</td>\n",
       "    </tr>\n",
       "    <tr>\n",
       "      <th>17</th>\n",
       "      <td>51.170223</td>\n",
       "      <td>56.978524</td>\n",
       "    </tr>\n",
       "    <tr>\n",
       "      <th>18</th>\n",
       "      <td>50.997385</td>\n",
       "      <td>49.988693</td>\n",
       "    </tr>\n",
       "    <tr>\n",
       "      <th>19</th>\n",
       "      <td>53.033406</td>\n",
       "      <td>50.121551</td>\n",
       "    </tr>\n",
       "    <tr>\n",
       "      <th>20</th>\n",
       "      <td>56.960199</td>\n",
       "      <td>57.155825</td>\n",
       "    </tr>\n",
       "    <tr>\n",
       "      <th>21</th>\n",
       "      <td>50.834710</td>\n",
       "      <td>58.912528</td>\n",
       "    </tr>\n",
       "    <tr>\n",
       "      <th>22</th>\n",
       "      <td>57.013655</td>\n",
       "      <td>56.016979</td>\n",
       "    </tr>\n",
       "    <tr>\n",
       "      <th>23</th>\n",
       "      <td>49.928006</td>\n",
       "      <td>53.083853</td>\n",
       "    </tr>\n",
       "    <tr>\n",
       "      <th>24</th>\n",
       "      <td>58.046489</td>\n",
       "      <td>56.027485</td>\n",
       "    </tr>\n",
       "    <tr>\n",
       "      <th>25</th>\n",
       "      <td>54.033354</td>\n",
       "      <td>53.945993</td>\n",
       "    </tr>\n",
       "    <tr>\n",
       "      <th>26</th>\n",
       "      <td>59.105066</td>\n",
       "      <td>53.127822</td>\n",
       "    </tr>\n",
       "    <tr>\n",
       "      <th>27</th>\n",
       "      <td>50.848948</td>\n",
       "      <td>55.952568</td>\n",
       "    </tr>\n",
       "    <tr>\n",
       "      <th>28</th>\n",
       "      <td>50.155497</td>\n",
       "      <td>59.175573</td>\n",
       "    </tr>\n",
       "    <tr>\n",
       "      <th>29</th>\n",
       "      <td>54.850209</td>\n",
       "      <td>53.873568</td>\n",
       "    </tr>\n",
       "    <tr>\n",
       "      <th>30</th>\n",
       "      <td>51.867595</td>\n",
       "      <td>53.128513</td>\n",
       "    </tr>\n",
       "    <tr>\n",
       "      <th>31</th>\n",
       "      <td>53.163533</td>\n",
       "      <td>58.047874</td>\n",
       "    </tr>\n",
       "    <tr>\n",
       "      <th>32</th>\n",
       "      <td>49.917846</td>\n",
       "      <td>51.884349</td>\n",
       "    </tr>\n",
       "    <tr>\n",
       "      <th>33</th>\n",
       "      <td>59.097243</td>\n",
       "      <td>57.165780</td>\n",
       "    </tr>\n",
       "    <tr>\n",
       "      <th>34</th>\n",
       "      <td>51.133678</td>\n",
       "      <td>52.179848</td>\n",
       "    </tr>\n",
       "    <tr>\n",
       "      <th>35</th>\n",
       "      <td>53.931907</td>\n",
       "      <td>57.945012</td>\n",
       "    </tr>\n",
       "    <tr>\n",
       "      <th>36</th>\n",
       "      <td>53.044376</td>\n",
       "      <td>53.837373</td>\n",
       "    </tr>\n",
       "    <tr>\n",
       "      <th>37</th>\n",
       "      <td>53.964997</td>\n",
       "      <td>49.904352</td>\n",
       "    </tr>\n",
       "    <tr>\n",
       "      <th>38</th>\n",
       "      <td>52.045519</td>\n",
       "      <td>56.927702</td>\n",
       "    </tr>\n",
       "    <tr>\n",
       "      <th>39</th>\n",
       "      <td>52.834286</td>\n",
       "      <td>58.857475</td>\n",
       "    </tr>\n",
       "    <tr>\n",
       "      <th>40</th>\n",
       "      <td>59.138420</td>\n",
       "      <td>59.047213</td>\n",
       "    </tr>\n",
       "    <tr>\n",
       "      <th>41</th>\n",
       "      <td>57.074624</td>\n",
       "      <td>58.902717</td>\n",
       "    </tr>\n",
       "    <tr>\n",
       "      <th>42</th>\n",
       "      <td>57.972544</td>\n",
       "      <td>53.888954</td>\n",
       "    </tr>\n",
       "    <tr>\n",
       "      <th>43</th>\n",
       "      <td>50.149032</td>\n",
       "      <td>52.831127</td>\n",
       "    </tr>\n",
       "    <tr>\n",
       "      <th>44</th>\n",
       "      <td>59.179960</td>\n",
       "      <td>58.159211</td>\n",
       "    </tr>\n",
       "    <tr>\n",
       "      <th>45</th>\n",
       "      <td>56.947917</td>\n",
       "      <td>50.884329</td>\n",
       "    </tr>\n",
       "    <tr>\n",
       "      <th>46</th>\n",
       "      <td>56.078795</td>\n",
       "      <td>59.010744</td>\n",
       "    </tr>\n",
       "    <tr>\n",
       "      <th>47</th>\n",
       "      <td>58.033293</td>\n",
       "      <td>57.959840</td>\n",
       "    </tr>\n",
       "    <tr>\n",
       "      <th>48</th>\n",
       "      <td>51.158460</td>\n",
       "      <td>58.061866</td>\n",
       "    </tr>\n",
       "    <tr>\n",
       "      <th>49</th>\n",
       "      <td>52.075584</td>\n",
       "      <td>52.138035</td>\n",
       "    </tr>\n",
       "  </tbody>\n",
       "</table>\n",
       "</div>"
      ],
      "text/plain": [
       "            0          1\n",
       "0   52.123510  55.067653\n",
       "1   58.012349  49.905900\n",
       "2   52.824822  58.020886\n",
       "3   53.969722  55.895488\n",
       "4   49.829461  52.837326\n",
       "5   51.029690  58.911006\n",
       "6   55.994653  58.820179\n",
       "7   54.131986  50.105592\n",
       "8   57.976732  54.167879\n",
       "9   57.971420  54.135004\n",
       "10  53.997460  50.847848\n",
       "11  59.145047  49.858170\n",
       "12  55.138424  54.864867\n",
       "13  50.090925  55.070589\n",
       "14  55.146193  56.917822\n",
       "15  56.111534  51.091862\n",
       "16  57.117616  50.907922\n",
       "17  51.170223  56.978524\n",
       "18  50.997385  49.988693\n",
       "19  53.033406  50.121551\n",
       "20  56.960199  57.155825\n",
       "21  50.834710  58.912528\n",
       "22  57.013655  56.016979\n",
       "23  49.928006  53.083853\n",
       "24  58.046489  56.027485\n",
       "25  54.033354  53.945993\n",
       "26  59.105066  53.127822\n",
       "27  50.848948  55.952568\n",
       "28  50.155497  59.175573\n",
       "29  54.850209  53.873568\n",
       "30  51.867595  53.128513\n",
       "31  53.163533  58.047874\n",
       "32  49.917846  51.884349\n",
       "33  59.097243  57.165780\n",
       "34  51.133678  52.179848\n",
       "35  53.931907  57.945012\n",
       "36  53.044376  53.837373\n",
       "37  53.964997  49.904352\n",
       "38  52.045519  56.927702\n",
       "39  52.834286  58.857475\n",
       "40  59.138420  59.047213\n",
       "41  57.074624  58.902717\n",
       "42  57.972544  53.888954\n",
       "43  50.149032  52.831127\n",
       "44  59.179960  58.159211\n",
       "45  56.947917  50.884329\n",
       "46  56.078795  59.010744\n",
       "47  58.033293  57.959840\n",
       "48  51.158460  58.061866\n",
       "49  52.075584  52.138035"
      ]
     },
     "execution_count": 454,
     "metadata": {},
     "output_type": "execute_result"
    }
   ],
   "source": [
    "df2"
   ]
  },
  {
   "cell_type": "code",
   "execution_count": 460,
   "metadata": {
    "collapsed": false
   },
   "outputs": [
    {
     "data": {
      "image/png": "[encoded data removed]",
      "text/plain": [
       "<matplotlib.figure.Figure at 0xb2b8668>"
      ]
     },
     "execution_count": 460,
     "metadata": {},
     "output_type": "execute_result"
    },
    {
     "data": {
      "image/png": "[encoded data removed]",
      "text/plain": [
       "<matplotlib.figure.Figure at 0xb2b8668>"
      ]
     },
     "metadata": {},
     "output_type": "display_data"
    }
   ],
   "source": [
    "df2.plot(kind='scatter',x=1,y=0,alpha=0.5).get_figure()"
   ]
  },
  {
   "cell_type": "code",
   "execution_count": 461,
   "metadata": {
    "collapsed": false
   },
   "outputs": [
    {
     "data": {
      "image/png": "[encoded data removed]",
      "text/plain": [
       "<matplotlib.figure.Figure at 0xccf0748>"
      ]
     },
     "execution_count": 461,
     "metadata": {},
     "output_type": "execute_result"
    },
    {
     "data": {
      "image/png": "[encoded data removed]",
      "text/plain": [
       "<matplotlib.figure.Figure at 0xccf0748>"
      ]
     },
     "metadata": {},
     "output_type": "display_data"
    }
   ],
   "source": [
    "s1.plot(kind='scatter',x=1,y=0,alpha=0.5).get_figure()"
   ]
  },
  {
   "cell_type": "code",
   "execution_count": null,
   "metadata": {
    "collapsed": true
   },
   "outputs": [],
   "source": []
  }
 ],
 "metadata": {
  "kernelspec": {
   "display_name": "Python 2",
   "language": "python",
   "name": "python2"
  },
  "language_info": {
   "codemirror_mode": {
    "name": "ipython",
    "version": 2
   },
   "file_extension": ".py",
   "mimetype": "text/x-python",
   "name": "python",
   "nbconvert_exporter": "python",
   "pygments_lexer": "ipython2",
   "version": "2.7.13"
  }
 },
 "nbformat": 4,
 "nbformat_minor": 2
}
