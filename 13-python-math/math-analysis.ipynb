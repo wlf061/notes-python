{
 "cells": [
  {
   "cell_type": "heading",
   "metadata": {
    "collapsed": true
   },
   "level": 1,
   "source": [
    "指数函数和对数函数的曲线图"
   ]
  },
  {
   "cell_type": "code",
   "execution_count": 11,
   "metadata": {},
   "outputs": [],
   "source": [
    "import numpy as np\n",
    "import matplotlib as mpl\n",
    "import matplotlib.pyplot as plt\n",
    "import math\n",
    "from mpl_toolkits.mplot3d import Axes3D"
   ]
  },
  {
   "cell_type": "code",
   "execution_count": 7,
   "metadata": {},
   "outputs": [
    {
     "name": "stdout",
     "output_type": "stream",
     "text": [
      "[0.05 0.1  0.15 0.2  0.25 0.3  0.35 0.4  0.45 0.5  0.55 0.6  0.65 0.7\n 0.75 0.8  0.85 0.9  0.95 1.   1.05 1.1  1.15 1.2  1.25 1.3  1.35 1.4\n 1.45 1.5  1.55 1.6  1.65 1.7  1.75 1.8  1.85 1.9  1.95 2.   2.05 2.1\n 2.15 2.2  2.25 2.3  2.35 2.4  2.45 2.5  2.55 2.6  2.65 2.7  2.75 2.8\n 2.85 2.9  2.95]\n"
     ]
    }
   ],
   "source": [
    "x = np.arange(0.05,3,0.05)\n",
    "y1 = [math.pow(2, i) for i in x]\n",
    "y2 = [math.log(i, 2) for i in x]\n",
    "plt.plot(x, y1, linewidth=2,color=\"g\", label='2^x')\n",
    "plt.plot(x, y2, linewidth=2,color=\"r\", label='log2(x)')\n",
    "plt.legend(loc='lower right')   ###在右下角画出label\n",
    "plt.xlim(1,3)  ###限制x轴坐标\n",
    "plt.grid(True)\n",
    "plt.show()"
   ]
  },
  {
   "cell_type": "heading",
   "metadata": {},
   "level": 1,
   "source": [
    "y=x^2 曲线图"
   ]
  },
  {
   "cell_type": "code",
   "execution_count": 16,
   "metadata": {},
   "outputs": [],
   "source": [
    "x = np.arange(-10, 11, 0.5)\n",
    "y2 = [math.pow(i, 2) for i in x]\n",
    "plt.plot(x, y2, linewidth=2, color='g', label='$y=x^2$')\n",
    "plt.plot([1], [0], 'ro')\n",
    "plt.legend(loc='lower right')\n",
    "plt.xlim(-10, 10)\n",
    "plt.grid(True)\n",
    "plt.show()\n"
   ]
  },
  {
   "cell_type": "heading",
   "metadata": {},
   "level": 1,
   "source": [
    "sin 函数和cos 函数"
   ]
  },
  {
   "cell_type": "code",
   "execution_count": 17,
   "metadata": {},
   "outputs": [],
   "source": [
    "def f(x):\n",
    "    return math.sin(x)\n",
    "\n",
    "def h(x):\n",
    "    return math.cos(x)\n",
    "\n",
    "def g(x):\n",
    "    a = math.sin(x)\n",
    "    return a * -1\n",
    "\n",
    "x = np.arange(-5, 5, 0.05)\n",
    "y = [f(i) for i in x]\n",
    "y2 = [h(i) for i in x]\n",
    "y3 = [g(i) for i in x]\n",
    "plt.plot(x, y, linewidth=2, color='r', label=u'函数y=sin(x)')\n",
    "plt.plot(x, y2, linewidth=2, color='g', label=u'一阶导数y=cos(x)')\n",
    "plt.plot(x, y3, linewidth=2, color='b', label=u'二阶导数y=-sin(x)')\n",
    "plt.plot([-5, 5], [0, 0], '--', color='#666666')\n",
    "plt.legend(loc='lower right')\n",
    "plt.grid(True)\n",
    "plt.show()\n"
   ]
  },
  {
   "cell_type": "code",
   "execution_count": null,
   "metadata": {},
   "outputs": [],
   "source": []
  }
 ],
 "metadata": {
  "kernelspec": {
   "display_name": "Python 2",
   "language": "python",
   "name": "python2"
  },
  "language_info": {
   "codemirror_mode": {
    "name": "ipython",
    "version": 2
   },
   "file_extension": ".py",
   "mimetype": "text/x-python",
   "name": "python",
   "nbconvert_exporter": "python",
   "pygments_lexer": "ipython2",
   "version": "2.7.6"
  }
 },
 "nbformat": 4,
 "nbformat_minor": 0
}
