{
 "cells": [
  {
   "cell_type": "markdown",
   "metadata": {},
   "source": [
    "np.linalg.norm(求范数)"
   ]
  },
  {
   "cell_type": "markdown",
   "metadata": {},
   "source": [
    "x_norm=np.linalg.norm(x, ord=None, axis=None, keepdims=False) "
   ]
  },
  {
   "cell_type": "markdown",
   "metadata": {},
   "source": [
    "![image.png](attachment:image.png)"
   ]
  },
  {
   "cell_type": "markdown",
   "metadata": {},
   "source": [
    "③axis：处理类型\n",
    "\n",
    "axis=1表示按行向量处理，求多个行向量的范数\n",
    "\n",
    "axis=0表示按列向量处理，求多个列向量的范数\n",
    "\n",
    "axis=None表示矩阵范数。\n",
    "\n",
    "④keepding：是否保持矩阵的二维特性\n",
    "\n",
    "True表示保持矩阵的二维特性，False相反"
   ]
  },
  {
   "cell_type": "code",
   "execution_count": 18,
   "metadata": {
    "scrolled": true
   },
   "outputs": [
    {
     "name": "stdout",
     "output_type": "stream",
     "text": [
      "默认参数(矩阵2范数，不保留矩阵二维特性)： 8.831760866327848\n",
      "矩阵2范数，保留矩阵二维特性： [[8.83176087]]\n",
      "矩阵每个行向量求向量的2范数： [[5.        ]\n",
      " [7.28010989]]\n",
      "矩阵每个列向量求向量的2范数： [[1.         6.70820393 5.65685425]]\n",
      "矩阵1范数： [[9.]]\n",
      "矩阵2范数： [[8.70457079]]\n",
      "矩阵∞范数： [[11.]]\n",
      "矩阵每个行向量求向量的1范数： [[ 7.]\n",
      " [11.]]\n"
     ]
    }
   ],
   "source": [
    "import numpy as np  \n",
    "x = np.array([  \n",
    "    [0, 3, 4],  \n",
    "    [1, 6, 4]])  \n",
    "#默认参数ord=None，axis=None，keepdims=False  \n",
    "print (\"默认参数(矩阵2范数，不保留矩阵二维特性)：\",np.linalg.norm(x))\n",
    "print(\"矩阵2范数，保留矩阵二维特性：\",np.linalg.norm(x,keepdims=True))  \n",
    "  \n",
    "print(\"矩阵每个行向量求向量的2范数：\",np.linalg.norm(x,axis=1,keepdims=True)) \n",
    "print(\"矩阵每个列向量求向量的2范数：\",np.linalg.norm(x,axis=0,keepdims=True)) \n",
    "  \n",
    "print(\"矩阵1范数：\",np.linalg.norm(x,ord=1,keepdims=True)) \n",
    "print(\"矩阵2范数：\",np.linalg.norm(x,ord=2,keepdims=True))  \n",
    "print(\"矩阵∞范数：\",np.linalg.norm(x,ord=np.inf,keepdims=True))  \n",
    "  \n",
    "print(\"矩阵每个行向量求向量的1范数：\",np.linalg.norm(x,ord=1,axis=1,keepdims=True))"
   ]
  },
  {
   "cell_type": "code",
   "execution_count": null,
   "metadata": {},
   "outputs": [],
   "source": [
    "#####numpy 数组 行列比较"
   ]
  },
  {
   "cell_type": "code",
   "execution_count": 27,
   "metadata": {},
   "outputs": [
    {
     "name": "stdout",
     "output_type": "stream",
     "text": [
      "(3,)\n",
      "[0 3 4]\n"
     ]
    }
   ],
   "source": [
    "x1 = np.array([0, 3, 4])    ###秩为3的数组\n",
    "print(x1.shape)\n",
    "print(x1)"
   ]
  },
  {
   "cell_type": "code",
   "execution_count": 28,
   "metadata": {},
   "outputs": [
    {
     "name": "stdout",
     "output_type": "stream",
     "text": [
      "(1, 3)\n",
      "[[0 3 4]]\n"
     ]
    }
   ],
   "source": [
    "x2 = np.array([[0, 3, 4]])     ###矩阵\n",
    "print(x2.shape)\n",
    "print(x2)"
   ]
  },
  {
   "cell_type": "code",
   "execution_count": 21,
   "metadata": {},
   "outputs": [
    {
     "name": "stdout",
     "output_type": "stream",
     "text": [
      "(2, 3)\n"
     ]
    }
   ],
   "source": [
    "x3 = np.array([[0, 3, 4],[1, 6, 4]])\n",
    "print(x3.shape)"
   ]
  },
  {
   "cell_type": "code",
   "execution_count": 26,
   "metadata": {},
   "outputs": [
    {
     "name": "stdout",
     "output_type": "stream",
     "text": [
      "(1, 2, 3)\n",
      "[[0 3 4 1 6 4]]\n"
     ]
    }
   ],
   "source": [
    "x4 = np.array([[[0, 3, 4],[1, 6, 4]]])\n",
    "print(x4.shape)\n",
    "print(x4.reshape(x4.shape[0],-1))"
   ]
  },
  {
   "cell_type": "code",
   "execution_count": 29,
   "metadata": {},
   "outputs": [
    {
     "name": "stdout",
     "output_type": "stream",
     "text": [
      "[[0.]\n",
      " [0.]\n",
      " [0.]\n",
      " [0.]]\n"
     ]
    }
   ],
   "source": [
    "### 初始化数组\n",
    "w = np.zeros((4, 1))\n",
    "print(w)"
   ]
  },
  {
   "cell_type": "code",
   "execution_count": 40,
   "metadata": {},
   "outputs": [
    {
     "name": "stdout",
     "output_type": "stream",
     "text": [
      "(3, 3, 2)\n",
      "[[0.67826139 0.29380381 0.90714982 0.52835647 0.4215251  0.45017551]\n",
      " [0.92814219 0.96677647 0.85304703 0.52351845 0.19981397 0.27417313]\n",
      " [0.60659855 0.00533165 0.10820313 0.49978937 0.34144279 0.94630077]]\n",
      "(3, 3, 2)\n"
     ]
    }
   ],
   "source": [
    "x4 = np.array([[[ 0.67826139,  0.29380381],\n",
    "        [ 0.90714982,  0.52835647],\n",
    "        [ 0.4215251 ,  0.45017551]],\n",
    "\n",
    "       [[ 0.92814219,  0.96677647],\n",
    "        [ 0.85304703,  0.52351845],\n",
    "        [ 0.19981397,  0.27417313]],\n",
    "\n",
    "       [[ 0.60659855,  0.00533165],\n",
    "        [ 0.10820313,  0.49978937],\n",
    "        [ 0.34144279,  0.94630077]]])\n",
    "print(x4.shape)\n",
    "print(x4.reshape(x4.shape[0],-1))\n",
    "print(np.squeeze(x4).shape)"
   ]
  },
  {
   "cell_type": "code",
   "execution_count": 36,
   "metadata": {},
   "outputs": [
    {
     "name": "stdout",
     "output_type": "stream",
     "text": [
      "(1, 3, 1)\n"
     ]
    }
   ],
   "source": [
    "###测试np.squeeze 的功能, ### 从数组的形状中删除单维条目，即把shape中为1的维度去掉\n",
    "x5 = np.array([[[0], [1], [2]]])\n",
    "print(x5.shape)"
   ]
  },
  {
   "cell_type": "code",
   "execution_count": 39,
   "metadata": {},
   "outputs": [
    {
     "name": "stdout",
     "output_type": "stream",
     "text": [
      "(3,)\n"
     ]
    }
   ],
   "source": [
    "X6 = np.squeeze(x5)\n",
    "print(X6.shape)"
   ]
  },
  {
   "cell_type": "code",
   "execution_count": null,
   "metadata": {},
   "outputs": [],
   "source": [
    "\n",
    "print(x)\n",
    "\"\"\"\n",
    "x=\n",
    "\n",
    "[[[0]\n",
    "  [1]\n",
    "  [2]]]\n",
    "\"\"\"\n",
    "print(x.shape)  # (1, 3, 1)\n",
    "\n",
    "x1 = np.squeeze(x)  # 从数组的形状中删除单维条目，即把shape中为1的维度去掉\n",
    "\n",
    "\n",
    "print(x1)  # [0 1 2]\n",
    "print(x1.shape)  # (3,)"
   ]
  }
 ],
 "metadata": {
  "kernelspec": {
   "display_name": "Python 3",
   "language": "python",
   "name": "python3"
  },
  "language_info": {
   "codemirror_mode": {
    "name": "ipython",
    "version": 3
   },
   "file_extension": ".py",
   "mimetype": "text/x-python",
   "name": "python",
   "nbconvert_exporter": "python",
   "pygments_lexer": "ipython3",
   "version": "3.6.4"
  }
 },
 "nbformat": 4,
 "nbformat_minor": 2
}
